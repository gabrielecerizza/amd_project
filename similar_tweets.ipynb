{
 "cells": [
  {
   "cell_type": "code",
   "execution_count": 1,
   "metadata": {},
   "outputs": [],
   "source": [
    "import csv\n",
    "import os\n",
    "import random\n",
    "import re\n",
    "import string\n",
    "import unicodedata\n",
    "import zlib\n",
    "from collections import defaultdict\n",
    "from itertools import combinations\n",
    "from typing import Callable, Optional\n",
    "\n",
    "import numpy as np\n",
    "import pandas as pd\n",
    "import spacy\n",
    "from scipy.optimize import fsolve\n",
    "from tqdm.auto import tqdm"
   ]
  },
  {
   "cell_type": "code",
   "execution_count": 2,
   "metadata": {},
   "outputs": [],
   "source": [
    "spacy.prefer_gpu()\n",
    "nlp = spacy.load('en_core_web_sm')"
   ]
  },
  {
   "cell_type": "code",
   "execution_count": null,
   "metadata": {},
   "outputs": [],
   "source": [
    "def is_prime(n: int):\n",
    "    if n < 2:\n",
    "        return False\n",
    "    for i in range(2, int(np.sqrt(n))+1):\n",
    "        if (n % i) == 0:\n",
    "            return False\n",
    "    return True\n",
    "\n",
    "def find_closest_prime(n):\n",
    "    while True:\n",
    "        if is_prime(n):\n",
    "            return n\n",
    "        n += 1\n",
    "\n",
    "class HashGenerator:\n",
    "    def __init__(\n",
    "        self, \n",
    "        num_rows: int = np.iinfo(np.uint32).max, \n",
    "        # prime: int = 4294967387\n",
    "    ) -> None:\n",
    "        # assert is_prime(prime)\n",
    "        # assert prime >= num_rows\n",
    "\n",
    "        self.num_rows = num_rows\n",
    "        self.prime = find_closest_prime(num_rows)\n",
    "        self.a_set = set()\n",
    "        self.b_set = set()\n",
    "\n",
    "    def get_num_rows(self) -> int:\n",
    "        return self.num_rows\n",
    "\n",
    "    def next(self) -> Callable[[np.uint32], np.uint32]:\n",
    "        a = self._generate_coeff(self.a_set, self.num_rows)\n",
    "        b = self._generate_coeff(self.b_set, self.num_rows)\n",
    "        return lambda row: np.uint32((a * row + b) % self.prime)\n",
    "\n",
    "    def reset(self) -> None:\n",
    "        self.a_set = set()\n",
    "        self.b_set = set()\n",
    "\n",
    "    def _generate_coeff(\n",
    "        self, \n",
    "        coeff_set: set[int],\n",
    "        max_val: int\n",
    "    ) -> int:\n",
    "        while True:\n",
    "            coeff = random.randint(1, max_val)\n",
    "            if coeff not in coeff_set:\n",
    "                coeff_set.add(coeff)\n",
    "                return coeff\n",
    "    "
   ]
  },
  {
   "cell_type": "markdown",
   "metadata": {},
   "source": [
    "# Preprocessing"
   ]
  },
  {
   "cell_type": "code",
   "execution_count": 3,
   "metadata": {},
   "outputs": [],
   "source": [
    "def normalize_white_space(doc: str) -> str:\n",
    "    return \" \".join(doc.split())\n",
    "\n",
    "def remove_https(doc: str) -> str:\n",
    "    return re.sub(r'https?://[^ ]+', '', doc)\n",
    "\n",
    "def replace_chars(doc: str) -> str:\n",
    "    doc = doc.replace('&amp;', ' and ')\n",
    "    doc = doc.replace('@', ' ')\n",
    "    doc = doc.replace('$', ' ')\n",
    "    doc = doc.replace('_', ' ')\n",
    "    doc = doc.replace('|', ' ')\n",
    "\n",
    "    return doc\n",
    "\n",
    "def remove_non_ascii(doc: str) -> str:\n",
    "    \"\"\"We keep cyrillic characters due to the nature\n",
    "    of the dataset.\n",
    "    \"\"\"\n",
    "    cyr_chars = \"АаБбВвГгДдЕеЁёЖжЗзИиЙйКкЛлМмНнОоПпРрСсТтУуФфХхЦцЧчШшЩщЪъЫыЬьЭэЮюЯя\"\n",
    "\n",
    "    res = \"\"\n",
    "    for c in doc:\n",
    "        if (c.isascii() and c.isprintable()) \\\n",
    "            or (c in cyr_chars) or c.isspace():\n",
    "            res += c\n",
    "    return res\n",
    "\n",
    "def strip_accents(doc: str) -> str:\n",
    "    \"\"\"Deal with accents and special characters such as\n",
    "    𝕒, 𝕕, 𝕖, 𝙖, 𝙘, 𝙙.\n",
    "    \"\"\"\n",
    "    return unicodedata.normalize('NFKD', doc)\n",
    "\n",
    "def strip_punctuation(doc: str) -> str:\n",
    "    return re.sub('[' + re.escape(string.punctuation) + ']', '', doc)\n",
    "    \n",
    "def get_lemmatizer( \n",
    "    nlp: spacy.pipeline, \n",
    "    allow_stop_words: bool = False,\n",
    "    allow_punct: bool = False,\n",
    "    allow_numbers: bool = False\n",
    ") -> Callable[[str], str]:\n",
    "    def inner_f(doc):\n",
    "        return ' '.join(\n",
    "            [\n",
    "                token.lemma_\n",
    "                for token in nlp(doc)\n",
    "                if (not token.is_stop or allow_stop_words) \\\n",
    "                    and (not token.is_punct or allow_punct) \\\n",
    "                    and (token.pos_ != 'NUM' or allow_numbers) \\\n",
    "                    and (not token.pos_ == 'X')\n",
    "            ]\n",
    "        )\n",
    "    return inner_f"
   ]
  },
  {
   "cell_type": "code",
   "execution_count": null,
   "metadata": {},
   "outputs": [],
   "source": [
    "def jaccard_similarity(\n",
    "    x: np.ndarray, \n",
    "    y: np.ndarray\n",
    ") -> float:\n",
    "    numerator = len(set(x).intersection(set(y)))\n",
    "    denominator = len(set(x).union(set(y)))\n",
    "    return numerator / denominator\n",
    "\n",
    "class LSHModel:\n",
    "    def __init__(\n",
    "        self,\n",
    "        k: int,\n",
    "        threshold: float,\n",
    "        num_hashes: int,\n",
    "        hash_generator: HashGenerator,\n",
    "        shingle_hash: Callable = zlib.crc32\n",
    "    ) -> None:\n",
    "        self.k = k\n",
    "        self.threshold = threshold\n",
    "        self.num_hashes = num_hashes\n",
    "        self.hash_generator = hash_generator\n",
    "        self.num_rows = self.hash_generator.get_num_rows()\n",
    "        self.shingle_dict = dict()\n",
    "        # self.num_shingles = 0\n",
    "        self.shingle_hash = shingle_hash\n",
    "        self.num_docs = 0\n",
    "        self.docs_dict = dict()\n",
    "        self.signature = None\n",
    "        self.candidate_pairs = set()\n",
    "        self.fp_pairs = set()\n",
    "        self.similar_pairs = set()\n",
    "        self.b = -1\n",
    "        self.r = -1\n",
    "\n",
    "    def add_document(\n",
    "        self, \n",
    "        doc: str,\n",
    "        preprocessing_pipeline: Optional[list[Callable[[str], str]]] = None\n",
    "    ) -> None:\n",
    "        if preprocessing_pipeline is not None:\n",
    "            for f in preprocessing_pipeline:\n",
    "                doc = f(doc)\n",
    "        shingles = self._create_shingles(doc, self.k)\n",
    "        self.docs_dict[self.num_docs] = shingles\n",
    "        self.num_docs += 1\n",
    "\n",
    "    def get_similar_pairs(self) -> set[tuple[int, int]]:\n",
    "        if self.num_hashes > len(self.shingle_dict):\n",
    "            raise ValueError(\n",
    "                f\"Number of hash functions must be lower than \"\n",
    "                f\"or equal to the number of shingles. Found \"\n",
    "                f\"{self.num_hashes} hash functions and \"\n",
    "                f\"{len(self.shingle_dict)} shingles.\"\n",
    "            )\n",
    "        \n",
    "        hg = HashGenerator(len(self.shingle_dict))\n",
    "        hash_functions = [\n",
    "            hg.next()\n",
    "            for _ in range(self.num_hashes)\n",
    "        ]\n",
    "        self.signature = self._build_signature(\n",
    "            self.docs_dict,\n",
    "            len(self.shingle_dict),\n",
    "            hash_functions\n",
    "        )\n",
    "        self.b, self.r = self._find_lsh_params(\n",
    "            self.threshold,\n",
    "            self.num_hashes\n",
    "        )\n",
    "        self.candidate_pairs = self._lsh(\n",
    "            self.signature,\n",
    "            self.b\n",
    "        )\n",
    "        self.similar_pairs, self.fp_pairs = \\\n",
    "            self._check_threshold_on_signature(\n",
    "                self.candidate_pairs,\n",
    "                self.signature,\n",
    "                self.threshold\n",
    "            )\n",
    "        return self.similar_pairs\n",
    "        \n",
    "    def _create_shingles(\n",
    "        self, \n",
    "        doc: str,\n",
    "        k: int\n",
    "    ) -> np.ndarray:\n",
    "        encoded_shingles = []\n",
    "        \n",
    "        for i in range(len(doc[:-k+1])):\n",
    "            shingle = doc[i:i+k]\n",
    "            if not shingle in self.shingle_dict:\n",
    "                self.shingle_dict[shingle] = \\\n",
    "                    len(self.shingle_dict)\n",
    "\n",
    "            encoded_shingles.append(\n",
    "                self.shingle_dict[shingle]\n",
    "            )\n",
    "\n",
    "        return np.unique(encoded_shingles).astype(np.uint32)\n",
    "\n",
    "    def _build_signature(\n",
    "        self,\n",
    "        docs_dict: dict[int, np.ndarray],\n",
    "        num_rows: int, \n",
    "        hash_functions: list[Callable[[np.uint32], np.uint32]]\n",
    "    ) -> np.ndarray:\n",
    "        signature = np.full(\n",
    "            (len(hash_functions), len(docs_dict)), \n",
    "            fill_value=np.inf\n",
    "        )\n",
    "        for r in tqdm(range(0, num_rows)):\n",
    "            hash_values = [\n",
    "                f(r)\n",
    "                for f in hash_functions\n",
    "            ]\n",
    "            for c, shingles in enumerate(docs_dict.values()):\n",
    "                if r in shingles:\n",
    "                    for i, hash_val in enumerate(hash_values):\n",
    "                        if hash_val < signature[i,c]:\n",
    "                            signature[i,c] = hash_val \n",
    "\n",
    "        return signature.astype(np.uint32)\n",
    "\n",
    "    def _find_lsh_params(self, t: int, n: int) -> tuple[int]:\n",
    "        \"\"\"A lower b means that two items must match a higher\n",
    "        number of rows. By taking the floor of b, we favor\n",
    "        more similar pairs.  \n",
    "        \"\"\"\n",
    "        def equations(vars):\n",
    "            b, r = vars\n",
    "            eq1 = t - (1 / b) ** (1 / r)\n",
    "            eq2 = n - b * r\n",
    "            return [eq1, eq2]\n",
    "\n",
    "        b, r =  fsolve(equations, (1, 1))\n",
    "        b = np.floor(b)\n",
    "        r = n // b\n",
    "        return int(b), int(r)\n",
    "\n",
    "    def _lsh(\n",
    "        self, \n",
    "        signature: np.ndarray, \n",
    "        b: int\n",
    "    ) -> set[tuple[int, int]]:\n",
    "        candidate_pairs = set()\n",
    "        \n",
    "        for band in np.array_split(signature, b):\n",
    "            \n",
    "            # column tuple -> list of column indices having that tuple\n",
    "            same_columns = defaultdict(list) \n",
    "            \n",
    "            for c in range(band.shape[1]):\n",
    "                column = band[:,c]\n",
    "                same_columns[tuple(column)].append(c)\n",
    "\n",
    "            filtered_same_columns = dict()\n",
    "            for k, values in same_columns.items():\n",
    "                if len(values) >= 2:\n",
    "                    filtered_same_columns[k] = values\n",
    "\n",
    "            for values in filtered_same_columns.values():\n",
    "                for pair in combinations(values, 2):\n",
    "                    candidate_pairs.add(pair)\n",
    "\n",
    "        return candidate_pairs\n",
    "\n",
    "    def _check_threshold_on_signature(\n",
    "        self, \n",
    "        candidate_pairs: list[tuple[int, int]], \n",
    "        signature: np.ndarray, \n",
    "        t: float\n",
    "    ) -> tuple[set[tuple[int, int, float]]]:\n",
    "        similar_pairs = set()\n",
    "        false_positive_pairs = set()\n",
    "\n",
    "        for (x, y) in candidate_pairs:\n",
    "            x_col = signature[:,x]\n",
    "            y_col = signature[:,y]\n",
    "            similarity = sum(x_col == y_col) / signature.shape[0]\n",
    "            tup = (x, y, similarity)\n",
    "            if similarity >= t:\n",
    "                similar_pairs.add(tup)\n",
    "            else:\n",
    "                false_positive_pairs.add(tup)\n",
    "\n",
    "        return similar_pairs, false_positive_pairs\n",
    "\n",
    "    def check_threshold_on_cm(\n",
    "        self,\n",
    "        candidate_pairs: list[tuple[int, int]], \n",
    "        docs_dict: dict[int, np.ndarray], \n",
    "        t: float\n",
    "    ) -> tuple[set[tuple[int, int, float]]]:\n",
    "        similar_pairs = set()\n",
    "        false_positive_pairs = set()\n",
    "\n",
    "        for (x, y) in candidate_pairs:\n",
    "            similarity = jaccard_similarity(docs_dict[x], docs_dict[y])\n",
    "            tup = (x, y, similarity)\n",
    "            if similarity >= t:\n",
    "                similar_pairs.add(tup)\n",
    "            else:\n",
    "                false_positive_pairs.add(tup)\n",
    "\n",
    "        return similar_pairs, false_positive_pairs"
   ]
  },
  {
   "cell_type": "markdown",
   "metadata": {},
   "source": [
    "# Test"
   ]
  },
  {
   "cell_type": "code",
   "execution_count": 4,
   "metadata": {},
   "outputs": [],
   "source": [
    "dataset_path = r\"E:\\datasets\\ukraine\""
   ]
  },
  {
   "cell_type": "code",
   "execution_count": 5,
   "metadata": {},
   "outputs": [
    {
     "name": "stderr",
     "output_type": "stream",
     "text": [
      "d:\\Users\\gabri\\anaconda3\\envs\\tf_p3.9\\lib\\site-packages\\IPython\\core\\interactiveshell.py:3012: DtypeWarning: Columns (15) have mixed types.Specify dtype option on import or set low_memory=False.\n",
      "  has_raised = await self.run_ast_nodes(code_ast.body, cell_name,\n"
     ]
    }
   ],
   "source": [
    "files = []\n",
    "\n",
    "for name in os.listdir(dataset_path):\n",
    "    full_path = os.path.join(dataset_path, name)\n",
    "    if os.path.isfile(full_path):\n",
    "        files.append(full_path)\n",
    "\n",
    "df = pd.read_csv(\n",
    "    files[0], \n",
    "    compression='gzip', \n",
    "    index_col=0,\n",
    "    encoding='utf-8', \n",
    "    quoting=csv.QUOTE_ALL\n",
    ")"
   ]
  },
  {
   "cell_type": "code",
   "execution_count": 6,
   "metadata": {},
   "outputs": [],
   "source": [
    "df = df[df['language'] == 'en']"
   ]
  },
  {
   "cell_type": "code",
   "execution_count": 11,
   "metadata": {},
   "outputs": [],
   "source": [
    "char_set = set()"
   ]
  },
  {
   "cell_type": "code",
   "execution_count": 12,
   "metadata": {},
   "outputs": [
    {
     "name": "stderr",
     "output_type": "stream",
     "text": [
      "  0%|          | 13/254626 [00:00<1:14:38, 56.85it/s]"
     ]
    },
    {
     "name": "stdout",
     "output_type": "stream",
     "text": [
      " ukrainian air force like address misinformation publish multiple western medium outlet situation  sky support nato ally  protectuаsky stoprussia ukraineunderattaсk\n",
      "chernihiv oblast ukrainian welcome liberator russianinvasion ukraineunderattack ukrainewillwin putinisawarcriminal stopputin russianukrainianwar russiagohome россиясмотри нетвоине\n",
      "america   prepare bad russianukrainianwar taiwan  month enter new cold war russia  good policy future   relation taiwan video  taiwan\n",
      "anonymous hack release email marathon group russian investment firm own oligarch alexander vinokurov currently eu sanction vinokurov son law russian foreign minister lavrov oprussia ddosecret\n",
      "public mint live billionaire wmn win public sale mint visit mint information good luck nft mint\n",
      "amazing story sussex county delaware councilman vance phillips extremely difficult successful enterprise get ukrainian wife united states russia ukraine motivation netde edude delaware government usa \n",
      "quothow wait quot chernihiv region local resident meet ukrainian defender resident village novaya basan chernihiv region rejoice appearance armed force ukraine ukraine ukrainewar russia ukraineinvasion\n",
      "india purchase discount russian crude oil put place rupee ruble payment system bilateral trade view western sanction moscow report say\n",
      "basic tenet stability exist world border change threat use force future international order hinge russia get away ukraine say richardhaass cfr org\n",
      "image russia acquire past decade putinmedvedev alternate rule recover rise global power seriously damage abdulmelik s bekir russia invasion ukraine\n",
      "russia president vladimir putin say sign decree say foreign buyer pay ruble russian gas april contract halt payment\n",
      "sad read russianarmy invading chernobyl troop understand danger apparently leave military service member expendable russianukrainianwar\n",
      "tank t34 memorial soviet troop berlin cover ukrainian flag russian embassy send note protest berlin authority reply t34 tank develop ukrainian city kharkiv\n",
      "anonymous collective send anti war text russian cell phone user tell truth putin invasion ukraine\n",
      "public mint live billionaire wmn win public sale mint visit mint information good luck nft mint\n",
      "ukrainewar russia ukraine war report russianukrainianwar\n",
      "read ukraine democracy war putin zelensky russia blackmedia localnews community scoop news africanamerican philadelphia scoopusamedia philly subscribe\n",
      "police officer kropyvnytskyi ukraine find homeless puppy gas petrol station take care find new home social medium page honour work cop year naturewatch org\n",
      "exclusive donetsk witness fierce fight india today geeta mohan bring exclusive ground report city siege itvideo russiaukrainewar\n",
      "       putin say foreign buyer pay russian currency bbcnew cc meduza putin ruble currency sanction oil economy negotiation diplomacy geopolitic leadership government russia warinukraine war russiaukrainewar\n",
      "ukraine damage abandon bm21 grad pattern mrl russian army likely kyiv oblast\n",
      "exclusive donetsk witness fierce fight india today geeta mohan bring exclusive ground report city siege itvideo russiaukrainewar\n",
      "ukraine ukrainian transport helicopter likely mi8 shoot russian army claim wreckage find rybatske near mariupol body visible aid trace mean helicopter shoot way mariupol\n"
     ]
    },
    {
     "name": "stderr",
     "output_type": "stream",
     "text": [
      "  0%|          | 40/254626 [00:00<41:44, 101.66it/s] "
     ]
    },
    {
     "name": "stdout",
     "output_type": "stream",
     "text": [
      "putin declare unfriendly country open rouble account russian bank buy natural gas start april 1st\n",
      "jaime antoine discuss initial reaction ukraine crisis ukraine ukrainerussianwar google\n",
      "govkathyhochul love covid update hunter biden neerajkhemlani hack biden covid politics vote chickendanco retr0mikey\n",
      "vladimirputin face mutiny russian president lose control soldier ditch uniform refuse order fight force\n",
      "iaea director general rafaelmgrossi arrive kaliningrad russia talk senior russian official tomorrow morning\n",
      "world focus ukrainewar family tigray ethiopia face 500daysoftigraygenocide remain forget ic accord wfp child pregnant breastfeed woman malnourish unocha\n",
      "ukraine claim withdraw vdv convoy kyiv oblast attack ukrainian force airborne infantry fighting vehicle completely destroy extremely gruesome scene\n",
      "air war ukraine month old episode chainreaction discuss airwar role defense play frustrating moscow campaign tune \n",
      "ukraine ua force capture russian t90a tank good condition unaware modern far platform russian army deploy conflict likely happen kyiv oblast\n",
      "middle war cat adopt human offer snuggle ukrainerussiawar slavaukraini ukrainianarmy ukrainiancat\n",
      "adamkinzinger send troop stop putin war ukraineunderattaсk ukraine stopputin sendinthetroop\n",
      "dr s jai shankar drsjaishankar beast mode   q india buy oil russia despite sanction reply s campaign go issue fact europe s take oil gas russia  sjaishankar ukrainerussiawar\n",
      "story biden blackexcellence blackgirlmagic blackhistory blacklove blackpower blackwomen chrispaul conservative election empire hbcu joebiden laker nba nbabasketball purpleroompolitic republican tarajiphenson trump\n",
      "yesterday british journalist ask evidence russians commit war crime ukrainian answer freeukraine weareallukrainian standwithukraine stopthewar united standtogether stopwar ukraine\n",
      "scramble gas settodraw 10b tanzaniaproject africa energy coal mining\n",
      "   ukraine video battle mariupol russian source\n",
      "ukraine roundtable doodlebugeye tlav vanessabeeley evakbartlett alextomo\n",
      "ukraine previously unseen russian loss kyiv oblast vityaz dt30 articulated track carrier t72b t72b obr tank iveco lmv ry\n",
      "friend wipe away tear ukraine ian twitter troll say nypost say nato thinktank say entirety russia fall kola superdeep borehole sg3 calm definitely let know stink\n",
      "bbchardtalk heck happen ukrainerussiawar point unacceptable attack sovereign state\n",
      "divorcedny juliaioffe case vodka shitty vodka aka horilka originate ukraine russianvodka sloppy second like pathetic history vladimirputin fuck sooooo pathetic ukraineenvy\n",
      "public mint live billionaire wmn win public sale mint visit mint information good luck nft mint\n",
      "ukraine roundtable tlav vanessabeeley evakbartlett alex thomson challenge establishment narrative false flag psyop propaganda tell ukraine watch rokfin\n",
      "icrc  comment  ukraine zelensky regime use ambulance troop \n",
      " ukrainian air force like address misinformation publish multiple western medium outlet situation  sky support nato ally  protectuаsky stoprussia ukraineunderattaсk\n",
      "carolecadwalla johnsonout67 putinsbrexit carolecadwalladrforhouseoflord sendkgblordtosiberia slavaukraini    oneness u super \n"
     ]
    },
    {
     "name": "stderr",
     "output_type": "stream",
     "text": [
      "  0%|          | 66/254626 [00:00<37:02, 114.53it/s]"
     ]
    },
    {
     "name": "stdout",
     "output_type": "stream",
     "text": [
      "aftermath russian shelling saltivka kharkiv\n",
      " ukrainian air force like address misinformation publish multiple western medium outlet situation  sky support nato ally  protectuаsky stoprussia ukraineunderattaсk\n",
      "break ukraine russia  ukraine heart warm scene war region flash ukrainewar ukrainerussia ucrania ucraina guerra guerre catsoftwitter cat\n",
      "companion nft solaverse art create think world space art beginner start correctly jessicazein6 everything6379 ilyalevsky nftcommunity nft mint nftgiveaway nftdrop\n",
      "video come mariupol horrific complete devastation dead body lay street alive look like ghost walk hell russian army army looter rapist murderer\n",
      "scramble gas settodraw 10b tanzaniaproject africa energy coal mining\n",
      "evacuation irpin ukrainian defender amazing thank stoprussia standwithukraine\n",
      "year old woman praskovia ukraine sit disorient frighten afraid body shake live wwii say strength war standwithukraine stoprussia\n",
      "kpszsu nato nytimes msnbc reuters ap washingtonpost request response clear concise plea help ukraine borisjohnson bundeskanzler emmanuelmacron potus secdef secblinken nato\n",
      "woman pepper spray simply go ballgame iran biden wheel deal government yeah russia problem freeiran2022 bidenisafailure\n",
      "welcome website information life like overview world available transdayofvisibility thebinjinwedde solana saitama standwithukraine blockchain btc binance\n",
      "japan say send foreign minister hayashi poland place justice minister furukawa find covid19 close contact effort assist flee ukraine russian invasion themainichi\n",
      "public mint live billionaire wmn win public sale mint visit mint information good luck nft mint\n",
      "shipment ukraine track time ebay ebay photo listing beauty excellent fiber art embroidery kyiv wearable embroidery fiberart art fashion \n",
      "russian state duma hold meeting investigation activity biolaboratorie ukraine decide invite official explanation invite deputy secretary state victoria nuland son president hunter biden\n",
      "    troll patrol live      content warning fucker  news newsupdate transdayofvisibility transrightsarehumanright biden trump union\n",
      "chernihiv oblast ukrainian welcome liberator russianinvasion ukraineunderattack ukrainewillwin putinisawarcriminal stopputin russianukrainianwar russiagohome россиясмотри нетвоине\n",
      "russia24 report battalion satanist usa enter ukraine guy actually read word loud laugh video subtitle russia propaganda russiainvadedukraine\n",
      "vihreat mariaohisalo past russia attack country grab land today happen ukraine stop terrorist country forever unite help ukraine stoprussia forever\n",
      "ukraine totally destroy bmp2 t72b3 obr russian army kyiv oblast ukrainian advance osintua\n",
      "crypto donation ukraine crypto ukraine\n",
      "daily life zelensky reich pic dnieper ukraine ukrainerussiawar russia usa nato war news ukraina putin biden ukrainewar kyiv\n",
      " biig nft giveaway  mint live  airdrop win follow boredapesec  like retweet drop eth wallet address winner pick 24hrs   nftcommunity nftcollectible bayc 0xbaec nftart nftproject nftgiveaway nft nftdrop\n"
     ]
    },
    {
     "name": "stderr",
     "output_type": "stream",
     "text": [
      "  0%|          | 93/254626 [00:00<35:04, 120.97it/s]"
     ]
    },
    {
     "name": "stdout",
     "output_type": "stream",
     "text": [
      "dear cnn use russia language characterize russian occupy region ukraine separatist rebel kremlin terminology mask covert war war overt russia party aggressor russian proxy donbas\n",
      "thestudyofwar gen jackkeane appear marthamaccallum explain ongoing strategy russian invasion ukraine change condition warrant new approach watch segment\n",
      "tendency investor panic react short term impact shocking geopolitical event like russian ukrainian invasion find vital calm think long term market invest\n",
      "ukrainian force successfully conduct local counterattack kyiv sumy kherson oblast likely territory particularly northwest east kyiv come day read report\n",
      "world focus ukraine urge un member forget tigray region cut world imperative reject ethiopia effort deny fund investigation voteno tigraycantwait thailandun\n",
      "belarusian march russian embassy warsaw protest war ukraine ukrainerussianwar ukraineunderattaсk\n",
      "senior eu official brussels tell think war end soon russia win mean ukraine cusp victory ukrainerussianwar\n",
      "scale destruction mariupol visible drone footage shocking savemariupol stoprussia\n",
      "chernihiv oblast ukrainian welcome liberator russianinvasion ukraineunderattack ukrainewillwin putinisawarcriminal stopputin russianukrainianwar russiagohome россиясмотри нетвоине\n",
      "order come week russia invasion run fierce ukrainian resistance\n",
      "chernihiv oblast ukrainian welcome liberator russianinvasion ukraineunderattack ukrainewillwin putinisawarcriminal stopputin russianukrainianwar russiagohome россиясмотри нетвоине\n",
      "ukrainian ambush russian force time vicinity chernihiv msta s spg t72b destroy damage mt lb rare ppru1 ovod m sv mobile air target reconnaissance command center capture\n",
      "ukraine loss russian army claim zaporizhzhia oblast sani mm mortar truck btr82a similar fuel truck rare mt lbm 6mb mt lb mb2 see mount btr82a\n",
      "iaea director general rafaelmgrossi arrive kaliningrad russia talk senior russian official tomorrow morning\n",
      "carolecadwalla johnsonout67 putinsbrexit carolecadwalladrforhouseoflord sendkgblordtosiberia slavaukraini    oneness u super \n",
      "scramble gas settodraw 10b tanzaniaproject africa energy coal mining\n",
      "ukraine kid mariupol yes family bring azov sea child exactly mariupol area coastline decade later war zone child murder injure\n",
      "timothydsnyder book recent history reading context current crisis ukraine map europe ussr fascinating slavaukraini \n",
      "russian occupier forcibly move ukrainian resident accord deputy prime minister iryna vereshchuk resident mariupol deport russian occupy part donetsk oblast force displacement civilian warcrime\n",
      "russian government act wildly flawed assumption strategic detriment indication suggest kremlin madness purely performative act read noahcrothman  russia vladimirputin\n",
      "read true rishi sunak wife  invest russian state sanction uk bbcqt ukraine russia putin tory rule torycriminal heat home eat johnsonout67\n",
      "canadian anti fraud centre cafc receive report charity scam relate situation ukraine fraudster contact victim telephone email online social medium info fpm2022\n",
      "kherson southern advance update ukrainian force conduct successful counterattack area southern march ukrainian force recapture orlove zagradivka kochubeyevka northern kherson oblast\n",
      "  cover april issue polish vogue create ukrainian fashion photographer artist olena yemchuk stoprussia standwithukraine stoprussianaggression russiakill stopputin\n"
     ]
    },
    {
     "name": "stderr",
     "output_type": "stream",
     "text": [
      "  0%|          | 106/254626 [00:01<34:59, 121.23it/s]"
     ]
    },
    {
     "name": "stdout",
     "output_type": "stream",
     "text": [
      "ukrainian force successfully conduct local counterattack kyiv sumy kherson oblast likely territory particularly northwest east kyiv come day read report\n",
      " ukrainian air force like address misinformation publish multiple western medium outlet situation  sky support nato ally  protectuаsky stoprussia ukraineunderattaсk\n",
      " myth nato provide ukraine need weapon ally possible short direct involvement war  truth date ally answer air defense support fighter jet sam\n",
      "scramble gas settodraw 10b tanzaniaproject africa energy coal mining\n",
      "ukraine destroy russian btr82a armored personnel carrier weapon inside rpg7v launcher ubgl svd sniper rifle val assault rifle burn location unknown\n",
      "ukrainian army soldier  ukraine\n",
      "abiy ahmed eritrean dictator isaias afewerki amhara ally continue tigray siege world condemn human right abuse tigray ukraine tigraygenocide supporthr6600 senjeffmerkley senjohnbarrasso\n",
      "public mint live billionaire wmn win public sale mint visit mint information good luck nft mint\n",
      "public mint live billionaire wmn win public sale mint visit mint information good luck nft mint\n",
      "ascent china turkey super power change world crime scene china russia ethiopia campaign bipartisan investigation genocide warcrime un level antonioguterre statedept irishmissionun josepborrellf germanyun\n",
      "translation haitian creole kyiv independent hospital employee protect wound ukrainian soldier ukrainerussiawar continue russianukrainianwar russianwarcrime ukraine haitiantranslator\n",
      "icrc  comment  ukraine zelensky regime use ambulance troop \n",
      "fuck putin anonymous oprussia cyberwar russia continue putin cease hostility people ukraine\n",
      " ukrainian air force like address misinformation publish multiple western medium outlet situation  sky support nato ally  protectuаsky stoprussia ukraineunderattaсk\n",
      "irpin suburb kyiv ukrainian control accord mayor russian troop murder civilian roll body tank ukraine ukrainerussiawar\n",
      "scramble gas settodraw 10b tanzaniaproject africa energy coal mining\n",
      "ukrainian armed force liberate settlement kherson region seize trophy equipment\n",
      "mariupol russian invader fire building red cross mark bad crime war crosse mark place wound civilian humanitarian cargo find azov report stoprussia standwithukraine stoprussianaggression\n",
      "joyannreid lead thereidout tonight recognition week putin horrific war ukraine target civilian\n",
      "chernihiv oblast ukrainian welcome liberator russianinvasion ukraineunderattack ukrainewillwin putinisawarcriminal stopputin russianukrainianwar russiagohome россиясмотри нетвоине\n",
      "abiy ahmed eritrean dictator isaias afewerki amhara ally continue tigray siege world condemn human right abuse tigray ukraine tigraygenocide supporthr6600 senjeffmerkley senjohnbarrasso\n",
      "let forgetbiden quid pro quo fire prosecution go hunter expose biden corruption bidencrimefamilly\n"
     ]
    },
    {
     "name": "stderr",
     "output_type": "stream",
     "text": [
      "  0%|          | 132/254626 [00:01<34:18, 123.66it/s]"
     ]
    },
    {
     "name": "stdout",
     "output_type": "stream",
     "text": [
      "ltltgop lawmaker demand hunter biden communication obama white house biden\n",
      "mikkonenkrista past russia attack country grab land today happen ukraine stop terrorist country forever unite help ukraine stoprussia forever\n",
      " myth nato provide ukraine need weapon ally possible short direct involvement war  truth date ally answer air defense support fighter jet sam\n",
      "illegal unprovoked invasion ukraine continue map late defence intelligence update situation ukraine march find uk government response standwithukraine \n",
      "irpin suburb kyiv ukrainian control accord mayor russian troop murder civilian roll body tank ukraine ukrainerussiawar\n",
      "scramble gas settodraw 10b tanzaniaproject africa energy coal mining\n",
      "patriarch kirill know support war ukraine ukrainian parliament introduce bill ban russian orthodox church draft law envision property roc nationalize hour adoption law\n",
      "win war stand  ukraine ukrainerussiawar mint favourite peace nightingale \n",
      "public mint live billionaire wmn win public sale mint visit mint information good luck nft mint\n",
      "donetsk luhansk oblast update ukrainian force continue repel russian assault donetsk luhansk oblast particularly concentrate popasna rubizhne past hour\n",
      "video come mariupol horrific complete devastation dead body lay street alive look like ghost walk hell russian army army looter rapist murderer\n",
      "let forgetbiden quid pro quo fire prosecution go hunter expose biden corruption bidencrimefamilly\n",
      " biig nft giveaway  mint live  airdrop win follow boredapesec  like retweet drop eth wallet address winner pick 24hrs   nftcommunity nftcollectible bayc 0xbaec nftart nftproject nftgiveaway nft nftdrop\n",
      "abiy ahmed eritrean dictator isaias afewerki amhara ally continue tigray siege world condemn human right abuse tigray ukraine tigraygenocide supporthr6600 senjeffmerkley senjohnbarrasso\n",
      "ukrainian advance kyiv oblast russian equipment destroy artillery drone uaf film russia ukraine\n",
      "belarusian battalion name kastus kalinouski ukraine belarusian hero help ukrainian defend friend know people ready risk life protect ukraine belarus\n",
      "kpszsu nato potus borisjohnson marcorubio nato secblinken secdef ukraine tell need stop sleep save ukraine saveukrainenow stopputinnow ukrinerussiawar neveragain\n",
      " myth nato provide ukraine need weapon ally possible short direct involvement war  truth date ally answer air defense support fighter jet sam\n",
      "china netizen cheer online russia launch missile ukraine look number like earn thegreattranslationmovement  ukrainerussiawar\n",
      "basic tenet stability exist world border change threat use force future international order hinge russia get away ukraine say richardhaass cfr org\n",
      "ukrainian army soldier  ukraine\n",
      "ukraine destroy russian vehicle t72 tank variant appear btr d airborne apc unknown precisely hit\n",
      "fighting continue besiege mariupol footage thursday show residential building mariupol ukrainian force allegedly position target shelling\n",
      "new ukraine need well air defense system excuse postopinion standwithukraine slavaukraine\n",
      "ukraine appear russian multiple rocket launcher abandon kyiv oblast fact advanced modern tornado g mlrs system adopt russian army h t blue sauron\n"
     ]
    },
    {
     "name": "stderr",
     "output_type": "stream",
     "text": [
      "  0%|          | 159/254626 [00:01<33:23, 126.98it/s]"
     ]
    },
    {
     "name": "stdout",
     "output_type": "stream",
     "text": [
      "public mint live billionaire wmn win public sale mint visit mint information good luck nft mint\n",
      "ukraine claim withdraw vdv convoy kyiv oblast attack ukrainian force airborne infantry fighting vehicle completely destroy extremely gruesome scene\n",
      "ncsc warn business kaspersky product itpro uk government criticalinfrastructure business kaspersky antivirus cybersecurity cyberrisk cyberthreat securityrisk threatactor security cyberwarfare russiaukrainewar\n",
      "scramble gas settodraw 10b tanzaniaproject africa energy coal mining\n",
      "pre biden claim gas price high putin invade ukraine invasion take place feb 24th oil price rise biden take office oil price surge putin cause high oil price scapegoat\n",
      " anonymous idea  anonymous decentralized movement  leader  anonymous  oprussia  ukraine freeukraine standwithukraine\n",
      "china ccp kill americans fentanyl covid19 steal hundred billion dollar intellectualproperty year try overthrow government biden defend malicious attack\n",
      " civilian ukrainian soldier kill irpin stoprussianaggression russiakill stopputin\n",
      "give away custom bigbearvc support ukraine feel free head big bear vacation club sign giveaway slavaukraini\n",
      "nftwhalealert nice project nft nftcommunity mint nftgiveaway nftdrop\n",
      "china ccp kill americans fentanyl covid19 steal hundred billion dollar intellectualproperty year try overthrow government biden defend malicious attack\n",
      "rt share video russian tank target fire residential house mariupol record warcrime savemariupol\n",
      "ukraine appear russian multiple rocket launcher abandon kyiv oblast fact advanced modern tornado g mlrs system adopt russian army h t blue sauron\n",
      "ukrainian ambush russian force time vicinity chernihiv msta s spg t72b destroy damage mt lb rare ppru1 ovod m sv mobile air target reconnaissance command center capture\n",
      "mariupol update russian force likely continue advance mariupol march\n",
      "robbiegramer day putin regroup bring conscript rearm continue obliterate ukraine commit war crime improve ukraine control airspace stat\n",
      "amynb5 dietdanish kpszsu nato potus borisjohnson marcorubio secblinken secdef send troop stop putin war ukraineunderattaсk ukraine stopputin sendinthetroop\n",
      "russia fm lavrov india unclear plan stopover pakistan solidarity pm imrankhan face alleged foreign fund regime change govt claim partially cause visit moscow eve ukraine invasion\n",
      "threat ww3 loom head go find public think solution   stopww3\n",
      "ukrainian armed force liberate settlement kherson region seize trophy equipment\n",
      "give truck load russians cancer blossom lung adventure red forest maybe propaganda video detail danger exclusion zone order russianukrainianwar\n",
      "scramble gas settodraw 10b tanzaniaproject africa energy coal mining\n",
      "hate war war target child novoice politician evil russian cause level terror despair ukraine zelenskyy standwithukraine donotbackdown slavaukraini    \n",
      "chernihiv oblast ukrainian welcome liberator russianinvasion ukraineunderattack ukrainewillwin putinisawarcriminal stopputin russianukrainianwar russiagohome россиясмотри нетвоине\n"
     ]
    },
    {
     "name": "stderr",
     "output_type": "stream",
     "text": [
      "  0%|          | 186/254626 [00:01<33:03, 128.28it/s]"
     ]
    },
    {
     "name": "stdout",
     "output_type": "stream",
     "text": [
      " ukrainian air force like address misinformation publish multiple western medium outlet situation  sky support nato ally  protectuаsky stoprussia ukraineunderattaсk\n",
      "ukraine ancient ukrainian t64b tank destroy early fighting hostomel kyiv oblast\n",
      "noondlyt lanechange mrrjnkns omg brilliant     standwithukraine\n",
      "chernihiv oblast ukrainian welcome liberator russianinvasion ukraineunderattack ukrainewillwin putinisawarcriminal stopputin russianukrainianwar russiagohome россиясмотри нетвоине\n",
      "rt share video russian tank target fire residential house mariupol record warcrime savemariupol\n",
      "today defence attaches  nato member state accredit armenia visit n airbase sure su30 aircraft place early     press report   hand plane russia ukraine press report   plane bomb kyiv\n",
      "cdanieltideman jim jordan february vladimir putin start war human race ww3 die people stop\n",
      "today ford gm halt production plant gas price continue american list russian ruble value possible businessnew\n",
      "hitler putin stalin ukraine fight behalf entire free world stop type horror occur 1930 1940 1950 long ago easy forget evil planesforukraine ukrainerussiawar russiaukrainewar ussr\n",
      "pre biden claim gas price high putin invade ukraine invasion take place feb 24th oil price rise biden take office oil price surge putin cause high oil price scapegoat\n",
      "new york post article march bombshell russia invade ukraine biden biolab hunter laptop say yes hunterbiden usa hunterbidenlaptop war ukraine russia russianukrainianwar ukrainerussianwar\n",
      "chernihiv oblast ukrainian welcome liberator russianinvasion ukraineunderattack ukrainewillwin putinisawarcriminal stopputin russianukrainianwar russiagohome россиясмотри нетвоине\n",
      "ukrainian force likely conduct counterattack sumy past hour isw independently confirm report\n",
      "rt share video russian tank target fire residential house mariupol record warcrime savemariupol\n",
      "j bigboote barbaralnewsome continously subject western propaganda truth country usa enter destroy usa appear country revolution destruction ukraine russia\n",
      "bric fight effort isolate russia geneva read g o jamilchade bric russia geneva\n",
      "late defence intelligence update situation ukraine march find uk government response standwithukraine \n",
      "ukraine ukrainian force continue implementation improvise explosive device combat like middle east time russian fuel truck hit ied lead complete destruction\n",
      "ukraine pretty interesting capture ukrainian army novovorontsovka kherson oblast t64bv tank previously capture russian force return owner russian btr d airborne apc destroy\n",
      "scramble gas settodraw 10b tanzaniaproject africa energy coal mining\n",
      " ukrainian air force like address misinformation publish multiple western medium outlet situation  sky support nato ally  protectuаsky stoprussia ukraineunderattaсk\n",
      " ukrainian air force like address misinformation publish multiple western medium outlet situation  sky support nato ally  protectuаsky stoprussia ukraineunderattaсk\n",
      "icrc  comment  ukraine zelensky regime use ambulance troop \n",
      "bsbonner potus action need immediately remove russia permanent member securitycouncil lose moral ground suspend russian membership un till continue aggression work democracy un remove veto power completely 2\n",
      "accorde refugee mln total population people flee home ukraine  mln people displace inside   mln leave country president ukraine office estimate mln idps\n"
     ]
    },
    {
     "name": "stderr",
     "output_type": "stream",
     "text": [
      "  0%|          | 213/254626 [00:01<33:15, 127.50it/s]"
     ]
    },
    {
     "name": "stdout",
     "output_type": "stream",
     "text": [
      "russia start war russia end war ottawa cdnpoli oil gas donbass donbassgenocide donbas year\n",
      "dr s jai shankar drsjaishankar beast mode   q india buy oil russia despite sanction reply s campaign go issue fact europe s take oil gas russia  sjaishankar ukrainerussiawar\n",
      "untold hero untold story andrea cisternino choose abandon rescue animal lisovychi ukraine food water russian occupier allow receive outside help info thread dog dogsoftwittter\n",
      "world focus ukraine urge un member forget tigray region cut world imperative reject ethiopia effort deny fund investigation voteno tigraycantwait thailandun\n",
      "world focus ukraine urge un member forget tigray region cut world imperative reject ethiopia effort deny fund investigation voteno tigraycantwait thailandun\n",
      "joyannreid lead thereidout tonight recognition week putin horrific war ukraine target civilian\n",
      "world focus ukraine urge un member forget tigray region cut world imperative reject ethiopia effort deny fund investigation voteno tigraycantwait thailandun\n",
      "ukraine video position kyiv oblast show sheer level destruction little post apart t72b tank possibly truck\n",
      "istanbulphotoaward winner announce professional photographer greece russia senegal brazil award category visit website award win photo\n",
      "koch industry kochnetwork russia ukraine\n",
      " myth nato provide ukraine need weapon ally possible short direct involvement war  truth date ally answer air defense support fighter jet sam\n",
      "ukraine ukrainian force destroy russian bmp2 infantry fighting vehicle apc pretty rare brem ch armored recovery vehicle area italian iveco lmv ry infantry mobility vehicle capture\n",
      "public mint live billionaire wmn win public sale mint visit mint information good luck nft mint\n",
      "public mint live billionaire wmn win public sale mint visit mint information good luck nft mint\n",
      "new ukraine need well air defense system excuse postopinion standwithukraine slavaukraine\n",
      "ukraine claim russian likely separatist push claim foil 57th separate infantry brigade ukrainian army luhansk oblast result destroy hardware\n",
      "woman force child labour wwii force leave home  line cruel symmetry experience bookend life  incredibly powerful story ukraine em dawn brendanesposito\n",
      "sign discrimination treatment roma refugee ukraine\n",
      "kharkiv today word describe city despite city survive stand warinukraine harkiv russianwarcrime ukraineunderattaсk ukrainewillwin\n",
      "daleepsingh rishisunak indian   bear sanction czar naturalize citizen    respectively coordinate fail economic siege russia  wa london target newdelhi fall line homeland india  \n",
      "joyannreid lead thereidout tonight recognition week putin horrific war ukraine target civilian\n",
      "true ukrainerussianwar\n",
      "putin declare unfriendly country open rouble account russian bank buy natural gas start april 1st\n",
      "stray dog accompany ukrainian fighter odin unit take cover inside building hear incoming round clearing operation remain russian force irpinukraine war ukrainewar kyiv ukrainerussianwar dog mansbestfriend nytime\n"
     ]
    },
    {
     "name": "stderr",
     "output_type": "stream",
     "text": [
      "  0%|          | 241/254626 [00:02<31:51, 133.05it/s]"
     ]
    },
    {
     "name": "stdout",
     "output_type": "stream",
     "text": [
      "sorry disturb day russiansoldier rape ukrainian woman occupied territory want hear peace russia rape year old kid girl oh putin die gallow\n",
      "good idea toomas ilvestoomas long russia deport ukrainian occupied territory russians allow eu period putinwarcrime putinwarcriminal\n",
      "henry kissinger state enemy america dangerous friend fatal europe chew ukraine crisis enter 2nd month europe lose crisis read guestopinion\n",
      "ukrainian force exploit limited russian withdrawal east brovary retake territory kyiv chernihiv oblast\n",
      "   evening msg zelenskyyua ukraine endure enemy expect say day think seize entire state stand continue fight\n",
      "russia throw caution wind libya oppose un resolution help settle dispute country compete politician\n",
      "video come mariupol horrific complete devastation dead body lay street alive look like ghost walk hell russian army army looter rapist murderer\n",
      "time horror war freeukraine weareallukrainian standwithukraine stopthewar ukraine united kyiv standtogether stopwar\n",
      "scramble gas settodraw 10b tanzaniaproject africa energy coal mining\n",
      "odessa odesa ukraine одесса  c today min  c today max  c month min  c month max  c\n",
      "think bitcoin transaction anonymous pseudo anonymous bitcoin transaction cryptocurrency anonymous\n",
      "woman pepper spray simply go ballgame iran biden wheel deal government yeah russia problem freeiran2022 bidenisafailure\n",
      "world focus ukraine urge un member forget tigray region cut world imperative reject ethiopia effort deny fund investigation voteno tigraycantwait thailandun\n",
      "chernihiv oblast ukrainian welcome liberator russianinvasion ukraineunderattack ukrainewillwin putinisawarcriminal stopputin russianukrainianwar russiagohome россиясмотри нетвоине\n",
      "chernobyl stopputinnow stopwar stoprussia fcptn fckputin stop tyrant putin\n",
      "boycottmondelez boycottmilka mdlz shame finance war criminal finance war crime boycottrussia esgdivestrussia standwithukraine ukrainewillprevail\n",
      "icrc  comment  ukraine zelensky regime use ambulance troop \n",
      "happen ukrainewar invasion erase year aggression ultranationalist donbas region h t karaokecomputer\n",
      "putin declare unfriendly country open rouble account russian bank buy natural gas start april 1st\n",
      "armenian navy nuclear submarine fly zvartnotz reportedly land lviv plan lack ocean armenia azerbaijan ukraine russia\n",
      "ukraine appear russian multiple rocket launcher abandon kyiv oblast fact advanced modern tornado g mlrs system adopt russian army h t blue sauron\n",
      "  video incendiary ammunition night ukrainerussianwar\n",
      "write donbas russia invasion ukraine foreignaffair thread\n",
      "irpin suburb kyiv ukrainian control accord mayor russian troop murder civilian roll body tank ukraine ukrainerussiawar\n",
      "carolecadwalla johnsonout67 putinsbrexit carolecadwalladrforhouseoflord sendkgblordtosiberia slavaukraini    oneness u super \n",
      "trump push russian dirt biden late gop headache dem ind register republican voice hear republican primary defeat toxic gop partisan \n",
      "unitedkingdom sanction principle news anchor state own russia1 channel spread false news uk sanction tuckercarlson spread false news russia2 news channel oops mean foxnew\n"
     ]
    },
    {
     "name": "stderr",
     "output_type": "stream",
     "text": [
      "  0%|          | 255/254626 [00:02<32:16, 131.36it/s]"
     ]
    },
    {
     "name": "stdout",
     "output_type": "stream",
     "text": [
      "chernihiv oblast ukrainian welcome liberator russianinvasion ukraineunderattack ukrainewillwin putinisawarcriminal stopputin russianukrainianwar russiagohome россиясмотри нетвоине\n",
      "public mint live billionaire wmn win public sale mint visit mint information good luck nft mint\n",
      "irpin suburb kyiv ukrainian control accord mayor russian troop murder civilian roll body tank ukraine ukrainerussiawar\n",
      "time discipline de program ukraine neo nazi youth brainwash w bandera fascist ideology early age debate neo nazi tag militarized ultra nationalist extremism dismiss zelenskyy kyiv kiev mariupol russia\n",
      "ukraine accuse russia damage destroy religious site start russiaukrainewar example orthodox cathedral ruin bell tower shell jewish school destroy parish church prayforukraine\n",
      "video chechnya kadyrovite soldier film video selfie tiktok invade ukraine go wrong\n",
      "world focus ukrainewar family tigray ethiopia face 500daysoftigraygenocide remain forget ic accord wfp child pregnant breastfeed woman malnourish unocha\n",
      "irpin suburb kyiv ukrainian control accord mayor russian troop murder civilian roll body tank ukraine ukrainerussiawar\n",
      "mint live end am pst smith x bitwhip meme meme monday week meme willsmith funny humor mintingnow mint fun solana\n",
      "video come mariupol horrific complete devastation dead body lay street alive look like ghost walk hell russian army army looter rapist murderer\n",
      "let forgetbiden quid pro quo fire prosecution go hunter expose biden corruption bidencrimefamilly\n",
      "new ukraine need well air defense system excuse postopinion standwithukraine slavaukraine\n",
      "putin declare unfriendly country open rouble account russian bank buy natural gas start april 1st\n",
      "ukrainerussiawar russia combat loss ukraine march\n",
      "joyannreid lead thereidout tonight recognition week putin horrific war ukraine target civilian\n",
      "mfa russia russian soldier shoot civilian car ambulance medical vehicle case ukrainian military hide boot russia meduzaproject ukraine\n",
      "torture woman basement mariupol school mark ukrainian nazi azov battalion knife stomach prorussianso new freedom version finance useuuk ukraine\n",
      " ukrainian air force like address misinformation publish multiple western medium outlet situation  sky support nato ally  protectuаsky stoprussia ukraineunderattaсk\n",
      "surprise putinspuppet support biglie justify insurrection big oilandgas despite role climatecrisis vital russia time gqp shuffle biden say goptherussianparty\n",
      "happen ukrainewar invasion erase year aggression ultranationalist donbas region h t karaokecomputer\n",
      "link therapeutic tale refugee child ukraine language version ukr rus pl eng translation available helpukraine rt\n",
      "month rasputitsia start attack ukrainian force number russian force insufficient will able maintain control capture territory\n",
      "month de nazification year article prevalence nazism fascism ukraine confusion symbol slogan heart issue compile  serve educational tool clarify misconception\n",
      "pre biden claim gas price high putin invade ukraine invasion take place feb 24th oil price rise biden take office oil price surge putin cause high oil price scapegoat\n"
     ]
    },
    {
     "name": "stderr",
     "output_type": "stream",
     "text": [
      "  0%|          | 283/254626 [00:02<33:05, 128.13it/s]"
     ]
    },
    {
     "name": "stdout",
     "output_type": "stream",
     "text": [
      " ukrainian air force like address misinformation publish multiple western medium outlet situation  sky support nato ally  protectuаsky stoprussia ukraineunderattaсk\n",
      "ukrainian armed force liberate settlement kherson region seize trophy equipment\n",
      "ukraine issue complicated historical context outburst long build tension europe security problem outcome coldwar mentality bloc confrontation\n",
      "propagandist mainland china race new low today time fabricate story can food ukraine human flesh\n",
      " ukrainian air force like address misinformation publish multiple western medium outlet situation  sky support nato ally  protectuаsky stoprussia ukraineunderattaсk\n",
      "ukraine zsu23 shilka self propel anti aircraft gun capture russian army ukrainian force pretty outdated piece kit\n",
      "people send cash app ivann1465 venmo ivann1465 cashappfriday cashapp venmo influencer fitness willsmith willandchris travel ukraine tejran blockchain amc defi catchusallxbt morbius ueckurus pixiv gidle\n",
      "ukraine russian t72b3 tank burn hit ukrainian force chernihiv oblast safe thing stand near\n",
      " player burn ap round piece playkardia f2p treasury    mintable kuswapfinance    step profit mint nft hodl playtoearn burn crystal profit gamefi kcc chain\n",
      "dizrespektor google translate mother believe tv reality son look invader emotion speak complete disappointment understanding homeland ready leave warukraine russiaukrainewar russiaukraineconflict\n",
      "carolecadwalla johnsonout67 putinsbrexit carolecadwalladrforhouseoflord sendkgblordtosiberia slavaukraini    oneness u super \n",
      "girl represent like million people world let hope putin genocidal murderer pay soon ukraine end like mussolini execute ukrainerussiawar\n",
      "group child flee mariupol take refuge dnipro cnn ask want world know ukraine kid want peace world feel safe  ukrainerussianwar\n",
      "80yo biden dementia sense 57yo kamala sound like speak time left brain stroke everytime\n",
      "chernihiv oblast ukrainian welcome liberator russianinvasion ukraineunderattack ukrainewillwin putinisawarcriminal stopputin russianukrainianwar russiagohome россиясмотри нетвоине\n",
      "ukrainian armed force liberate settlement kherson region seize trophy equipment\n",
      "police stop outside parliament demand passport disagree politician say debate zelenski online tour intimidation nwo donbass ukraine nazi russia wef\n",
      "nobel medicine prize extraordinary effort end covid omicron variant pandemic putin\n",
      "  hide civilian shoot resident mariupol manage escape clutch neo nazis tell truth atrocity infamous neo nazi azov battalion msm tell see4yourself\n",
      " myth nato provide ukraine need weapon ally possible short direct involvement war  truth date ally answer air defense support fighter jet sam\n",
      "putin say pure truth unfortunately medium corrupt work evil otancriminal newworldorder russia military basis world invade iraq syria libya yemen pakistan afghanistan\n",
      "ghost bus dead soldier leave chernobyl night radiation sick soldier bust belarus comfort care die putin catch hitler stalin pol pot putinwarcrime chernobyl trumpisarussianasset gopofrussia republicansaretraitor\n",
      "abiy ahmed eritrean dictator isaias afewerki amhara ally continue tigray siege world condemn human right abuse tigray ukraine tigraygenocide supporthr6600 senjeffmerkley senjohnbarrasso\n"
     ]
    },
    {
     "name": "stderr",
     "output_type": "stream",
     "text": [
      "  0%|          | 311/254626 [00:02<32:54, 128.83it/s]"
     ]
    },
    {
     "name": "stdout",
     "output_type": "stream",
     "text": [
      "current situation support russia ukraine overcome difficulty continue peace talk support positive outcome reach negotiation far support de escalation tension ground asap\n",
      "anonymous busy today hacker release email russian firm mashoil design manufacture maintain drilling mining fracke equipment hack continue russia stop aggression expect oprussia\n",
      "demolition palestinian home biden administration\n",
      "ukraine area secure ua force tank recover excellent condition actually t72b3 m obr t90a crew survive\n",
      "good idea toomas ilvestoomas long russia deport ukrainian occupied territory russians allow eu period putinwarcrime putinwarcriminal\n",
      "russian nobel peace prize winner sell medal fund ukrainian refugee stopputin standwithukraine\n",
      "world focus ukraine urge un member forget tigray region cut world imperative reject ethiopia effort deny fund investigation voteno tigraycantwait thailandun\n",
      "riyalevi february vladimir putin start war human race ww3 die people stop\n",
      "good idea toomas ilvestoomas long russia deport ukrainian occupied territory russians allow eu period putinwarcrime putinwarcriminal\n",
      "chernihiv oblast ukrainian welcome liberator russianinvasion ukraineunderattack ukrainewillwin putinisawarcriminal stopputin russianukrainianwar russiagohome россиясмотри нетвоине\n",
      "  accord american intelligence president putin feel deceive russian army leadership course war ukraine tension kremlin say arise germany mostlike\n",
      "public mint live billionaire wmn win public sale mint visit mint information good luck nft mint\n",
      "pray ukraine peace ukrainerussiawar buy\n",
      "sound war ukraine putin call special military operation president zelenskyy say forgive forget ukraine zelenskyy freshvoice resistanceunite wtpblue\n",
      "ukrainian armed force liberate settlement kherson region seize trophy equipment\n",
      " ukrainian air force like address misinformation publish multiple western medium outlet situation  sky support nato ally  protectuаsky stoprussia ukraineunderattaсk\n",
      "public mint live billionaire wmn win public sale mint visit mint information good luck nft mint\n",
      "ukraine russian bmp variant utterly obliterate film advance ukrainian troop likely kyiv oblast\n",
      "good idea toomas ilvestoomas long russia deport ukrainian occupied territory russians allow eu period putinwarcrime putinwarcriminal\n",
      "russia invasion ukraine draw ic attention away war include tigray world lethal disastrous war take place tigray food weaponize month endtigraysiege vickyford senatorround\n",
      "world focus ukrainewar family tigray ethiopia face 500daysoftigraygenocide remain forget ic accord wfp child pregnant breastfeed woman malnourish unocha\n",
      "spanish government send total plane offensive weapon ukraine announce defense minister margarita robles\n",
      "mzavala86 rt com dictator vladimir putin defeat russian  soldier go russia apply ukraine  citizenship hahaha  defeat\n",
      "read thead ukrainian air force rt kpszsu discuss air war aspect russia invasion ukraine read thread help ukraine retweet thread protectuаsky stoprussia ukraineunderattaсk\n",
      "russo ukrainian war ukraine\n"
     ]
    },
    {
     "name": "stderr",
     "output_type": "stream",
     "text": [
      "  0%|          | 340/254626 [00:02<32:01, 132.33it/s]"
     ]
    },
    {
     "name": "stdout",
     "output_type": "stream",
     "text": [
      "public mint live billionaire wmn win public sale mint visit mint information good luck nft mint\n",
      " ukrainian air force like address misinformation publish multiple western medium outlet situation  sky support nato ally  protectuаsky stoprussia ukraineunderattaсk\n",
      "russia offer rupee ruble denominate payment russia message system spf trading attractive india putin \n",
      "good idea toomas ilvestoomas long russia deport ukrainian occupied territory russians allow eu period putinwarcrime putinwarcriminal\n",
      "strike legend kyiv founder kyi shchek khoryv lybid swan brother sister resonance celtic child lir brother sister swan common irish   ukrainian \n",
      "pre biden claim gas price high putin invade ukraine invasion take place feb 24th oil price rise biden take office oil price surge putin cause high oil price scapegoat\n",
      "chernihiv oblast ukrainian welcome liberator russianinvasion ukraineunderattack ukrainewillwin putinisawarcriminal stopputin russianukrainianwar russiagohome россиясмотри нетвоине\n",
      "russian embassy open europe throw putin apologist ukrainerussiawar\n",
      "russia create work group probe control biolab ukraine biolab control create moscow russia\n",
      "add liar resume war criminal putin military henchman demonstrate tactic syria chechnya bluevoice wtpblue resistanceunite onev1\n",
      "ask mariupol resident russian attack civilian area report patrick lancaster navy veteran independent crowd fund journalist ukraine russiaukraine ukrainevsrussia\n",
      " ukrainian air force like address misinformation publish multiple western medium outlet situation  sky support nato ally  protectuаsky stoprussia ukraineunderattaсk\n",
      "russian soldier go invade ukraine capture\n",
      "ukrainian armed force liberate settlement kherson region seize trophy equipment\n",
      "ukraine army enter reclaimed village chernihiv region civilian greet\n",
      "irpin suburb kyiv ukrainian control accord mayor russian troop murder civilian roll body tank ukraine ukrainerussiawar\n",
      "senjohnthune appearance russia state tv help celebrate momentous occasion\n",
      "russian army loot computer teapot coffee machine chernobyl nuclear power plant pull belarus empr russiaukrainewar\n",
      "public mint live billionaire wmn win public sale mint visit mint information good luck nft mint\n",
      "   evening msg zelenskyyua ukraine endure enemy expect say day think seize entire state stand continue fight\n",
      "chernihiv oblast ukrainian welcome liberator russianinvasion ukraineunderattack ukrainewillwin putinisawarcriminal stopputin russianukrainianwar russiagohome россиясмотри нетвоине\n",
      "personal message man thank people protect family fight russian invader ukraine ukrainerussianwar putinwarcriminal\n",
      "let forgetbiden quid pro quo fire prosecution go hunter expose biden corruption bidencrimefamilly\n",
      "ulkoministerio haavisto past russia attack country grab land today happen ukraine stop terrorist country forever unite help ukraine stoprussia forever\n",
      "russia state tv report time lift sanction russian company deripaska rusal et al host laugh loud democrats get vote block effort express hope beginning\n"
     ]
    },
    {
     "name": "stderr",
     "output_type": "stream",
     "text": [
      "  0%|          | 354/254626 [00:02<32:24, 130.79it/s]"
     ]
    },
    {
     "name": "stdout",
     "output_type": "stream",
     "text": [
      "interested learn myth reality foreignfighter ukraine chance sign today webinar lead expert kacperrekawek crexuio colbornemichael bellingcat evianeleidig\n",
      "ukraine ukrainian force continue implementation improvise explosive device combat like middle east time russian fuel truck hit ied lead complete destruction\n",
      "russia stop fight war ukraine stop fight ukraine protester poland     ukrainewar standwithukraine russian russiaukrainewar\n",
      "ukraine tigraygenocide world ignore bad atrocity explain check video allowaccesstotigray supporthr6600 repannaeshoo repzoelofgren jimmypanetta repdavidvaladao devinnune gopleader carbajalsalud mikegarcia2020 repbrownley\n",
      "believe trust beautiful verbal construction real situation battlefield important thing fight meter land person ukraine usa\n",
      "famous british auction house christie ban sale luxury good client russia belarus\n",
      "abiy ahmed eritrean dictator isaias afewerki amhara ally continue tigray siege world condemn human right abuse tigray ukraine tigraygenocide supporthr6600 senjeffmerkley senjohnbarrasso\n",
      "icrc  comment  ukraine zelensky regime use ambulance troop \n",
      "kharkiv today word describe city despite city survive stand warinukraine harkiv russianwarcrime ukraineunderattaсk ukrainewillwin\n",
      "ukrainian armed force liberate settlement kherson region seize trophy equipment\n",
      "say   ukraine anymore thank fck\n",
      "japanese gov decide use russia like pronunciation writing ukrainian city sadly sound like nether kiev kyiv effort remind w w era try expel english word country enemy word kievnotkyiv\n",
      "world focus ukraine urge un member forget tigray region cut world imperative reject ethiopia effort deny fund investigation voteno tigraycantwait thailandun\n",
      " myth nato provide ukraine need weapon ally possible short direct involvement war  truth date ally answer air defense support fighter jet sam\n",
      "visualization attack civilian object standwithukraine\n",
      "putin unleash pathological terror world reminder horror disordered mind capable\n",
      "putin unfriendly country pay russian gas ruble april russia halt gas contract buyer pay ruble\n",
      "ukrainian force mortar team use drone spot target ukraine ukrainerussianwar kyiv ukrainewar ukrainerussiaconflict ukrainianarmy\n",
      " ukrainian air force like address misinformation publish multiple western medium outlet situation  sky support nato ally  protectuаsky stoprussia ukraineunderattaсk\n",
      "video american journalist lie epic scale lara logan ukraine ukrainerussiawar link video\n",
      "chernihiv oblast ukrainian welcome liberator russianinvasion ukraineunderattack ukrainewillwin putinisawarcriminal stopputin russianukrainianwar russiagohome россиясмотри нетвоине\n",
      "tank t34 memorial soviet troop berlin cover ukrainian flag russian embassy send note protest berlin authority reply t34 tank develop ukrainian city kharkiv\n",
      "public mint live billionaire wmn win public sale mint visit mint information good luck nft mint\n",
      "uk sanction russian include butcher mariupol shameless propagandist push putin lie disinformation colonel general mikhail mizintsev reportedly order bombing child hospital theater shelter civilian mariupol \n",
      "win war stand  ukraine ukrainerussiawar mint favourite peace nightingale \n"
     ]
    },
    {
     "name": "stderr",
     "output_type": "stream",
     "text": [
      "  0%|          | 383/254626 [00:03<31:44, 133.50it/s]"
     ]
    },
    {
     "name": "stdout",
     "output_type": "stream",
     "text": [
      "puck futin ukrainerussiawar\n",
      "chernihiv oblast ukrainian welcome liberator russianinvasion ukraineunderattack ukrainewillwin putinisawarcriminal stopputin russianukrainianwar russiagohome россиясмотри нетвоине\n",
      " thread donate money red cross bad idea team big research collect important info fact post find link primary source redcross redcrosswarcrime redcrosscriminal standwithukraine icrc\n",
      " gas           13191957  upflow volume upbitkorea gas ong omg theta eo xlm bch ont xem mtl\n",
      "russia invasion ukraine show un irrelevant\n",
      " anonymous idea  anonymous decentralized movement  leader  anonymous  oprussia  ukraine freeukraine standwithukraine\n",
      "marvin gaye mercy mercy soul classic soul marvingaye musica musique blue standwithukraine  peace\n",
      "palestine   ukraine \n",
      "ukrainian solider give medical aid injure russian solider ukrainewar\n",
      "carolecadwalla johnsonout67 putinsbrexit carolecadwalladrforhouseoflord sendkgblordtosiberia slavaukraini    oneness u super \n",
      "ukraine ua force capture russian t90a tank good condition unaware modern far platform russian army deploy conflict likely happen kyiv oblast\n",
      "russian occupier sign act intention leave chornobyl nuclear power plant empr\n",
      " myth nato provide ukraine need weapon ally possible short direct involvement war  truth date ally answer air defense support fighter jet sam\n",
      "icrc  comment  ukraine zelensky regime use ambulance troop \n",
      "potus  ukraine fight war behalf   jonasgahrstore   furnish w tool need fight megalomanic kremlinrussia e russiainvadeseurope\n",
      "littlejoao22 balajiworld don fejak baronichita bakersevenzero freak pentagon say russia retreat take force rock come balajiworld\n",
      "day night family personally family steven yes sorrow divulge alive fight burial twice explain life strength fate ukraine\n",
      "ukraine roundtable doodlebugeye tlav vanessabeeley evakbartlett alextomo\n",
      "pm ukraine bad day bad day hide work regular task repeat fine fine peace time promise complain peace time problem resolve war consider problem\n",
      "update mariupol\n",
      "kit find kill russian servicemen\n",
      "quicknick february vladimir putin start war human race ww3 die people stop\n",
      "ukrainian armed force liberate settlement kherson region seize trophy equipment\n",
      "colmogorman volunteer look disabled refugee ukraine surly colm know important secular saint lead refuse\n",
      "purpose ukraineinvasion destruction death\n",
      "ukraine ukrainian force destroy russian bmp2 infantry fighting vehicle apc pretty rare brem ch armored recovery vehicle area italian iveco lmv ry infantry mobility vehicle capture\n"
     ]
    },
    {
     "name": "stderr",
     "output_type": "stream",
     "text": [
      "  0%|          | 412/254626 [00:03<31:40, 133.77it/s]"
     ]
    },
    {
     "name": "stdout",
     "output_type": "stream",
     "text": [
      "germany need stop america puppet ruin economy eu germany russia ukraine gas\n",
      " ukrainian air force like address misinformation publish multiple western medium outlet situation  sky support nato ally  protectuаsky stoprussia ukraineunderattaсk\n",
      "public mint live billionaire wmn win public sale mint visit mint information good luck nft mint\n",
      "chernihiv oblast ukrainian welcome liberator russianinvasion ukraineunderattack ukrainewillwin putinisawarcriminal stopputin russianukrainianwar russiagohome россиясмотри нетвоине\n",
      "motytchak percent true anybody talk friend ukraine matter standwithukraine standforukraine\n",
      "ukrainian force successfully conduct local counterattack aroundkyiv sumy kherson oblast likely territory particularly northwest east kyiv come day read report\n",
      "belarusian battalion name kastus kalinouski ukraine belarusian hero help ukrainian defend friend know people ready risk life protect ukraine belarus\n",
      "marvin gaye mercy mercy soul classic soul marvingaye musica musique blue standwithukraine  peace\n",
      "putin say pure truth unfortunately medium corrupt work evil otancriminal newworldorder russia military basis world invade iraq syria libya yemen pakistan afghanistan\n",
      "kpszsu nato sure hear incredible job overwhelming odd pervail sadly high cost end victory encourage nato release possible aid ukrainerussiawar\n",
      "russian t72b obr tank capture ukrainian army advance kyiv oblast\n",
      "detail tonight hour special report evening lalate pm pst pm pst america primetime financial news istandwithukraine istandwithkherson stopputin stoprussia odessa kherson mykolaiv gasprice ukraine nowarinukraine z\n",
      "ukraine loss ambush carry ukrainian force russian convoy kyiv oblast see image t72b obr 2x t72b tank\n",
      "governorpataki recommend read article drop ukraine alternative find new comms person\n",
      "kit find kill russian servicemen\n",
      "russia war historic memory occupier shell memorial victim hero world war ii nazi 21st century denazifier stoprussia\n",
      "music peace concert dedicate memory saint pope john paul ii support ukraine thank plincanada event thank poland standwithukraine\n",
      "ukraine roundtable tlav vanessabeeley evakbartlett alex thomson challenge establishment narrative false flag psyop propaganda tell ukraine watch rokfin\n",
      "russian government act wildly flawed assumption strategic detriment indication suggest kremlin madness purely performative act read noahcrothman  russia vladimirputin\n",
      "roskomnadzor appeal administration wikipedia request delete true information russia war ukraine case failure delete online encyclopedia face fine ruble lol fucking clown putinwarcriminal fckptn\n",
      "dystopian future russiaukraineconflict ukrainerussiawar ukraine russian\n",
      "historian know call geopolitic great game year gt great power indulge game america uk france germany russia china gt literally million innocent die great game ukraine\n",
      "chernihiv oblast ukrainian welcome liberator russianinvasion ukraineunderattack ukrainewillwin putinisawarcriminal stopputin russianukrainianwar russiagohome россиясмотри нетвоине\n",
      "win war stand  ukraine ukrainerussiawar mint favourite peace nightingale \n",
      "uk sanction russian include butcher mariupol shameless propagandist push putin lie disinformation colonel general mikhail mizintsev reportedly order bombing child hospital theater shelter civilian mariupol \n"
     ]
    },
    {
     "name": "stderr",
     "output_type": "stream",
     "text": [
      "  0%|          | 440/254626 [00:03<32:03, 132.12it/s]"
     ]
    },
    {
     "name": "stdout",
     "output_type": "stream",
     "text": [
      "ukraine btr82a armored personnel carrier capture ukrainian army ua control nova basan chernihiv oblast\n",
      "world focus ukraine urge un member forget tigray region cut world imperative reject ethiopia effort deny fund investigation voteno tigraycantwait thailandun\n",
      "crypto donation ukraine ukraine russia donation  \n",
      "   evening msg zelenskyyua ukraine endure enemy expect say day think seize entire state stand continue fight\n",
      "big battle modern military history place donbass ukrainerussiawar russianukrainianwar\n",
      "    oh homeland independence cry mom home village besiege slavaukraine ukraine russia war\n",
      "carolecadwalla johnsonout67 putinsbrexit carolecadwalladrforhouseoflord sendkgblordtosiberia slavaukraini    oneness u super \n",
      "russia president vladimir putin say sign decree say foreign buyer pay ruble russian gas april contract halt payment\n",
      "bus pack russian soldier suffer acute radiation syndrome arrive belarus ukrainian chernobyl exclusion zone source member public council state ukraine agency exclusion zone yaroslav yemelyanenko unian news agency\n",
      "russia time parent soldier kill war ukraine file lawsuit commander 752nd regiment 3rd division 20th army western military district source gen staff uaf summary report march\n",
      "marvin gaye mercy mercy soul classic soul marvingaye musica musique blue standwithukraine  peace\n",
      "russia ukraine   recent photo foreign combatant tdf fighter left mexico   ukrainian malyuk vulkan m rifle ipi silencer fighter right usa  marine veteran exybsypg fighter hold ak74 rifle\n",
      "joe biden effort pressure oil company backfire disincentivize domestic crude drilling need climate\n",
      "mexico embolden constantly threaten ask russia military basis atomic bomb wmd border hate defend way hate russia ukrainerussiawar asitwas\n",
      "today control terrain map russian invasion ukraine thestudyofwar criticalthreat add map dedicate luhansk east\n",
      "ukraine ukrainian force continue implementation improvise explosive device combat like middle east time russian fuel truck hit ied lead complete destruction\n",
      "ukraine hollywood continue distract iran continue dangerous aid current administration bidenisalaughingstock freeiran2022\n",
      "public mint live billionaire wmn win public sale mint visit mint information good luck nft mint\n",
      "win war stand  ukraine ukrainerussiawar mint favourite peace nightingale \n",
      "abiy ahmed eritrean dictator isaias afewerki amhara ally continue tigray siege world condemn human right abuse tigray ukraine tigraygenocide supporthr6600 senjeffmerkley senjohnbarrasso\n",
      "saudi arabia start war drop missile oppressed child yemen declare come negotiate country start war ridiculous people world russiaukrainewar russiaukraineconflict ukrainerussiawar\n",
      "iaponomarenko putin severely underestimate patriotism tenacity strength ukrainian people severely overestimate ability military execute invasion putinfail glorytoukraine slavaukraini ukrainestrong standwithukraine  \n",
      "gb grid gas generate 764gw\n",
      "ukrainian government sell nft combine art tweet fund army pawlowskimario ukraine standingwithukraine  nftcommunity margaretsiegien nicochan33 jblefevre60 deeplearn007 avataverse frronconi mvollmer1 kanezadiane stratorob\n"
     ]
    },
    {
     "name": "stderr",
     "output_type": "stream",
     "text": [
      "  0%|          | 454/254626 [00:03<31:46, 133.33it/s]"
     ]
    },
    {
     "name": "stdout",
     "output_type": "stream",
     "text": [
      "hack group anonymous attack russia state television radio broadcasting company\n",
      " myth nato provide ukraine need weapon ally possible short direct involvement war  truth date ally answer air defense support fighter jet sam\n",
      "   evening msg zelenskyyua ukraine endure enemy expect say day think seize entire state stand continue fight\n",
      "holy shit russia confiscate humanitarian aid country deliver ukraine think low lower russiaukrainewar\n",
      "public mint live billionaire wmn win public sale mint visit mint information good luck nft mint\n",
      "israel come retweet help spread opisrael freepalestine anonymous\n",
      "ukrainian nazi imprudence frame ajarabic turn militant use ambulance know russian military shoot medical vehicle russiaukraineconflict russia ajenew\n",
      "public mint live billionaire wmn win public sale mint visit mint information good luck nft mint\n",
      "putin declare unfriendly country open rouble account russian bank buy natural gas start april 1st\n",
      "putin russian\n",
      "belarusian battalion name kastus kalinouski ukraine belarusian hero help ukrainian defend friend know people ready risk life protect ukraine belarus\n",
      "belarusian battalion name kastus kalinouski ukraine belarusian hero help ukrainian defend friend know people ready risk life protect ukraine belarus\n",
      "carolecadwalla johnsonout67 putinsbrexit carolecadwalladrforhouseoflord sendkgblordtosiberia slavaukraini    oneness u super \n",
      "advance kyiv airstrike stop say pentagonpressec ukrainerussiawar\n",
      "fuck putin anonymous oprussia cyberwar russia continue putin cease hostility people ukraine\n",
      "look wash supper russian pow surrender zsu force glory ukraine   \n",
      "help imagine time bad happen russian army incompetence action putin speak people ukrainian fault vile tactic chernobyl russianarmy russiaukrainewar ukraineunderattaсk\n",
      " myth nato provide ukraine need weapon ally possible short direct involvement war  truth date ally answer air defense support fighter jet sam\n",
      "difference russian gas pay rubel euro sound like symbolic thing difference russia economy payer payee effect exchange\n",
      " ukrainian air force like address misinformation publish multiple western medium outlet situation  sky support nato ally  protectuаsky stoprussia ukraineunderattaсk\n",
      "good ol medium ukraine russianukrainianwar\n",
      "cat pause sunset outside story apartment building destroy bombardment nemyshlianskyi district kharkiv neighbor say kill include year old ukraine\n",
      "odesa seashore protect photo dmytro mylyutyn standwithukraine\n",
      "ic  focus russia ukraine war abiyahmedali ally prepare reinvade tigray stoptigraygenocide un secblinken\n",
      " ukrainian air force like address misinformation publish multiple western medium outlet situation  sky support nato ally  protectuаsky stoprussia ukraineunderattaсk\n"
     ]
    },
    {
     "name": "stderr",
     "output_type": "stream",
     "text": [
      "  0%|          | 482/254626 [00:03<32:12, 131.52it/s]"
     ]
    },
    {
     "name": "stdout",
     "output_type": "stream",
     "text": [
      "map approximate situation ukraine utc ukrainecrisis ukraineunderattack break kyiv kharkiv odesa ukrainerussiawar\n",
      "today control terrain map russian invasion ukraine thestudyofwar criticalthreat add map dedicate luhansk east\n",
      "ukrainian armed force liberate settlement kherson region seize trophy equipment\n",
      "bus pack russian soldier suffer acute radiation syndrome arrive belarus ukrainian chernobyl exclusion zone source member public council state ukraine agency exclusion zone yaroslav yemelyanenko unian news agency\n",
      "anonymous hack release email marathon group russian investment firm own oligarch alexander vinokurov currently eu sanction vinokurov son law russian foreign minister lavrov oprussia ddosecret\n",
      "ukrainian ambush russian force time vicinity chernihiv msta s spg t72b destroy damage mt lb rare ppru1 ovod m sv mobile air target reconnaissance command center capture\n",
      "video chechnya kadyrovite soldier film video selfie tiktok invade ukraine go wrong\n",
      "ukrainian force northwest kyiv push russian force north e40 highway likely assault russian hold bucha hostomel come day\n",
      "russian ukraine war compilation youtube russianukrainianwar\n",
      "ukraine powerful sign strength people able create beauty amid war\n",
      "new mint april 2nd utc2  join discord question part real estate nft rent buy win collect wincity history eth nft wincity mint drop invest realestate\n",
      "pre biden claim gas price high putin invade ukraine invasion take place feb 24th oil price rise biden take office oil price surge putin cause high oil price scapegoat\n",
      "public mint live billionaire wmn win public sale mint visit mint information good luck nft mint\n",
      "ukraine area secure ua force tank recover excellent condition actually t72b3 m obr t90a crew survive\n",
      " time check  russian soros china ukraine tfl1728 unikgirl11 joostbroeker disclosetv dollarvigilante clif high plnewstoday\n",
      "public mint live billionaire wmn win public sale mint visit mint information good luck nft mint\n",
      "ukraine army enter reclaimed village chernihiv region civilian greet\n",
      "carolecadwalla johnsonout67 putinsbrexit carolecadwalladrforhouseoflord sendkgblordtosiberia slavaukraini    oneness u super \n",
      "win war stand  ukraine ukrainerussiawar mint favourite peace nightingale \n",
      "public mint live billionaire wmn win public sale mint visit mint information good luck nft mint\n",
      "pre biden claim gas price high putin invade ukraine invasion take place feb 24th oil price rise biden take office oil price surge putin cause high oil price scapegoat\n",
      "past decade ukrainian choose uncertain future myth past greatness base blood tie country cease legible putin russians support aglaser ukraine ukrainerussiawar\n",
      "public mint live billionaire wmn win public sale mint visit mint information good luck nft mint\n",
      "chernihiv oblast ukrainian welcome liberator russianinvasion ukraineunderattack ukrainewillwin putinisawarcriminal stopputin russianukrainianwar russiagohome россиясмотри нетвоине\n",
      "public mint live billionaire wmn win public sale mint visit mint information good luck nft mint\n"
     ]
    },
    {
     "name": "stderr",
     "output_type": "stream",
     "text": [
      "  0%|          | 510/254626 [00:04<32:51, 128.89it/s]"
     ]
    },
    {
     "name": "stdout",
     "output_type": "stream",
     "text": [
      "free speech russia putin like jail indefinitely ukraine want liberty allow democracy freedomforukraine democracynotautocracy standwithukraine\n",
      "public mint live billionaire wmn win public sale mint visit mint information good luck nft mint\n",
      "march future german dictator adolf hitler discharge german army private class corporal report history standwithukraine ad support click link shop amazon\n",
      " wl spot giveaway grab enter    follow twitter badputinnft  like rt post  tag friend  join discord invite friend end 48hrs guy good luck ukraineunderattaсk warinukraine nftgiveaway\n",
      "chernihiv oblast ukrainian welcome liberator russianinvasion ukraineunderattack ukrainewillwin putinisawarcriminal stopputin russianukrainianwar russiagohome россиясмотри нетвоине\n",
      "time chapter come hustle helldog  website live sneak peak ahead wrong art universe generative drop 3rd whitelist come nft nftdrop nftartist nftproject mint\n",
      "ukrainian force successfully conduct local counterattack kyiv sumy kherson oblast likely territory particularly northwest east kyiv come day read report\n",
      " ukrainian air force like address misinformation publish multiple western medium outlet situation  sky support nato ally  protectuаsky stoprussia ukraineunderattaсk\n",
      "mariupol know chopper send overnight evacuate ukraine ian force azov command mariupol shoot russia leave mariupol board die impact survive take prisoner\n",
      " fm sergey lavrov talk fm pakistan shah mahmood tunxi china try afghanistan centre world politic try ukraine replace afghanistan understand\n",
      "chernihiv oblast ukrainian welcome liberator russianinvasion ukraineunderattack ukrainewillwin putinisawarcriminal stopputin russianukrainianwar russiagohome россиясмотри нетвоине\n",
      "late defence intelligence update situation ukraine march find uk government response standwithukraine \n",
      "putin declare unfriendly country open rouble account russian bank buy natural gas start april 1st\n",
      "ukraine previously unseen russian loss kyiv oblast vityaz dt30 articulated track carrier t72b t72b obr tank iveco lmv ry\n",
      "russia launch missile target ukraine beginning scale invasion ministry defense ukraine say empr russiaukrainewar\n",
      "break ukraine russia  ukraine heart warm scene war region flash ukrainewar ukrainerussia ucrania ucraina guerra guerre catsoftwitter cat\n",
      "public mint live billionaire wmn win public sale mint visit mint information good luck nft mint\n",
      "warnurspass february vladimir putin start war human race ww3 die people stop\n",
      "mariupol russian invader fire building red cross mark bad crime war crosse mark place wound civilian humanitarian cargo find azov report stoprussia standwithukraine stoprussianaggression\n",
      "whitepaper publish airdrop airdrop binance bitcoin etherum giveaway carfuel bsc btc eth energy fuel gasoline gas oil new crypto\n",
      "russia time parent soldier kill war ukraine file lawsuit commander 752nd regiment 3rd division 20th army western military district source gen staff uaf summary report march\n",
      "russia president vladimir putin say sign decree say foreign buyer pay ruble russian gas april contract halt payment\n",
      "marvin gaye mercy mercy soul classic soul marvingaye musica musique blue standwithukraine  peace\n"
     ]
    },
    {
     "name": "stderr",
     "output_type": "stream",
     "text": [
      "  0%|          | 537/254626 [00:04<32:55, 128.59it/s]"
     ]
    },
    {
     "name": "stdout",
     "output_type": "stream",
     "text": [
      "germany poor ukraine war small price pay say economy minister\n",
      "govern group evil tyrant wef russiaukraine iran china unified goal destruction obsess gender world plan destruction putin prepare nuclearwar year\n",
      "public mint live billionaire wmn win public sale mint visit mint information good luck nft mint\n",
      "pre biden claim gas price high putin invade ukraine invasion take place feb 24th oil price rise biden take office oil price surge putin cause high oil price scapegoat\n",
      " ukrainian air force like address misinformation publish multiple western medium outlet situation  sky support nato ally  protectuаsky stoprussia ukraineunderattaсk\n",
      "evacuation irpin ukrainian defender amazing thank stoprussia standwithukraine\n",
      "ukrainian force successfully conduct local counterattack kyiv sumy kherson oblast likely territory particularly northwest east kyiv come day read report\n",
      " ukrainian air force like address misinformation publish multiple western medium outlet situation  sky support nato ally  protectuаsky stoprussia ukraineunderattaсk\n",
      "imf say russia sanction threaten reduce dominance dollar russia work develop trade ruble dave decamp decampdave sanction imf dollar russia ukraine\n",
      "president bill clinton george w bush visit ukrainian church chicago solidarity ukraine\n",
      "public mint live billionaire wmn win public sale mint visit mint information good luck nft mint\n",
      "kharkiv today word describe city despite city survive stand warinukraine harkiv russianwarcrime ukraineunderattaсk ukrainewillwin\n",
      "carolecadwalla johnsonout67 putinsbrexit carolecadwalladrforhouseoflord sendkgblordtosiberia slavaukraini    oneness u super \n",
      "friend wipe away tear ukraine ian twitter troll say nypost say nato thinktank say entirety russia fall kola superdeep borehole sg3 calm definitely let know stink\n",
      "ukrainian air defense target hit shout welcome ukraine ukraine\n",
      "ukraine zsu23 shilka self propel anti aircraft gun capture russian army ukrainian force pretty outdated piece kit\n",
      "food security concern ukraine crisis shake kazakh politic talk final transition superpresidential form government presidential republic strong parliament promise kazakhstani president kassym jomart\n",
      "update mariupol\n",
      "thousand people fall ground warsaw world aware scale tragedy ukraine thank poland   standwithukraine ukrainerussiawar ukrainewillresist\n",
      "rail war break belarus order slow movement russian military equipment ukraine belarusian take equipment service\n",
      "endure enemy expect say day think seize entire state day stand continue fight resistanceunite freshvoice wtpblue ukraine\n",
      "mariupol source indicate azovstal group total american uk british military advisor azov defender uk sbu ukraine ian secrete police advisor hole azov fighter late evacuate\n",
      "hero die protect ukraine tomorrow funeral mykola girl lose dad wife lose husband village novosilky volyn region ukrainerussiawar ukraineunderattaсk standwithukraine\n",
      " amnesty release ground research ukraine document russian force siege warfare tactic tactic mark relentless indiscriminate attack kill civilian indiscriminate attack kill civilian constitute war crime amnestyoz\n"
     ]
    },
    {
     "name": "stderr",
     "output_type": "stream",
     "text": [
      "  0%|          | 550/254626 [00:04<33:16, 127.29it/s]"
     ]
    },
    {
     "name": "stdout",
     "output_type": "stream",
     "text": [
      "baronichita bakersevenzero withdrawal tactical strategic know guess tactical good russia n troop take airport early morning day war keep ukraine throw need \n",
      "public mint live billionaire wmn win public sale mint visit mint information good luck nft mint\n",
      "abiy ahmed eritrean dictator isaias afewerki amhara ally continue tigray siege world condemn human right abuse tigray ukraine tigraygenocide supporthr6600 senjeffmerkley senjohnbarrasso\n",
      "ukraine destroy russian vehicle t72 tank variant appear btr d airborne apc unknown precisely hit\n",
      "british soldier package thousand helmet equipment ukrainian troop ukrainewar ukrainerussianwar helmet\n",
      "public mint live billionaire wmn win public sale mint visit mint information good luck nft mint\n",
      "photo dog leave destroy house near kyiv joyfully meet savior dog russiainvadedukraine saveukraine soldier stoprussia\n",
      "chernihiv oblast ukrainian welcome liberator russianinvasion ukraineunderattack ukrainewillwin putinisawarcriminal stopputin russianukrainianwar russiagohome россиясмотри нетвоине\n",
      " ukrainian air force like address misinformation publish multiple western medium outlet situation  sky support nato ally  protectuаsky stoprussia ukraineunderattaсk\n",
      "russian soldier skip basic training drop bridge tank couple week ago note crew open hatch hatch open survive drowning ukraine lift tank river\n",
      "ukraine russian bmd4 m capture fight w kyiv notice damage\n",
      "ukraine appear russian multiple rocket launcher abandon kyiv oblast fact advanced modern tornado g mlrs system adopt russian army h t blue sauron\n",
      "world focus ukraine urge un member forget tigray region cut world imperative reject ethiopia effort deny fund investigation voteno tigraycantwait thailandun\n",
      "large russian mbt armoured vehicle apcs truck lose kyiv oblast russia ukraine\n",
      "photo dog leave destroy house near kyiv joyfully meet savior dog russiainvadedukraine saveukraine soldier stoprussia\n",
      "simpson meme family photo commission fiverr artist ukraine year ago care artist family profile fb pre invasion\n",
      "chernihiv oblast ukrainian welcome liberator russianinvasion ukraineunderattack ukrainewillwin putinisawarcriminal stopputin russianukrainianwar russiagohome россиясмотри нетвоине\n",
      "endure enemy expect say day think seize entire state day stand continue fight resistanceunite freshvoice wtpblue ukraine\n",
      "hey friend want let know accept mod role ukraineartco love team art beautiful give opportunity help team help people ukraine mean ukraine\n",
      "   biden announce large release oil strategic petroleum reserve us history  barrel day month month\n",
      " live day charity n chill help directrelief help ukraine  donate month trovolive earning end stream dosomegood  hi\n",
      "thread supportukraine standwithukraine thing street protest support pressure government provide ukraine military aid impose sanction russia total disconnection swift oil ban\n",
      " rise oil cost compare global famine ukrainerussiawar cause demvoice1 onev1\n"
     ]
    },
    {
     "name": "stderr",
     "output_type": "stream",
     "text": [
      "  0%|          | 576/254626 [00:04<33:38, 125.84it/s]"
     ]
    },
    {
     "name": "stdout",
     "output_type": "stream",
     "text": [
      "icao24 callsign aic134 origin country india spot belarus 1917 spot russia 2002est\n",
      " ukrainian air force like address misinformation publish multiple western medium outlet situation  sky support nato ally  protectuаsky stoprussia ukraineunderattaсk\n",
      "russia exchange hack electorate\n",
      "carolecadwalla johnsonout67 putinsbrexit carolecadwalladrforhouseoflord sendkgblordtosiberia slavaukraini    oneness u super \n",
      "ukrainerussiawar put thing perspective mean care slapchrisrock\n",
      "ukraine previously unseen russian loss kyiv oblast vityaz dt30 articulated track carrier t72b t72b obr tank iveco lmv ry\n",
      "patriarch kirill know support war ukraine ukrainian parliament introduce bill ban russian orthodox church draft law envision property roc nationalize hour adoption law\n",
      "loooooo02942311 report like pure nonsense garbage recently view kim nikolayev region governor video depressed hell force pretty pathetically near kherson\n",
      "kyiv update ukrainian force conduct local counterattack kyiv northeastern ukraine kherson march successfully pressure russian force seek disrupt ongoing russian troop rotation\n",
      "  remain mint   close sell genesis launch grab minion exist staking live     sandbox p2e game development nft nft miniz p2egame playtoearn monzterminion\n",
      " ukrainian air force like address misinformation publish multiple western medium outlet situation  sky support nato ally  protectuаsky stoprussia ukraineunderattaсk\n",
      "chrismo69614131 tooidevry risemelbourne inflation go roof course printer fed ecb go brrrr fiat create decade borrow free gas house food price geeh wonder come\n",
      "immigration biden admin lift trump era title42 wh admits create influx migrant\n",
      "world focus ukraine urge un member forget tigray region cut world imperative reject ethiopia effort deny fund investigation voteno tigraycantwait thailandun\n",
      " ukrainian air force like address misinformation publish multiple western medium outlet situation  sky support nato ally  protectuаsky stoprussia ukraineunderattaсk\n",
      "sapa x trench bad pass   anonymous aprilfoolsday aprilfool bbcqt poch truth\n",
      "time eastmed pipeline late thenatlinterest secblinken disastrous decision stop support israel cyprus greece pipeline bring gas europe wo empower russia turkey aeifdp\n",
      "public mint live billionaire wmn win public sale mint visit mint information good luck nft mint\n",
      "etiennedumont6 february vladimir putin start war human race ww3 die people stop\n",
      "fuck putin anonymous oprussia cyberwar russia continue putin cease hostility people ukraine\n",
      "ukraine ukrainian force destroy russian bmp2 infantry fighting vehicle apc pretty rare brem ch armored recovery vehicle area italian iveco lmv ry infantry mobility vehicle capture\n",
      "volodymyr irina meet military unit irina serve year think month proposal married   standwithukraine\n",
      "public mint live billionaire wmn win public sale mint visit mint information good luck nft mint\n",
      "lucky inverstor presale stage ready time information share later carfuelfinance airdrop airdrop binance bitcoin etherum giveaway carfuel bsc btc eth energy fuel gasoline gas oil new crypto\n"
     ]
    },
    {
     "name": "stderr",
     "output_type": "stream",
     "text": [
      "  0%|          | 603/254626 [00:04<33:54, 124.86it/s]"
     ]
    },
    {
     "name": "stdout",
     "output_type": "stream",
     "text": [
      "rail war break belarus order slow movement russian military equipment ukraine belarusian take equipment service\n",
      "ukrainian advance kyiv oblast russian equipment destroy artillery drone uaf film russia ukraine\n",
      "world focus ukraine urge un member forget tigray region cut world imperative reject ethiopia effort deny fund investigation voteno tigraycantwait thailandun\n",
      "ukraine video position kyiv oblast show sheer level destruction little post apart t72b tank possibly truck\n",
      "chernihiv oblast ukrainian welcome liberator russianinvasion ukraineunderattack ukrainewillwin putinisawarcriminal stopputin russianukrainianwar russiagohome россиясмотри нетвоине\n",
      " ukrainian air force like address misinformation publish multiple western medium outlet situation  sky support nato ally  protectuаsky stoprussia ukraineunderattaсk\n",
      "absolutely west need stop pontificate russia continue fulfill energy requirement stop tell india\n",
      "ukraine previously unseen russian loss kyiv oblast vityaz dt30 articulated track carrier t72b t72b obr tank iveco lmv ry\n",
      "russia ruthless war ukraine trump putin fixation\n",
      "mariupol ukraine look like today russian invader drop bomb daily hard count civilian casualty people die shelling hunger dehydration literally got shoot russian occupant try flee city standwithukraine\n",
      "pray ukraine peace ukrainerussiawar buy\n",
      "ukraine destroy russian kamaz63968 typhoon k mrap kyiv oblast\n",
      "employee belarusian railway detain belarus past week connect action aim restrict movement troop russia belarus war ukraine penitential video film detainee\n",
      "uk agree provide ukraine long range artillery air defense system ammunition report reuters cite ben wallace uk defence secretary standwithukraine\n",
      "daily life zelensky fascist ukraine ukraine ukrainerussiawar russia usa nato war news ukraina putin biden ukrainewar kyiv\n",
      "western support ukraine win selenski selenskij selenskyi zelenskyy zelenski war russia\n",
      "carolecadwalla johnsonout67 putinsbrexit carolecadwalladrforhouseoflord sendkgblordtosiberia slavaukraini    oneness u super \n",
      "untold hero untold story andrea cisternino choose abandon rescue animal lisovychi ukraine food water russian occupier allow receive outside help info thread dog dogsoftwittter\n",
      "close tie allow russian propaganda spread swiftly china report claim china guardian\n",
      "peg ruble gold russia send tough message biden russia reply usa sanction chance world breakaway worthless dollar world reserve currency\n",
      "time amnesty researcher verify physical evidence ban cluster munition use violate international law come week amnesty publish evidence gather ground research ukraine amnestyoz\n",
      "public mint live billionaire wmn win public sale mint visit mint information good luck nft mint\n",
      "pavellatushka hero standwithukraine\n",
      " the armed force ukraine record withdrawal piece equipment invader kyiv region addition vyshgorod control ukraine\n",
      " kherson ukraine  ukrainian troop capture abandon destroy russian vehicle kherson region russian troop pull vsu report slight ukrainian offensive east kherson city russia ukraine war\n"
     ]
    },
    {
     "name": "stderr",
     "output_type": "stream",
     "text": [
      "  0%|          | 630/254626 [00:05<33:12, 127.48it/s]"
     ]
    },
    {
     "name": "stdout",
     "output_type": "stream",
     "text": [
      "ukrainian force capture russian btr82a armored personnel carrier liberated village nova basan chernihiv region damagedukraine ukraine ukrainerussiawar ukrainewar ukraineunderattaсk russianukrainianwar russia kiev kyiv ukrainian\n",
      "ukraineunderseige odesadefiesrussia slavaukraini  ukraine war odesa defy russia embrace sign life\n",
      "ukraine previously unseen russian loss kyiv oblast vityaz dt30 articulated track carrier t72b t72b obr tank iveco lmv ry\n",
      "ukraine army enter reclaimed village chernihiv region civilian greet\n",
      "make wonder ukraine leadership see turkey friend take action russia contrary benefit side ukrainewar play peacemaker host meeting zelenskyyua trust erdogan region\n",
      "pointstgeorge fire threat leave ukraine throw thousand troop kiev donbass rf plan second phase operation russia threaten kiev ukraine force matter\n",
      "russianukrainianwar rally take place today galicia spain support donbass anti fascist resistance inside ukraine kiev regime\n",
      "ukrainian mi8msb helicopter down near mariupol way ukrainian army attempt evacuate high rank officer citymultiple casualty ukraine\n",
      "bambam spot incheon international airport way usa 29th march camila cabello ed sheeran join force itv concert ukraine perform new collaboration bam bam live time bambamtousa2022 bambam b bambam1a\n",
      "belarusian battalion name kastus kalinouski ukraine belarusian hero help ukrainian defend friend know people ready risk life protect ukraine belarus\n",
      "lapatina daily protest putin war ukrainerussiawar\n",
      "day russia invasion ukraine think invasion ukraine end day36 russianinvasionofukraine russiainvadedukraine russianukrainianwar\n",
      "disappointing shot vax protect infection bad covid19 covid vaccine vaccination ba2variant biden unvaccinate fauci pfizerdocument getvaccinate\n",
      "read thead ukrainian air force rt kpszsu discuss air war aspect russia invasion ukraine read thread help ukraine retweet thread protectuаsky stoprussia ukraineunderattaсk\n",
      "kit find kill russian servicemen\n",
      "spanish government send total plane offensive weapon ukraine announce defense minister margarita robles\n",
      "sdgrumbine live let ready grumble statuscoup discuss dollar hegemony feed raise interestrate biden plan reduce deficit consequence tune\n",
      "   evening msg zelenskyyua ukraine endure enemy expect say day think seize entire state stand continue fight\n",
      " ukrainian air force like address misinformation publish multiple western medium outlet situation  sky support nato ally  protectuаsky stoprussia ukraineunderattaсk\n",
      " reminder  pin tweet donation unicef ukraine relief effort rt cent donate like cent donate free play guy help cause gamblingtwitter\n",
      "win war stand  ukraine ukrainerussiawar mint favourite peace nightingale \n",
      "difference stopwar putinswar stoprussia peace innocent  zelensky great   zelenskiy brave zelenskyy leadership brave ukrainian  kyiv nato saveukraine anonymous usa uk eu standagainstforiegninvasion fuzzy fuzzbutt\n",
      "ukraine imr2 military engineering vehicle lose russian army recover tractor brigade tradition\n",
      "world focus ukraine urge un member forget tigray region cut world imperative reject ethiopia effort deny fund investigation voteno tigraycantwait thailandun\n"
     ]
    },
    {
     "name": "stderr",
     "output_type": "stream",
     "text": [
      "  0%|          | 657/254626 [00:05<32:58, 128.36it/s]"
     ]
    },
    {
     "name": "stdout",
     "output_type": "stream",
     "text": [
      "attention standwithukraine\n",
      " ukrainian air force like address misinformation publish multiple western medium outlet situation  sky support nato ally  protectuаsky stoprussia ukraineunderattaсk\n",
      "blackmanexpress february vladimir putin start war human race ww3 die people stop\n",
      "carolecadwalla johnsonout67 putinsbrexit carolecadwalladrforhouseoflord sendkgblordtosiberia slavaukraini    oneness u super \n",
      "tbt march time beautiful kyiv get excellent bottle nemiroff raise virtual glass brave people defend homeland anxiously anticipate lift ban alcohol sale tomorrow slavaukraini \n",
      "resident village chernihiv region welcome ukrainian liberation army  war ukraine ukrainewar ukrainerussianwar ukraineunderattaсk russia russianwarcrime russianukrainianwar russianarmy\n",
      "corr complete answer boris johnson ukraine equal leave ukrainian second need vid min war  \n",
      "yesterday brussels peaceful strike devastating kid have fight freedom suffering war   ukraine ukrainerussiawar ukrainewar peaceandjustice\n",
      "today control terrain map russian invasion ukraine thestudyofwar criticalthreat add map dedicate luhansk east\n",
      "ukraine need ratify rome statute need use force sure putin omit responsibility crime talk newsweek\n",
      "public mint live billionaire wmn win public sale mint visit mint information good luck nft mint\n",
      "irpin suburb kyiv ukrainian control accord mayor russian troop murder civilian roll body tank ukraine ukrainerussiawar\n",
      " ukrainian air force like address misinformation publish multiple western medium outlet situation  sky support nato ally  protectuаsky stoprussia ukraineunderattaсk\n",
      "chernihiv oblast ukrainian welcome liberator russianinvasion ukraineunderattack ukrainewillwin putinisawarcriminal stopputin russianukrainianwar russiagohome россиясмотри нетвоине\n",
      "putin unfriendly country pay russian gas ruble april russia halt gas contract buyer pay ruble\n",
      " ukrainian air force like address misinformation publish multiple western medium outlet situation  sky support nato ally  protectuаsky stoprussia ukraineunderattaсk\n",
      "if africa man like putin world power ownextremely wealthy thrive world good tourist destination direct smart give politely way give russia ukrainerussiacrisis bric nigeria\n",
      "sfu token continue impressive performance help ukrainian safeukraine ukrainerussiawar dollar process dollar soon\n",
      "thumb nose threaten wikipedia entry ukrainerussianwar russianaggression ukrainerussiawar\n",
      "poll bilibili chinese equivalent youtube ask blame russia ukraine conflict user vote winner iiiiiiiiiiiiis wait guess course thegreattranslationmovement  ukrainerussiawar\n",
      " myth nato provide ukraine need weapon ally possible short direct involvement war  truth date ally answer air defense support fighter jet sam\n",
      "read thead ukrainian air force rt kpszsu discuss air war aspect russia invasion ukraine read thread help ukraine retweet thread protectuаsky stoprussia ukraineunderattaсk\n",
      "break ukraine russia  ukraine heart warm scene war region flash ukrainewar ukrainerussia ucrania ucraina guerra guerre catsoftwitter cat\n",
      "stray dog accompany ukrainian fighter odin unit take cover inside building hear incoming round clearing operation remain russian force irpinukraine war ukrainewar kyiv ukrainerussianwar dog mansbestfriend nytime\n"
     ]
    },
    {
     "name": "stderr",
     "output_type": "stream",
     "text": [
      "  0%|          | 670/254626 [00:05<33:06, 127.83it/s]"
     ]
    },
    {
     "name": "stdout",
     "output_type": "stream",
     "text": [
      "photo dog leave destroy house near kyiv joyfully meet savior dog russiainvadedukraine saveukraine soldier stoprussia\n",
      "chernihiv oblast ukrainian welcome liberator russianinvasion ukraineunderattack ukrainewillwin putinisawarcriminal stopputin russianukrainianwar russiagohome россиясмотри нетвоине\n",
      " ukrainian air force like address misinformation publish multiple western medium outlet situation  sky support nato ally  protectuаsky stoprussia ukraineunderattaсk\n",
      "newswirelk chinese corporation huawei face new sanction washington provide support russia field telecom financial time\n",
      "marvin gaye mercy mercy soul classic soul marvingaye musica musique blue standwithukraine  peace\n",
      "chernihiv oblast ukrainian welcome liberator russianinvasion ukraineunderattack ukrainewillwin putinisawarcriminal stopputin russianukrainianwar russiagohome россиясмотри нетвоине\n",
      "volodymyr irina meet military unit irina serve year think month proposal married   standwithukraine\n",
      "ukraine ukrainian advance west kyiv russian bmp2 supply truck destroy\n",
      "pre biden claim gas price high putin invade ukraine invasion take place feb 24th oil price rise biden take office oil price surge putin cause high oil price scapegoat\n",
      "ukraine appear russian multiple rocket launcher abandon kyiv oblast fact advanced modern tornado g mlrs system adopt russian army h t blue sauron\n",
      "ukraine video position kyiv oblast show sheer level destruction little post apart t72b tank possibly truck\n",
      "gyakov1990 ukraine ian troop take gostomel 23s irpin irpin stick bridge blow ua unit valueless possible russia let ukraine ian simply defensible position\n",
      "presale hour   check start time link carfuelfinance airdrop airdrop binance bitcoin etherum giveaway carfuel bsc btc eth energy fuel gas gas oil new crypto\n",
      "ukraine powerful sign strength people able create beauty amid war\n",
      "pre biden claim gas price high putin invade ukraine invasion take place feb 24th oil price rise biden take office oil price surge putin cause high oil price scapegoat\n",
      " ukrainian air force like address misinformation publish multiple western medium outlet situation  sky support nato ally  protectuаsky stoprussia ukraineunderattaсk\n",
      "tremendous focus ukraine rightly area world access life save intervention tigray acute moment term get basic access supply food director dr mike ryan\n",
      "carolecadwalla johnsonout67 putinsbrexit carolecadwalladrforhouseoflord sendkgblordtosiberia slavaukraini    oneness u super \n",
      "public mint live billionaire wmn win public sale mint visit mint information good luck nft mint\n",
      "ukraine destroy russian kamaz63968 typhoon k mrap kyiv oblast\n",
      "etiennedumont6 february vladimir putin start war human race ww3 die people stop\n",
      "wait longgggg queue pay food know war tweet read people world write country incredible world kyiv war time\n",
      "stray dog accompany ukrainian fighter odin unit take cover inside building hear incoming round clearing operation remain russian force irpinukraine war ukrainewar kyiv ukrainerussianwar dog mansbestfriend nytime\n",
      "putin declare unfriendly country open rouble account russian bank buy natural gas start april 1st\n"
     ]
    },
    {
     "name": "stderr",
     "output_type": "stream",
     "text": [
      "  0%|          | 696/254626 [00:05<33:50, 125.07it/s]"
     ]
    },
    {
     "name": "stdout",
     "output_type": "stream",
     "text": [
      "team travel right pre positioned relief item medical supply ready facilitate safe passage civilian mariupol\n",
      "march russianarmedforce destroy fuel storage ukraine army try sabotage planting season ukraine ukraineunderattack putinisawarcriminal stopputin russianukrainianwar\n",
      "ukrainian advance kyiv oblast russian equipment destroy artillery drone uaf film russia ukraine\n",
      "storm warning place southern ukraine fro april 1st damaging wind possible\n",
      "public mint live billionaire wmn win public sale mint visit mint information good luck nft mint\n",
      "ic  focus russia ukraine war abiyahmedali ally prepare reinvade tigray stoptigraygenocide un secblinken\n",
      "russia withdraw reposition north kiev n kherson unable advance suffer heavy loss claim target donbass day russian continue fail withdraw till territory donbass crimea ukraine proceed\n",
      " ukrainian air force like address misinformation publish multiple western medium outlet situation  sky support nato ally  protectuаsky stoprussia ukraineunderattaсk\n",
      " wl spot giveaway grab enter    follow twitter badputinnft  like rt post  tag friend  join discord invite friend end 48hrs guy good luck ukraineunderattaсk warinukraine nftgiveaway\n",
      "gyakov1990 ukraine ian troop take gostomel 23s irpin irpin stick bridge blow ua unit valueless possible russia let ukraine ian simply defensible position\n",
      " russians leave chornobyl nuclear power plant take ukrainian border guard hold captive february invasion ukraine\n",
      " myth nato provide ukraine need weapon ally possible short direct involvement war  truth date ally answer air defense support fighter jet sam\n",
      "ukrainian fighter survey disabled russian armored vehicle clearing operation remain russian force irpin ukraine war ukrainewar military warukraine irpin kyiv ukrainerussianwar russia invasion war conflict military photojournalism\n",
      "russian btr82a destroy fight nova basan ua force retook\n",
      "read thead ukrainian air force rt kpszsu discuss air war aspect russia invasion ukraine read thread help ukraine retweet thread protectuаsky stoprussia ukraineunderattaсk\n",
      "  hide civilian shoot resident mariupol manage escape clutch neo nazis tell truth atrocity infamous neo nazi azov battalion msm tell see4yourself\n",
      "ukraine russian bmd4 m capture fight w kyiv notice damage\n",
      "ukraine russian bmp variant utterly obliterate film advance ukrainian troop likely kyiv oblast\n",
      " myth nato provide ukraine need weapon ally possible short direct involvement war  truth date ally answer air defense support fighter jet sam\n",
      "carolecadwalla johnsonout67 putinsbrexit carolecadwalladrforhouseoflord sendkgblordtosiberia slavaukraini    oneness u super \n",
      "refugee mariupol tell afuazov fire car child try leave city ukraine\n",
      "putin declare unfriendly country open rouble account russian bank buy natural gas start april 1st\n",
      "kevinrothrock putin child molester\n",
      "new york times reporter show world ukrainian serviceman repel russian occupier let ukraine stand russian aggression sake entire civilized world standwithukraine\n"
     ]
    },
    {
     "name": "stderr",
     "output_type": "stream",
     "text": [
      "  0%|          | 724/254626 [00:05<32:25, 130.54it/s]"
     ]
    },
    {
     "name": "stdout",
     "output_type": "stream",
     "text": [
      "kharkiv update russian force likely intend advance southeast izyum link russian force advance west luhansk oblast damage russian unit redeploy northeastern ukraine likely limited utility\n",
      "public mint live billionaire wmn win public sale mint visit mint information good luck nft mint\n",
      "time amnesty researcher verify physical evidence ban cluster munition use violate international law come week amnesty publish evidence gather ground research ukraine amnestyoz\n",
      " amnesty release ground research ukraine document russian force siege warfare tactic tactic mark relentless indiscriminate attack kill civilian indiscriminate attack kill civilian constitute war crime amnestyoz\n",
      "roberta metsola president european parliament visit kyiv\n",
      "chernihiv oblast ukrainian welcome liberator russianinvasion ukraineunderattack ukrainewillwin putinisawarcriminal stopputin russianukrainianwar russiagohome россиясмотри нетвоине\n",
      "irs chaos wrong putin headline anxiety russia economic blackout capitalone card travel blogger buzz\n",
      "local salute ukrainian fighter newly liberate village east kyiv  ukraine ukrainewar ukrainewarvideo russianukrainianwar ukrainerussianwar warinukraine russia ukraineinvasion\n",
      "   evening msg zelenskyyua ukraine endure enemy expect say day think seize entire state stand continue fight\n",
      "public mint live billionaire wmn win public sale mint visit mint information good luck nft mint\n",
      "kharkiv today word describe city despite city survive stand warinukraine harkiv russianwarcrime ukraineunderattaсk ukrainewillwin\n",
      "fuck putin anonymous oprussia cyberwar russia continue putin cease hostility people ukraine\n",
      "russia foreign minister sergey lavrov arrive new delhi visit meet indian prime minister narendra modi foreign minister subrahmanyam jaishankar april russian foreign ministry spokeswoman maria zakharova say russia geeta mohan\n",
      "russian ongoing aggression ukraine state department see report americans detain russian military ukraine cnn\n",
      "monkey14444 orrxmarc kyivindependent means russian  population dictatorship democracy slavaukraine stopputinnow putinwarcriminal standingwithukraine putinhitler putinisawarcriminal\n",
      "ukraine exceed expectation russia airforce\n",
      "believe happen good thread mariupol tesla model x tesa elonmusk\n",
      " ukrainian air force like address misinformation publish multiple western medium outlet situation  sky support nato ally  protectuаsky stoprussia ukraineunderattaсk\n",
      "care go donbass year war ukraine donbassgenocide ukrainerussiawar donbass anne laure bonnel\n",
      "belarusian battalion name kastus kalinouski ukraine belarusian hero help ukrainian defend friend know people ready risk life protect ukraine belarus\n",
      "zelenskyyua war end open country world tourist come help build nation generation owe ukraine miracle humanity prevail ukrainewar standwithukraine stopwarinukraine unitednation\n",
      "ukraine ukrainian force destroy russian bmp2 infantry fighting vehicle apc pretty rare brem ch armored recovery vehicle area italian iveco lmv ry infantry mobility vehicle capture\n",
      "see4yourself truth mainstream medium tell resident mariupol manage escape clutch neo nazis tell truth video  \n",
      "dear cnn use russia language characterize russian occupy region ukraine separatist rebel kremlin terminology mask covert war war overt russia party aggressor russian proxy donbas\n"
     ]
    },
    {
     "name": "stderr",
     "output_type": "stream",
     "text": [
      "  0%|          | 752/254626 [00:06<32:56, 128.47it/s]"
     ]
    },
    {
     "name": "stdout",
     "output_type": "stream",
     "text": [
      "think blame current increase cost living coronavirus ukraine war brexit brexit coronavirus ukrainerussiawar politic\n",
      "volodymyr irina meet military unit irina serve year think month proposal married   standwithukraine\n",
      "message khadirov nazi clown ramzan don afraid don buy courage don know go to end ukraine ukrainerussiawar russia usa nato war news ukraina putin biden ukrainewar kyiv\n",
      "ukraine previously unseen russian loss kyiv oblast vityaz dt30 articulated track carrier t72b t72b obr tank iveco lmv ry\n",
      "case need remind today war ukraine joebiden fault zelenskyyua fault tragic genocidal humanitarian crisis unfold ukraine putinswar freshresist liveblue2022 demcastusa\n",
      "ukrainian force successfully conduct local counterattack kyiv sumy kherson oblast likely territory particularly northwest east kyiv come day read report\n",
      "graveyard russia imperial ambition glory ukraine   \n",
      "ukraine russian bmp variant utterly obliterate film advance ukrainian troop likely kyiv oblast\n",
      "currently call idea case     member nominate papa johns hsbc standwithukraine\n",
      "presale stage progress fast thank investor carfuelfinance airdrop airdrop binance bitcoin etherum giveaway carfuel bsc btc eth energy fuel gas gas oil new cryptocurrencie\n",
      " ukrainian air force like address misinformation publish multiple western medium outlet situation  sky support nato ally  protectuаsky stoprussia ukraineunderattaсk\n",
      "china ccp kill americans fentanyl covid19 steal hundred billion dollar intellectualproperty year try overthrow government biden defend malicious attack\n",
      "sound war ukraine putin call special military operation president zelenskyy say forgive forget ukraine zelenskyy freshvoice resistanceunite wtpblue\n",
      "tevatr2 rt think putin terrible world overthrow stand ukraine tyranny standwithukraine\n",
      "mdzol putin propaganda strong strong standwithukraine\n",
      "ukraine damage russian t72b3 damage recover ukrainian force likely approx week ago fuel truck damage\n",
      "public mint live billionaire wmn win public sale mint visit mint information good luck nft mint\n",
      "sound war ukraine putin call special military operation president zelenskyy say forgive forget ukraine zelenskyy freshvoice resistanceunite wtpblue\n",
      "uk sanction russian include butcher mariupol shameless propagandist push putin lie disinformation colonel general mikhail mizintsev reportedly order bombing child hospital theater shelter civilian mariupol \n",
      " ukrainian air force like address misinformation publish multiple western medium outlet situation  sky support nato ally  protectuаsky stoprussia ukraineunderattaсk\n",
      "ic focus russia ukraine war abiyahmedali ally prepare reinvade tigray stoptigraygenocide un secblinken\n",
      "chernihiv oblast ukrainian welcome liberator russianinvasion ukraineunderattack ukrainewillwin putinisawarcriminal stopputin russianukrainianwar russiagohome россиясмотри нетвоине\n",
      "sjandrews76 february vladimir putin start war human race ww3 die people stop\n",
      "wait resident village nova basan chernihiv region elate zsu soldier glory ukraine   \n"
     ]
    },
    {
     "name": "stderr",
     "output_type": "stream",
     "text": [
      "  0%|          | 766/254626 [00:06<32:21, 130.74it/s]"
     ]
    },
    {
     "name": "stdout",
     "output_type": "stream",
     "text": [
      "russia hire mercenary wagner group assassinate zelensky reportedly wagner group ukraine wagnergroup ukrainerussiawar ukraine ukrainianarmy slavaukraini\n",
      "  putin breake yesterday promise german chancellor ask unfriendly country open bank account russian bank pay gas russian currency\n",
      "ukraine russian bmd4 m capture fight w kyiv notice damage\n",
      "bus pack russian soldier suffer acute radiation syndrome arrive belarus ukrainian chernobyl exclusion zone source member public council state ukraine agency exclusion zone yaroslav yemelyanenko unian news agency\n",
      "ukrainian mi8msb helicopter down near mariupol way ukrainian army attempt evacuate high rank officer citymultiple casualty ukraine\n",
      "good idea toomas ilvestoomas long russia deport ukrainian occupied territory russians allow eu period putinwarcrime putinwarcriminal\n",
      "chernihiv oblast ukrainian welcome liberator russianinvasion ukraineunderattack ukrainewillwin putinisawarcriminal stopputin russianukrainianwar russiagohome россиясмотри нетвоине\n",
      "scale invasion ukraine ianbremmer share outlook cnbc hollyellyatt\n",
      "  reporter chinese tv channel cgtn russia dmitry maslak visit crash site downed ukrainian armed force mi8 helicopter near mariupol russiaukraineconflict russianukrainianwar ukrainerussianwar russia kiev ukraine kyiv mauripol kharkiv odessa\n",
      "warn graphic    russian soldier body lie near kyiv ambush ukraine force\n",
      " ukrainian air force like address misinformation publish multiple western medium outlet situation  sky support nato ally  protectuаsky stoprussia ukraineunderattaсk\n",
      "win war stand  ukraine ukrainerussiawar mint favourite peace nightingale \n",
      " myth nato provide ukraine need weapon ally possible short direct involvement war  truth date ally answer air defense support fighter jet sam\n",
      "ukraine appear russian multiple rocket launcher abandon kyiv oblast fact advanced modern tornado g mlrs system adopt russian army h t blue sauron\n",
      "worried gostomel look map gostomel circle map bucha circle second map fact russia good airborne troop leave antonov airport gostomel matter ukraine come near\n",
      "president european parliament roberta metsola announce travel kyiv ukraine tweet way kyiv thursday night expect arrive read\n",
      "video chechnya kadyrovite soldier film video selfie tiktok invade ukraine go wrong\n",
      "hater attack ask putin dig dirt biden son impeach extort ukraine president thing believe putin reindeer totally ask trumpsexoffender\n",
      "sound war ukraine putin call special military operation president zelenskyy say forgive forget ukraine zelenskyy freshvoice resistanceunite wtpblue\n",
      "tem uutiset mikalintila esa aschbacherjosef timopesonen1 spacefinland past russia attack country grab land today happen ukraine stop terrorist country forever unite help ukraine stoprussia forever\n",
      "justice4cameronherrin florida ukraine govrondesantis cameronwasnotrace know intentionally kill run away inform show world sad sorry go wrong\n",
      "world focus ukraine urge un member forget tigray region cut world imperative reject ethiopia effort deny fund investigation voteno tigraycantwait thailandun\n",
      "personal message man thank people protect family fight russian invader ukraine ukrainerussianwar putinwarcriminal\n",
      "ukraine liberate mala rogan near kharkiv destroy civilian car find freeway russianarmy deliberately kill civilian ukraineunderattack ukrainewillwin putinisawarcriminal russianukrainianwar россиясмотри нетвоине\n",
      "lavrov russia will single ruler new reality lt gt earth second rate player equal nation sovereign\n"
     ]
    },
    {
     "name": "stderr",
     "output_type": "stream",
     "text": [
      "  0%|          | 794/254626 [00:06<32:44, 129.18it/s]"
     ]
    },
    {
     "name": "stdout",
     "output_type": "stream",
     "text": [
      "don fejak baronichita bakersevenzero yeah russia withdraw\n",
      "ukraine ukrainian force destroy russian bmp2 infantry fighting vehicle apc pretty rare brem ch armored recovery vehicle area italian iveco lmv ry infantry mobility vehicle capture\n",
      "carolecadwalla johnsonout67 putinsbrexit carolecadwalladrforhouseoflord sendkgblordtosiberia slavaukraini    oneness u super \n",
      "russian tsarina nato loser belong knee russan tsarina\n",
      "president european parliament roberta metsola announce travel kyiv ukraine tweet way kyiv thursday night expect arrive read\n",
      "ep ecajewry jewishworld podcast special host alexryvchin welcome ukraine senior diplomat australia head mission ukrinaus mr volodymr shalkivskyi discuss devastating invasion ukraine listen  \n",
      "aleksan15186001 deitaone yes right accord ukrainian army kremlin demand putin surrender wait\n",
      "public mint live billionaire wmn win public sale mint visit mint information good luck nft mint\n",
      "ukrainian armed force liberate settlement kherson region seize trophy equipment\n",
      "tonight americanomedia pm jonschweppe approject join discuss bigtech censorship social medium suppress hunterbidenlaptop story ban trump clearly benefit biden time break bigtech apart away immunity litigation\n",
      "immediate item watch russian reinforcement enable renew russian offensive russian withdrawal near kyiv chernihiv significant russian troop begin pull line position\n",
      "ukrainian soldier essentially retake town irpin scene fierce fighting recent week report ukrainian reconnaissance unit embe andrewkramernyt ukraine war ukrainewar military warukraine irpin kyiv\n",
      "bassorbit maxboot dkaleniuk ukraine replace russia security council slavaukraini     freepalestine        \n",
      " ukrainian air force like address misinformation publish multiple western medium outlet situation  sky support nato ally  protectuаsky stoprussia ukraineunderattaсk\n",
      "ukraine tigraygenocide world ignore bad atrocity explain check video allowaccesstotigray supporthr6600 repannaeshoo repzoelofgren jimmypanetta repdavidvaladao devinnune gopleader carbajalsalud mikegarcia2020 repbrownley\n",
      "late isw map ukraine russia\n",
      " ukrainian air force like address misinformation publish multiple western medium outlet situation  sky support nato ally  protectuаsky stoprussia ukraineunderattaсk\n",
      "pandemic need booster shot pandemic booster covid19 globalhealth ba2variant fda cdc vaccine moderna vaccinesideeffect airtravel pfizer tourism cruise sport soccerfan qatarworldcup2022 covaxin coronavirus ukrainerussiawar\n",
      "russia collapse remember putin desperate use peace process means military maneuver attacking school hospital rape murder indiscriminate shelling deserve mercy west repeat mistake soviet union fall\n",
      "bambam spot incheon international airport way usa 29th march camila cabello ed sheeran join force itv concert ukraine perform new collaboration bam bam live time bambamtousa2022 bambam b bambam1a\n",
      "president european parliament roberta metsola announce travel kyiv ukraine tweet way kyiv thursday night expect arrive read\n",
      "evacuation irpin ukrainian defender amazing thank stoprussia standwithukraine\n",
      "public mint live billionaire wmn win public sale mint visit mint information good luck nft mint\n",
      "biden administration ready release barrel reserve hold strategic petroleum reserve offset decline russian export cool price decide 1\n"
     ]
    },
    {
     "name": "stderr",
     "output_type": "stream",
     "text": [
      "  0%|          | 822/254626 [00:06<32:57, 128.35it/s]"
     ]
    },
    {
     "name": "stdout",
     "output_type": "stream",
     "text": [
      "thank spain            spain ukraine freeukraine weareallukrainian standwithukraine ukrainerussiawar prayforukraine saveukrainenow stoprussia\n",
      "rt share video russian tank target fire residential house mariupol record warcrime savemariupol\n",
      "great people taiwan foreigner woman willing defend homeland taiwan inspire ukraine\n",
      "thursday march31st try politic extremism conspiracy theory criminal justice relevant news study story standwithukraine  makeputinpay\n",
      " ukrainian air force like address misinformation publish multiple western medium outlet situation  sky support nato ally  protectuаsky stoprussia ukraineunderattaсk\n",
      "zelenskyy belgium value peace russian diamond ukraine ucraina ucrainarussia\n",
      "thread explain absence russia n troop antonov airport gostomel explain tweet analysis wrong far spot leave gostomel vdv leave antonov airport transfer donbass plz read\n",
      "lumikello26 february vladimir putin start war human race ww3 die people stop\n",
      "move impact oil market time war ukraine certainly little account begin biden administration decide release barrel oil day strategic reserve\n",
      "cat pause sunset outside story apartment building destroy bombardment nemyshlianskyi district kharkiv neighbor say kill include year old ukraine\n",
      "tank t34 memorial soviet troop berlin cover ukrainian flag russian embassy send note protest berlin authority reply t34 tank develop ukrainian city kharkiv\n",
      "ukrainewar ukraine ukrainerussiawar head poland purpose cause internal destabilisation dark mode putin  poland seize putin try  kgb mentor spittin face slavaukraini slavaukraini  \n",
      "russian btr82a lose ukrainian advance kyiv oblast\n",
      "biden plan accompany diplomatic push iea international energy agency coordinate global release involve stock country\n",
      "abiy ahmed eritrean dictator isaias afewerki amhara ally continue tigray siege world condemn human right abuse tigray ukraine tigraygenocide supporthr6600 senjeffmerkley senjohnbarrasso\n",
      "long assignment warsaw poland cover refugee ukraine open suitcase letter kid open stay reminder importance home carry heartbreaking story million lose home war\n",
      "kadyrov choose role putin enforcer ukraine surprise chechen ruler participate russia syria campaign large commitment unprecedented\n",
      "read thead ukrainian air force rt kpszsu discuss air war aspect russia invasion ukraine read thread help ukraine retweet thread protectuаsky stoprussia ukraineunderattaсk\n",
      "world response war ukraine show pace unequivocal condemnation display say abiyahmedali like abiyahmedali isaia afwerki architect genocide unfold tigray tigraygenocide hrw\n",
      "stray dog accompany ukrainian fighter odin unit take cover inside building hear incoming round clearing operation remain russian force irpinukraine war ukrainewar kyiv ukrainerussianwar dog mansbestfriend nytime\n",
      "journalist gets expel europeanparliament ask assistant secretary department health question pentagon bio laboratorie russia china iran\n",
      "ukraine appear wreckage belong russian mi8amtsh assault helicopter tail number rf91882\n",
      "kit find kill russian servicemen\n",
      "ukraine izium kharkiv oblast ukrainian army lose btr4e armored personnel carrier triton armored vehicle\n",
      "public mint live billionaire wmn win public sale mint visit mint information good luck nft mint\n"
     ]
    },
    {
     "name": "stderr",
     "output_type": "stream",
     "text": [
      "  0%|          | 848/254626 [00:06<34:19, 123.21it/s]"
     ]
    },
    {
     "name": "stdout",
     "output_type": "stream",
     "text": [
      "update southern frontline move away dnipropetrovsk region fully inside kherson region slow steady inch inch glory ukraine   \n",
      "accord jeffatoanda senior market analyst oanda release reserve help constrain oil price short term unlikely offset loss russian oil export\n",
      "kharkiv today word describe city despite city survive stand warinukraine harkiv russianwarcrime ukraineunderattaсk ukrainewillwin\n",
      "world focus ukraine urge un member forget tigray region cut world imperative reject ethiopia effort deny fund investigation voteno tigraycantwait thailandun\n",
      "brief today drmikeryan say actively deny access humanitarian aid see ukraine tigray military tactic people catch conflict people target strategic chess piece horrific board\n",
      "bunch dumb russiansoldier send chernobyl commander wo protection gear quiet calm uninhabited yes idot guess hospital agony radiation poisening ukrainewar russiaukrainewar\n",
      "pre biden claim gas price high putin invade ukraine invasion take place feb 24th oil price rise biden take office oil price surge putin cause high oil price scapegoat\n",
      "rail war break belarus order slow movement russian military equipment ukraine belarusian take equipment service\n",
      " ukrainian air force like address misinformation publish multiple western medium outlet situation  sky support nato ally  protectuаsky stoprussia ukraineunderattaсk\n",
      "intention chop large chunk ukraine ukrainian resistance block attempt south chernihiv kherson block push north\n",
      "sjandrews76 february vladimir putin start war human race ww3 die people stop\n",
      "russiaukraine kiev gov dec contact turkish manufacturer bayraktar tb2 uav question possibility equip drone aerosol spray device capacity liter guess reason\n",
      "baronichita bakersevenzero point keep russia good troop airborne paratrooper vdv location moment strategic importance protect event russia n troop simple attention donbass\n",
      "russian export fall barrel day pre invasion level april december barrel barrel currently hold spr\n",
      "victormadman february vladimir putin start war human race ww3 die people stop\n",
      "ukraine area secure ua force tank recover excellent condition actually t72b3 m obr t90a crew survive\n",
      "ukraine russian vehicle seemingly fuel truck hit ukrainian fire totally destroy\n",
      "ukrainian ambush russian force time vicinity chernihiv msta s spg t72b destroy damage mt lb rare ppru1 ovod m sv mobile air target reconnaissance command center capture\n",
      "sergiykyslytsya unsc meeting humanitarian situation ukraine outset like inform demilitarization russia conduct ukrainian army support entire ukrainian people underway\n",
      " myth nato provide ukraine need weapon ally possible short direct involvement war  truth date ally answer air defense support fighter jet sam\n",
      "sdgrumbine live let ready grumble statuscoup discuss dollar hegemony feed raise interestrate biden plan reduce deficit consequence tune\n"
     ]
    },
    {
     "name": "stderr",
     "output_type": "stream",
     "text": [
      "  0%|          | 861/254626 [00:06<33:52, 124.86it/s]"
     ]
    },
    {
     "name": "stdout",
     "output_type": "stream",
     "text": [
      "rise russia iran day fulfilment ancient biblical prophecy watch find share  russiaukrainewar\n",
      "roskomnadzor appeal administration wikipedia request delete true information russia war ukraine case failure delete online encyclopedia face fine ruble lol fucking clown putinwarcriminal fckptn\n",
      "iaponomarenko question daily tweet illia safety thousand mile away   remain ukraine reinforcement journalist join daily painting keep heart heartsforukraine bookofmimi   \n",
      "chernihiv oblast ukrainian welcome liberator russianinvasion ukraineunderattack ukrainewillwin putinisawarcriminal stopputin russianukrainianwar russiagohome россиясмотри нетвоине\n",
      "president european parliament roberta metsola announce travel kyiv ukraine tweet way kyiv thursday night expect arrive read\n",
      "1st objective impoverish population russia fail ruble firm gain nearly past session ukraine russia say wld scale military op kyiv ukraine propose adopt neutral status\n",
      "public mint live billionaire wmn win public sale mint visit mint information good luck nft mint\n",
      "ukraine btr82a armored personnel carrier capture ukrainian army ua control nova basan chernihiv oblast\n",
      "face sanction russian troop seek turn mariupol ashe city shroud death cry standwithukraine stopthewar\n",
      "brief today drmikeryan say actively deny access humanitarian aid see ukraine tigray military tactic people catch conflict people target strategic chess piece horrific board\n",
      "uk sanction russian include butcher mariupol shameless propagandist push putin lie disinformation colonel general mikhail mizintsev reportedly order bombing child hospital theater shelter civilian mariupol \n",
      "video chechnya kadyrovite soldier film video selfie tiktok invade ukraine go wrong\n",
      " ukrainian air force like address misinformation publish multiple western medium outlet situation  sky support nato ally  protectuаsky stoprussia ukraineunderattaсk\n",
      "indiscriminate weapon understand border help ukrainian soldier protect land find follow link stoprussia stopputin noflyzone nuclearwar standwithukraine\n",
      "abiy ahmed eritrean dictator isaias afewerki amhara ally continue tigray siege world condemn human right abuse tigray ukraine tigraygenocide supporthr6600 senjeffmerkley senjohnbarrasso\n",
      "sound war ukraine putin call special military operation president zelenskyy say forgive forget ukraine zelenskyy freshvoice resistanceunite wtpblue\n",
      "putin company lose   russians wake stop war zelenskyyua standupwithukraine ukrainewar standwithukraine\n",
      "public mint live billionaire wmn win public sale mint visit mint information good luck nft mint\n",
      "chernihiv oblast ukrainian welcome liberator russianinvasion ukraineunderattack ukrainewillwin putinisawarcriminal stopputin russianukrainianwar russiagohome россиясмотри нетвоине\n",
      "  breaking   ukrainian armed force liberate e40 highway west kiev highway connect capital ukraine west country decisive supply line ukrainian ukraine ukrainerussiawar ukrainerussianwar ukrainewar putin war nato\n",
      "irpin suburb kyiv ukrainian control accord mayor russian troop murder civilian roll body tank ukraine ukrainerussiawar\n",
      "dnr conscript complain terrible condition live russia garbage dump sorry sight oh humanity\n",
      "break ukraine russia  ukraine heart warm scene war region flash ukrainewar ukrainerussia ucrania ucraina guerra guerre catsoftwitter cat\n",
      "march russianarmedforce destroy fuel storage ukraine army try sabotage planting season ukraine ukraineunderattack putinisawarcriminal stopputin russianukrainianwar\n",
      "ukraine previously unseen russian loss kyiv oblast vityaz dt30 articulated track carrier t72b t72b obr tank iveco lmv ry\n"
     ]
    },
    {
     "name": "stderr",
     "output_type": "stream",
     "text": [
      "  0%|          | 888/254626 [00:07<34:18, 123.25it/s]"
     ]
    },
    {
     "name": "stdout",
     "output_type": "stream",
     "text": [
      "convoy bus come fire russian occupant near chernihiv civilian volunteer head besiege city evacuate people volunteer kill seriously injure russiainvadedukraine stoprussianagression stopputin\n",
      "putin declare unfriendly country open rouble account russian bank buy natural gas start april 1st\n",
      "ukrainian advance kyiv oblast russian equipment destroy artillery drone uaf film russia ukraine\n",
      "war ukraine approach fifth week ukrainian people fight democracy life cnn hero salute strength courage resilience help music johnlegend\n",
      "reign terror continue western ukraine european civilized\n",
      "look away happen ukraine standwithukraine\n",
      "brief today drmikeryan say actively deny access humanitarian aid see ukraine tigray military tactic people catch conflict people target strategic chess piece horrific board\n",
      "lisbon express ukrainerussiawar\n",
      "public mint live billionaire wmn win public sale mint visit mint information good luck nft mint\n",
      "break britain seize russian own superyacht hour leave london dock meeting superyacht award foot yacht own russian businessman close connection putin standwithukraine \n",
      "baronichita bakersevenzero sit antonov airport cover subject ukraine throw basically foolish objective bring troop air objective moment fight early indicate shift donbass\n",
      "think especially daughter granddaughter standwithukraine\n",
      "ahafiya vyshyvana bury son vasyl kyrylo vyshyvaniy plot reserve boy father report christopherjm ukraine ukrainerussiawar\n",
      "sumlenny happen fail act aggressor early decisively crimea syria donbass shame eu usa give putin pass past special place hell gerhardschroeder choose sleep devil\n",
      " myth nato provide ukraine need weapon ally possible short direct involvement war  truth date ally answer air defense support fighter jet sam\n",
      "friend fight ukraine territorial defence unit ask plead twitter behalf sign open nato support ukraine fight russians hard hold need support\n",
      "putin think russian world look like drone footage shot destroy city mariupol\n",
      "world focus ukraine urge un member forget tigray region cut world imperative reject ethiopia effort deny fund investigation voteno tigraycantwait thailandun\n",
      "ukrainian civilian welcome ukrainian soldier joy try fruit ukrainian soldier recapture settlement nova basan russian force chernihiv oblast ukraine ukrainian ukrainerussiawar\n",
      "russia target late russia add dozen kremlin critic register foreign agent reuter contact find designation change life\n",
      "march ukrainian armed force shoot russian aircraft sky northeast kharkiv province fighter jet bomber source head province administration oleg synegubov\n",
      "photo dog leave destroy house near kyiv joyfully meet savior dog russiainvadedukraine saveukraine soldier stoprussia\n"
     ]
    },
    {
     "name": "stderr",
     "output_type": "stream",
     "text": [
      "  0%|          | 916/254626 [00:07<32:51, 128.71it/s]"
     ]
    },
    {
     "name": "stdout",
     "output_type": "stream",
     "text": [
      "ukraine ukrainian force continue implementation improvise explosive device combat like middle east time russian fuel truck hit ied lead complete destruction\n",
      "ukraine ancient ukrainian t64b tank destroy early fighting hostomel kyiv oblast\n",
      "pic take wallace monument stirling light colour ukraine flag    ukraine scotland stirle standwithukraine\n",
      "putin declare unfriendly country open rouble account russian bank buy natural gas start april 1st\n",
      "ukrainian fighter survey disabled russian armored vehicle clearing operation remain russian force irpin ukraine war ukrainewar military warukraine irpin kyiv ukrainerussianwar russia invasion war conflict military photojournalism\n",
      "irpin suburb kyiv ukrainian control accord mayor russian troop murder civilian roll body tank ukraine ukrainerussiawar\n",
      "recent career shoigu gerasimov lead major campaign involve large scale combine arm warfare form true inter state war ukraine win w right strategy write dr kasapoglu hudsoninstitute\n",
      "slavaukraini standwithukraine     \n",
      "urgent publication conflict subside country bad case scenario war book future ukraineinvasion nuclearwar antiwar\n",
      "kharkiv powerful incoming one\n",
      "elkhorn norris nebraska high school boy soccer game live streaming link date mar pm cdt location norris firth ne sport highschool canada today live ukraine russia usa nebraska mls football soccer\n",
      " ukrainian air force like address misinformation publish multiple western medium outlet situation  sky support nato ally  protectuаsky stoprussia ukraineunderattaсk\n",
      "cnn russia raise stake energy standoff insist ruble gas googlenews\n",
      "ukraine russian bmp variant utterly obliterate film advance ukrainian troop likely kyiv oblast\n",
      "russiaukraine local administration dpr formally establish mariupol\n",
      "chernihiv oblast ukrainian welcome liberator russianinvasion ukraineunderattack ukrainewillwin putinisawarcriminal stopputin russianukrainianwar russiagohome россиясмотри нетвоине\n",
      "russian occupant kill ukrainian child child wound statistic high clarify situation ground besiege mariupol far  child orphan parent standwithukraine\n",
      "ukrainian fascist jew killer bandera nazi friend wave flag want feel sick stupidity ukrainerussiawar russia ukraine gallowayshow moatstv babiyar\n",
      "mariupol accord kadyrov mariupol liberate source include ukraine ian regime suggest yesterday\n",
      "ukrainian force mortar team use drone spot target ukraine ukrainerussianwar kyiv ukrainewar ukrainerussiaconflict ukrainianarmy\n",
      "kira mother die little dad kill mariupol try escape capture russians take occupy territory donbas scared right heart break kid abduct russian\n",
      "chernihiv oblast ukrainian welcome liberator russianinvasion ukraineunderattack ukrainewillwin putinisawarcriminal stopputin russianukrainianwar russiagohome россиясмотри нетвоине\n",
      "ruble depreciate currency ruble plummet time washington post article end february russian inflation soar beware ukraine win \n",
      " anonymous idea  anonymous decentralized movement  leader  anonymous  oprussia  ukraine freeukraine standwithukraine\n",
      "win war stand  ukraine ukrainerussiawar mint favourite peace nightingale \n",
      "cat pause sunset outside story apartment building destroy bombardment nemyshlianskyi district kharkiv neighbor say kill include year old ukraine\n"
     ]
    },
    {
     "name": "stderr",
     "output_type": "stream",
     "text": [
      "  0%|          | 942/254626 [00:07<33:24, 126.58it/s]"
     ]
    },
    {
     "name": "stdout",
     "output_type": "stream",
     "text": [
      "baronichita bakersevenzero specifically need donbass good russia n troop go indicate analysis gostomel protect ukraine ian incursion bucha south rf firmly plus rf firmly gostomel\n",
      "urgent publication conflict subside country bad case scenario war book future ukraineinvasion nuclearwar antiwar\n",
      "russia present new evidence ukraine biolab comment link biden rt russia soviet union biolab ukraine biden\n",
      "335s burn sunflower springforart thisspringbuyart burn sunflower burn sky war ukraine yellow blue\n",
      "public mint live billionaire wmn win public sale mint visit mint information good luck nft mint\n",
      "kyivindependent ilvestoomas russia new compatriot law likely attempt justify annex mariupol coastal area create land bridge crimea issue resident russian paper passport kremlin consider russians need protection\n",
      "public mint live billionaire wmn win public sale mint visit mint information good luck nft mint\n",
      "good idea toomas ilvestoomas long russia deport ukrainian occupied territory russians allow eu period putinwarcrime putinwarcriminal\n",
      "anonymousvideo send email everyday point mailbox cope  thank anonymous standwithukriane\n",
      "year ago ukraine\n",
      "good idea toomas ilvestoomas long russia deport ukrainian occupied territory russians allow eu period putinwarcrime putinwarcriminal\n",
      "abiy ahmed eritrean dictator isaias afewerki amhara ally continue tigray siege world condemn human right abuse tigray ukraine tigraygenocide supporthr6600 senjeffmerkley senjohnbarrasso\n",
      "ukraine previously unseen russian loss kyiv oblast vityaz dt30 articulated track carrier t72b t72b obr tank iveco lmv ry\n",
      "excited wl mint day tomorrow    let giveaway companion know drill like rt tag friend pick winner hour nft nftcommunity mint nftgiveaway nftdrop\n",
      "russian bring dress uniform medal ukraine order solemn parade khreshchatyk kyiv go wrong standwithukraine\n",
      "russia war aggression ukraine criminal offense publicly approve war liable prosecution germany apply z symbol german security authority keep eye use symbol ministry interior\n",
      "middle war cat adopt human offer snuggle ukrainerussiawar slavaukraini ukrainianarmy ukrainiancat\n",
      "putin think russian world look like drone footage shot destroy city mariupol\n",
      "similarity info warfare msm dis misinformation strategy partisan unhelpful intervention west un ingos ifis conflict n ethiopia russia ukraine crisis astounding scale playbook\n",
      "chernihiv oblast ukrainian welcome liberator russianinvasion ukraineunderattack ukrainewillwin putinisawarcriminal stopputin russianukrainianwar russiagohome россиясмотри нетвоине\n",
      "source indicate presence france intelligence dgse operative say dead board crash helicopter explain macron desperate putin late organize french lead evacuation mariupol\n",
      "reuters reuters criminal barbaric taliban rule perfidiously religion diary young teenage girl year ago afghanishtan biden usa taliban talibanterror afganistan woman kobiety woman\n",
      "bad year bad year end far invasion war ukraine  putin possible nuclear winter new super covidmutant ba2 delta hybrid detect joke stock market crash want reset hope peace\n",
      "volodymyr irina meet military unit irina serve year think month proposal married   standwithukraine\n"
     ]
    },
    {
     "name": "stderr",
     "output_type": "stream",
     "text": [
      "  0%|          | 969/254626 [00:07<32:57, 128.27it/s]"
     ]
    },
    {
     "name": "stdout",
     "output_type": "stream",
     "text": [
      "reportedly clear footage show destruction su25s ukraine low altitude shot try attack russian troop kherson region pilot see eject second plane war brutal russianukrainianwar\n",
      "symbol cfu token carfuelfinance decimal contract total supply cfu bsc carfuelfinance carfuel presale airdrop gas fueleconomy\n",
      "public mint live billionaire wmn win public sale mint visit mint information good luck nft mint\n",
      "ukraine clash village novaya basan chernihiv region\n",
      "rt share video russian tank target fire residential house mariupol record warcrime savemariupol\n",
      " ukrainian air force like address misinformation publish multiple western medium outlet situation  sky support nato ally  protectuаsky stoprussia ukraineunderattaсk\n",
      "kira mother die little dad kill mariupol try escape capture russians take occupy territory donbas scared right heart break kid abduct russian\n",
      "ukraine repeatedly express safety concern chernobyl demand withdrawal russian troop presence prevent rotation plant personnel time malaysianow mnow mnownews ukraine russia chernobyl nuclear\n",
      "gyakov1990 ukraine ian troop take gostomel 23s irpin irpin stick bridge blow ua unit valueless possible russia let ukraine ian simply defensible position\n",
      "ukraine kherson oblast russian bmp2 damage recover ua troop repair reuse\n",
      "baddcompani texas senator consider putin apologist americantraitor votethemallout\n",
      "photo azov member survive schoote helicopter wich evacuate azov commander mariupol ukraine ukrainerussiawar russia usa nato war news ukraina putin biden ukrainewar kyiv azov\n",
      "baronichita bakersevenzero withdrawal tactical strategic know guess tactical good russia n troop take airport early morning day war keep ukraine throw need \n",
      "ucla vs south dakota ncaa di woman basketball game live streaming link mar pm edt location frost arena brooking sd sport ncaa basketball live marchmadness ncaaournament usa ukraine qatar2022 ucla asitwa\n",
      "ukraine sound familiar\n",
      "far putin smart leader world despite call sanction nato ruble gradually raise kudus china russia putin sanction russia ukraine russia russia ukraine\n",
      "chernihiv oblast ukrainian welcome liberator russianinvasion ukraineunderattack ukrainewillwin putinisawarcriminal stopputin russianukrainianwar russiagohome россиясмотри нетвоине\n",
      "imf say russia sanction threaten reduce dominance dollar russia work develop trade ruble dave decamp decampdave sanction imf dollar russia ukraine\n",
      "street art new russian flag red removal blood previous ukraine ukrainerussiawar ukrainewar war ukraineunderattack ukrainerussia russia ukrainian russian kyiv ukraine\n",
      "335s burn sunflower springforart thisspringbuyart burn sunflower burn sky war ukraine yellow blue\n",
      "volodymyr irina meet military unit irina serve year think month proposal married   standwithukraine\n",
      "ukrainian force successfully conduct local counterattack kyiv sumy kherson oblast likely territory particularly northwest east kyiv come day read report\n",
      "hunt corbyn year existential threat jews support naziukraine russia\n",
      "ukraine destroy russian kamaz63968 typhoon k mrap kyiv oblast\n",
      "poll bilibili chinese equivalent youtube ask blame russia ukraine conflict user vote winner iiiiiiiiiiiiis wait guess course thegreattranslationmovement  ukrainerussiawar\n"
     ]
    },
    {
     "name": "stderr",
     "output_type": "stream",
     "text": [
      "  0%|          | 996/254626 [00:07<32:46, 128.96it/s]"
     ]
    },
    {
     "name": "stdout",
     "output_type": "stream",
     "text": [
      "kira mother die little dad kill mariupol try escape capture russians take occupy territory donbas scared right heart break kid abduct russian\n",
      "ghost milton friedman haunt president biden\n",
      " ask support ukraine  anonymous  action ukraine freeukraine standwithukraine slavaukraini\n",
      "ukraine video position kyiv oblast show sheer level destruction little post apart t72b tank possibly truck\n",
      "russian looter marauder masquerade soldier glory ukraine   \n",
      "india purchase discount russian crude oil put place rupee ruble payment system bilateral trade view western sanction moscow report say\n",
      "life war grandma cat art vika krokhina ukraine ukrainerussiawar ukrainewar war ukraineunderattack ukrainerussia russia ukrainian russian kyiv ukraine\n",
      "armenian navy nuclear submarine fly zvartnotz reportedly land lviv plan lack ocean armenia azerbaijan ukraine russia\n",
      "threaten india sanction trade russia united states increase purchase oil russia inflation europe reach historical record world pay interest ukraine usa russia india europe\n",
      "drone footage post pro russian account clear example extent destruction mariupol area theatre turn uninhabitable ghost town\n",
      "read thead ukrainian air force rt kpszsu discuss air war aspect russia invasion ukraine read thread help ukraine retweet thread protectuаsky stoprussia ukraineunderattaсk\n",
      "ukrainian armed force liberate settlement kherson region seize trophy equipment\n",
      "belarusian march russian embassy warsaw protest war ukraine ukrainerussianwar ukraineunderattaсk\n",
      "think blame current increase cost living coronavirus ukraine war brexit brexit coronavirus ukrainerussiawar politic\n",
      "belarusian battalion name kastus kalinouski ukraine belarusian hero help ukrainian defend friend know people ready risk life protect ukraine belarus\n",
      "ukrainian armed force liberate settlement kherson region seize trophy equipment\n",
      " ukrainian air force like address misinformation publish multiple western medium outlet situation  sky support nato ally  protectuаsky stoprussia ukraineunderattaсk\n",
      "public mint live billionaire wmn win public sale mint visit mint information good luck nft mint\n",
      "kit find kill russian servicemen\n",
      "detail tonight hour special report evening lalate pm pst pm pst america primetime financial news istandwithukraine istandwithkherson stopputin stoprussia odessa kherson mykolaiv gasprice ukraine nowarinukraine\n",
      "western civilization savage true nature thing sarin gas people far away syria muslim different culture europe go european soil european russianukrainianwar\n",
      "public mint live billionaire wmn win public sale mint visit mint information good luck nft mint\n",
      "ukrainian institute ua institute publish short film collection dedicate famous figure significant event ukraine history culture thing know ukraine available link standwithukraine\n",
      "baronichita bakersevenzero antonov airport insist call gostomel airport russia take airport area second place large aircraft world keep withdraw \n",
      "hey remember today round charity stream come support projecthopeorg ukraine standwithukraine\n",
      "april kyiv ukrainian hand mariupol sadly shell oblivion ukrainian force hold advance forward chernobyl thankfully hand slavaukraini \n"
     ]
    },
    {
     "name": "stderr",
     "output_type": "stream",
     "text": [
      "  0%|          | 1010/254626 [00:08<32:08, 131.51it/s]"
     ]
    },
    {
     "name": "stdout",
     "output_type": "stream",
     "text": [
      "abiy ahmed eritrean dictator isaias afewerki amhara ally continue tigray siege world condemn human right abuse tigray ukraine tigraygenocide supporthr6600 senjeffmerkley senjohnbarrasso\n",
      "dear cnn use russia language characterize russian occupy region ukraine separatist rebel kremlin terminology mask covert war war overt russia party aggressor russian proxy donbas\n",
      "chernihiv oblast ukrainian welcome liberator russianinvasion ukraineunderattack ukrainewillwin putinisawarcriminal stopputin russianukrainianwar russiagohome россиясмотри нетвоине\n",
      "quod non fecerunt urso fecerunt ursini ukraine ucraina ukrainerussianwar ukrainerussiawar\n",
      "statoil increase exploration drilling energy uk oil gas oilandgas subsea\n",
      "putin declare unfriendly country open rouble account russian bank buy natural gas start april 1st\n",
      "goodnight felicia glory ukraine   \n",
      "abiy ahmed eritrean dictator isaias afewerki amhara ally continue tigray siege world condemn human right abuse tigray ukraine tigraygenocide supporthr6600 senjeffmerkley senjohnbarrasso\n",
      "foxnew      weapon change game      ukraine troop x military ambush russia tank z\n",
      "soldier donetsk people republic army share bread resident mariupol true liberator \n",
      "reuters reuters afghanishtan trump blogger biden defeat usa dove peace give power devil afghanishtan trump biden usa taliban talibanterror afganistan\n",
      "beginning conflict polskick distribute ton humanitarian relief good essential item support flee ukraine\n",
      "treasury hit russia new sanction target evasion network tech politico sanction today standwithukraine supportukraine helpukraine\n",
      "today  president zelenskyyua address house representative netherlands foreign head state thank move statement incredibly difficult time netherlands continue standwithukraine people\n",
      "latestanonpress find owner russian superyacht government seize sell money ukraine help defeat russian roach\n",
      "territory kyiv region leave enemy frequent case mining territory building local resident\n",
      " ukrainian air force like address misinformation publish multiple western medium outlet situation  sky support nato ally  protectuаsky stoprussia ukraineunderattaсk\n",
      "pre biden claim gas price high putin invade ukraine invasion take place feb 24th oil price rise biden take office oil price surge putin cause high oil price scapegoat\n",
      "year ago ukraine\n",
      "belarusian battalion name kastus kalinouski ukraine belarusian hero help ukrainian defend friend know people ready risk life protect ukraine belarus\n",
      " anonymous idea  anonymous decentralized movement  leader  anonymous  oprussia  ukraine freeukraine standwithukraine\n",
      "kharkiv powerful incoming one\n",
      "kharkiv powerful incoming one\n",
      "belarusian battalion name kastus kalinouski ukraine belarusian hero help ukrainian defend friend know people ready risk life protect ukraine belarus\n",
      "estimate people internally displace ukraine ukrainian red cross volunteer distribute donate clothing child adult toy internally displace people red cross branch office\n",
      "ukraine source graphic russian prisoner murder strange way die man obviously hand shoot ukrainerussiawar\n"
     ]
    },
    {
     "name": "stderr",
     "output_type": "stream",
     "text": [
      "  0%|          | 1038/254626 [00:08<33:17, 126.94it/s]"
     ]
    },
    {
     "name": "stdout",
     "output_type": "stream",
     "text": [
      "public mint live billionaire wmn win public sale mint visit mint information good luck nft mint\n",
      "clear russia force target ukraine medium target civilian area shell far journalist kill wound kidnap maximeristavi candundaradasi molenews1\n",
      "novosibirsk russia local resident march protest russian invasion ukraine\n",
      "leave chernobyl nuclear power plant russian military take ukrainian national guard soldier guard plant captivity february\n",
      " myth nato provide ukraine need weapon ally possible short direct involvement war  truth date ally answer air defense support fighter jet sam\n",
      "ukraine destroy russian kamaz63968 typhoon k mrap kyiv oblast\n",
      " ukrainian air force like address misinformation publish multiple western medium outlet situation  sky support nato ally  protectuаsky stoprussia ukraineunderattaсk\n",
      "bambam spot incheon international airport way usa 29th march camila cabello ed sheeran join force itv concert ukraine perform new collaboration bam bam live time bambamtousa2022 bambam b bambam1a\n",
      "reading list ukraine ago contain lot peer review literature reading link directly upload google drive barrier access feel free share fit\n",
      "accorde refugee mln total population people flee home ukraine  mln people displace inside   mln leave country president ukraine office estimate mln idps\n",
      " international peep want help meet 100k donation goal coffee proceed support mila kunis aplusk standwithukraine gofundme contribute  coffee club cause\n",
      "big name support fancy retweet little nft project raise  usd far help single ukrainian  need consider job thank love friend opensea nft nftcommunity ukraine nftproject\n",
      "china ccp kill americans fentanyl covid19 steal hundred billion dollar intellectualproperty year try overthrow government biden defend malicious attack\n",
      "volodymyr irina meet military unit irina serve year think month proposal married   standwithukraine\n",
      "end march ukraine armed force claim liberate russian settlement southern kherson province border crimea source gen staff uaf\n",
      "baronichita bakersevenzero go post get confirmation guess need worry following reason gostomel city area definitely abandon russia n troop present town \n",
      "ukraine high number child state care europe russian invasion throw childcare system complete chaos standwithukraine democracy vs authoritarianism time choose register republican defeat trumpism primary\n",
      "world focus ukraine urge un member forget tigray region cut world imperative reject ethiopia effort deny fund investigation voteno tigraycantwait thailandun\n",
      "hide pretend long white nationalist come fight ukraine    \n",
      "belarusian battalion name kastus kalinouski ukraine belarusian hero help ukrainian defend friend know people ready risk life protect ukraine belarus\n",
      "good idea toomas ilvestoomas long russia deport ukrainian occupied territory russians allow eu period putinwarcrime putinwarcriminal\n",
      "year ago ukraine\n",
      "ukraine ua control nova basan chernihiv oblast ukrainian force capture russian t72b3 tank\n"
     ]
    },
    {
     "name": "stderr",
     "output_type": "stream",
     "text": [
      "  0%|          | 1065/254626 [00:08<33:07, 127.58it/s]"
     ]
    },
    {
     "name": "stdout",
     "output_type": "stream",
     "text": [
      " ukrainian air force like address misinformation publish multiple western medium outlet situation  sky support nato ally  protectuаsky stoprussia ukraineunderattaсk\n",
      "abiy ahmed eritrean dictator isaias afewerki amhara ally continue tigray siege world condemn human right abuse tigray ukraine tigraygenocide supporthr6600 senjeffmerkley senjohnbarrasso\n",
      "world focus ukraine urge un member forget tigray region cut world imperative reject ethiopia effort deny fund investigation voteno tigraycantwait thailandun\n",
      "marvin gaye mercy mercy soul classic soul marvingaye musica musique blue standwithukraine  peace\n",
      "new ukraine need well air defense system excuse postopinion standwithukraine slavaukraine\n",
      "ukrainewar newly add russian equipment loss 1x btr82a ifv destroy 1x brem ch arv destroy 1x iveco lmv ry imv capture tornado g mrl abandon unknown vehicle destroy list\n",
      "dear cnn use russia language characterize russian occupy region ukraine separatist rebel kremlin terminology mask covert war war overt russia party aggressor russian proxy donbas\n",
      " ukrainian air force like address misinformation publish multiple western medium outlet situation  sky support nato ally  protectuаsky stoprussia ukraineunderattaсk\n",
      "china ccp kill americans fentanyl covid19 steal hundred billion dollar intellectualproperty year try overthrow government biden defend malicious attack\n",
      "danspiun john marquee smile big slavaukraini \n",
      "belarusian battalion name kastus kalinouski ukraine belarusian hero help ukrainian defend friend know people ready risk life protect ukraine belarus\n",
      "sdgrumbine live let ready grumble statuscoup discuss dollar hegemony feed raise interestrate biden plan reduce deficit consequence tune\n",
      "mariupol ukraineunderattaсk russiaukrainewar\n",
      " ukrainian air force like address misinformation publish multiple western medium outlet situation  sky support nato ally  protectuаsky stoprussia ukraineunderattaсk\n",
      "gerarddepardieu denounce putin crazy excess ukraine\n",
      "q evilness putin liken putin hitler way r leader world resemblance president kill ms iraqis israel actually maintain concentration camp large world know gaza\n",
      "war 1130pm 36th day mariupol behalf nadya sit realize run away point screaming hiding find want come silence time wait smth arrive\n",
      "public mint live billionaire wmn win public sale mint visit mint information good luck nft mint\n",
      "ukraine pretty interesting capture ukrainian army novovorontsovka kherson oblast t64bv tank previously capture russian force return owner russian btr d airborne apc destroy\n",
      "public mint live billionaire wmn win public sale mint visit mint information good luck nft mint\n",
      " amnesty release ground research ukraine document russian force siege warfare tactic tactic mark relentless indiscriminate attack kill civilian indiscriminate attack kill civilian constitute war crime amnestyoz\n",
      "public mint live billionaire wmn win public sale mint visit mint information good luck nft mint\n",
      "kharkiv powerful incoming one\n",
      "russian soldier skip basic training drop bridge tank couple week ago note crew open hatch hatch open survive drowning ukraine lift tank river\n"
     ]
    },
    {
     "name": "stderr",
     "output_type": "stream",
     "text": [
      "  0%|          | 1092/254626 [00:08<33:23, 126.57it/s]"
     ]
    },
    {
     "name": "stdout",
     "output_type": "stream",
     "text": [
      "  finnish volunteer sniper fight russian invader alongside  ukrainian defender russiainvadedukraine russiaukrainewar russianaggression war ukraine\n",
      "belarusian battalion name kastus kalinouski ukraine belarusian hero help ukrainian defend friend know people ready risk life protect ukraine belarus\n",
      "chernihiv oblast ukrainian welcome liberator russianinvasion ukraineunderattack ukrainewillwin putinisawarcriminal stopputin russianukrainianwar russiagohome россиясмотри нетвоине\n",
      "today control terrain map russian invasion ukraine thestudyofwar criticalthreat add map dedicate luhansk east\n",
      "nowimnothe foxnew february vladimir putin start war human race ww3 die people stop\n",
      "weapon ukraine use russia javelin nlaw stinger bayraktar tb2 drone  slavaukraini  youtube\n",
      "zelensky endure enemy expect say day think seize entire state stand continue fight ukraine ukrainewar\n",
      "putin unfriendly country pay russian gas ruble april russia halt gas contract buyer pay ruble\n",
      "win war stand  ukraine ukrainerussiawar mint favourite peace nightingale \n",
      "transit rider depressing news see today aside ongoing assault ukraine lacity metrolosangele address crisis unhouse ride bus train transit lacityfail\n",
      " ukrainian air force like address misinformation publish multiple western medium outlet situation  sky support nato ally  protectuаsky stoprussia ukraineunderattaсk\n",
      "mcfaul russia russians putin war putin putin blind lust greed power fuel western action end loose high cost\n",
      " live day charity n chill help directrelief help ukraine  donate month trovolive earning end stream dosomegood  hi\n",
      " ukrainian air force like address misinformation publish multiple western medium outlet situation  sky support nato ally  protectuаsky stoprussia ukraineunderattaсk\n",
      "world focus ukraine urge un member forget tigray region cut world imperative reject ethiopia effort deny fund investigation voteno tigraycantwait thailandun\n",
      "standwithukraine today   jean pierre thebault meet residence  mr vasyl myrishnychenko new ambassador designate ukraine opportunity reiterate france unconditional support\n",
      " ukrainian air force like address misinformation publish multiple western medium outlet situation  sky support nato ally  protectuаsky stoprussia ukraineunderattaсk\n",
      "ukraine airforce debunk misinformation publish multiple western medium let help ukrainian pilot hear\n",
      "marvin gaye mercy mercy soul classic soul marvingaye musica musique blue standwithukraine  peace\n",
      "reuters reuter taliban condemn woman life potato sack trump biden usa taliban talibanterror afganistan woman\n",
      "globalization era russia large gas field oil producer big coal mine large water reservoir gold diamond mine palladium uranium aluminium wheat producer go to achieve self sufficiency\n",
      "ukraine claim withdraw vdv convoy kyiv oblast attack ukrainian force airborne infantry fighting vehicle completely destroy extremely gruesome scene\n",
      "ukraine zsu23 shilka self propel anti aircraft gun capture russian army ukrainian force pretty outdated piece kit\n"
     ]
    },
    {
     "name": "stderr",
     "output_type": "stream",
     "text": [
      "  0%|          | 1105/254626 [00:08<33:11, 127.29it/s]"
     ]
    },
    {
     "name": "stdout",
     "output_type": "stream",
     "text": [
      "chernihiv oblast ukrainian welcome liberator russianinvasion ukraineunderattack ukrainewillwin putinisawarcriminal stopputin russianukrainianwar russiagohome россиясмотри нетвоине\n",
      "kaltoon good standwithukraine\n",
      "ukraine destroy russian kamaz63968 typhoon k mrap kyiv oblast\n",
      "saction fun ultimately nation look alternative russian trade harm economy revert original status quo sanction russia russiaukrainewar ukrainerussiawar\n",
      "putin think russian world look like drone footage shot destroy city mariupol\n",
      "worried gostomel look map gostomel circle map bucha circle second map fact russia good airborne troop leave antonov airport gostomel matter ukraine come near\n",
      "belarusian battalion name kastus kalinouski ukraine belarusian hero help ukrainian defend friend know people ready risk life protect ukraine belarus\n",
      "kira mother die little dad kill mariupol try escape capture russians take occupy territory donbas scared right heart break kid abduct russian\n",
      "irpin suburb kyiv ukrainian control accord mayor russian troop murder civilian roll body tank ukraine ukrainerussiawar\n",
      "russians super polite stupid dig trench radioactive soil wtf standwithukraine putinswarcrimes putinhitler freeukraine weareallukrainian stopthewar stopwar putinwarcrime warsaw biden belarus chernobyl russianarmy nuclear\n",
      "maximum respect dial jamcityrock tonight pay tribute late tabby diamond showcase reggae ukraine playlist thursday wkdu philadelphia 917fm\n",
      "hey rockstargame ukraine item gta v online love rep ukraine flag kosatka parachute bag cool\n",
      "public mint live billionaire wmn win public sale mint visit mint information good luck nft mint\n",
      "volodymyr irina meet military unit irina serve year think month proposal married   standwithukraine\n",
      " ukrainian air force like address misinformation publish multiple western medium outlet situation  sky support nato ally  protectuаsky stoprussia ukraineunderattaсk\n",
      " on march air force armed force ukraine destroy air target russian occupier  aircraft  uav  cruise missile stoprussia  death enemy\n",
      "world focus ukraine urge un member forget tigray region cut world imperative reject ethiopia effort deny fund investigation voteno tigraycantwait thailandun\n",
      " myth nato provide ukraine need weapon ally possible short direct involvement war  truth date ally answer air defense support fighter jet sam\n",
      "chernihiv oblast ukrainian welcome liberator russianinvasion ukraineunderattack ukrainewillwin putinisawarcriminal stopputin russianukrainianwar russiagohome россиясмотри нетвоине\n",
      "video come mariupol horrific complete devastation dead body lay street alive look like ghost walk hell russian army army looter rapist murderer\n",
      "ukraine force expel russian army village direction mariupol\n",
      "putin keitelian sycophant praise strategic military genius good thing slavaukraini\n",
      "public mint live billionaire wmn win public sale mint visit mint information good luck nft mint\n",
      " ukrainian air force like address misinformation publish multiple western medium outlet situation  sky support nato ally  protectuаsky stoprussia ukraineunderattaсk\n"
     ]
    },
    {
     "name": "stderr",
     "output_type": "stream",
     "text": [
      "  0%|          | 1132/254626 [00:08<32:58, 128.12it/s]"
     ]
    },
    {
     "name": "stdout",
     "output_type": "stream",
     "text": [
      "gyakov1990 ukraine ian troop take gostomel 23s irpin irpin stick bridge blow ua unit valueless possible russia let ukraine ian simply defensible position\n",
      "ukraine appear russian multiple rocket launcher abandon kyiv oblast fact advanced modern tornado g mlrs system adopt russian army h t blue sauron\n",
      "franklin graham write putin zelenskiy ask ceasefire holy week sightmagazine vladimirputin volodymyrzelenskiy samaritanspurse ukraineconflict\n",
      "video show russia desperate need friend world seek recognise taliban govt afghanistanhere russia fm sergey lavrov meet taliban fm muttaqi afghanistan panjshir resistance andarab parwan kapisa nrf\n",
      "fuck putin anonymous oprussia cyberwar russia continue putin cease hostility people ukraine\n",
      "ukrainian village greet ukrainian soldier ukraine ukranian kyivnotkiev war\n",
      "win war stand  ukraine ukrainerussiawar mint favourite peace nightingale \n",
      "rus chn turkey help eth sell arm decline strategically important horn africa rus ascendant reality rus putin win bigly agree ukrainerussiawar ukraine ukrainewar\n",
      "say biden nuclear deal band aid solution year irandeal nuclear\n",
      "russia point real threat wmds evidence public biolabsinukraine washington regime chemical biological nuclear civilian population\n",
      "good idea toomas ilvestoomas long russia deport ukrainian occupied territory russians allow eu period putinwarcrime putinwarcriminal\n",
      "dear cnn use russia language characterize russian occupy region ukraine separatist rebel kremlin terminology mask covert war war overt russia party aggressor russian proxy donbas\n",
      " ukrainian air force like address misinformation publish multiple western medium outlet situation  sky support nato ally  protectuаsky stoprussia ukraineunderattaсk\n",
      "putin agree desantis wait age\n",
      "bambam spot incheon international airport way usa 29th march camila cabello ed sheeran join force itv concert ukraine perform new collaboration bam bam live time bambamtousa2022 bambam b bambam1a\n",
      "big news british intelligence say russian troop destroy weapon troop refuse order standupforukraine putin\n",
      "chernihiv oblast ukrainian welcome liberator russianinvasion ukraineunderattack ukrainewillwin putinisawarcriminal stopputin russianukrainianwar russiagohome россиясмотри нетвоине\n",
      "ukrainian armed force liberate settlement kherson region seize trophy equipment\n",
      "ukraine ua force capture russian t90a tank good condition unaware modern far platform russian army deploy conflict likely happen kyiv oblast\n",
      " ukrainian air force like address misinformation publish multiple western medium outlet situation  sky support nato ally  protectuаsky stoprussia ukraineunderattaсk\n",
      " ukrainian air force like address misinformation publish multiple western medium outlet situation  sky support nato ally  protectuаsky stoprussia ukraineunderattaсk\n",
      "ukraine claim russian likely separatist push claim foil 57th separate infantry brigade ukrainian army luhansk oblast result destroy hardware\n",
      "warm welcome ukrainian soldier liberated village near chernihiv ukraine russiainvadedukraine russia\n",
      "year ago ukraine\n",
      "     weapon change game      ukraine troop x military ambush russia tank z\n"
     ]
    },
    {
     "name": "stderr",
     "output_type": "stream",
     "text": [
      "  0%|          | 1160/254626 [00:09<32:19, 130.70it/s]"
     ]
    },
    {
     "name": "stdout",
     "output_type": "stream",
     "text": [
      " myth nato provide ukraine need weapon ally possible short direct involvement war  truth date ally answer air defense support fighter jet sam\n",
      "abiy ahmed eritrean dictator isaias afewerki amhara ally continue tigray siege world condemn human right abuse tigray ukraine tigraygenocide supporthr6600 senjeffmerkley senjohnbarrasso\n",
      "russian soldier busy loot vain jewelry cash find pocket russianarmy standwithukraine ukraineunderattack ukrainewillwin terrorussia putinisawarcriminal stopputin russianukrainianwar россиясмотри нетвоине\n",
      "austria oppose embargo supply oil natural gas russia europe strongly dependent austrian chancellor karl nehammer say thursday live update\n",
      "public mint live billionaire wmn win public sale mint visit mint information good luck nft mint\n",
      "previously unseen rare footage ukrainian 9k37m1 buk m1 sam system use apparently hit target jet drone missile unknown location date unknown\n",
      "public mint live billionaire wmn win public sale mint visit mint information good luck nft mint\n",
      "russia army good good  glory ukraine   \n",
      "ukraine airforce debunk misinformation publish multiple western medium let help ukrainian pilot hear\n",
      "elkhorn norris nebraska high school boy soccer game live streaming link mar pm cdt location norris firth ne sport highschool canada today live ukraine russia usa nebraska mls football soccer asitwas\n",
      " ukrainian air force like address misinformation publish multiple western medium outlet situation  sky support nato ally  protectuаsky stoprussia ukraineunderattaсk\n",
      "chernihiv oblast ukrainian welcome liberator russianinvasion ukraineunderattack ukrainewillwin putinisawarcriminal stopputin russianukrainianwar russiagohome россиясмотри нетвоине\n",
      "pandemic need booster shot pandemic booster covid19 globalhealth ba2variant fda cdc vaccine moderna vaccinesideeffect airtravel pfizer tourism cruise sport soccerfan qatarworldcup2022 covaxin coronavirus ukrainerussiawar\n",
      "territory kyiv region leave enemy frequent case mining territory building local resident\n",
      "russian bring dress uniform medal ukraine order solemn parade khreshchatyk kyiv go wrong standwithukraine\n",
      "ukrainian armed force liberate settlement kherson region seize trophy equipment\n",
      "public mint live billionaire wmn win public sale mint visit mint information good luck nft mint\n",
      "break ukraine russia  ukraine heart warm scene war region flash ukrainewar ukrainerussia ucrania ucraina guerra guerre catsoftwitter cat\n",
      "special force sbu duty total representative department territory complex count civilian odessa ukraine rybar wonder national monument destroy cultural asshole coward\n",
      "chernihiv oblast ukrainian welcome liberator russianinvasion ukraineunderattack ukrainewillwin putinisawarcriminal stopputin russianukrainianwar russiagohome россиясмотри нетвоине\n",
      "site grow platform ukrainian share story picture experience visit share spread awareness ukraine wardiary silencedvoice kyiv kharkiv mariupol irpin lviv\n",
      "video come mariupol horrific complete devastation dead body lay street alive look like ghost walk hell russian army army looter rapist murderer\n",
      "chernihiv oblast ukrainian welcome liberator russianinvasion ukraineunderattack ukrainewillwin putinisawarcriminal stopputin russianukrainianwar russiagohome россиясмотри нетвоине\n",
      "grushglenn berniesander february vladimir putin start war human race ww3 die people stop\n"
     ]
    },
    {
     "name": "stderr",
     "output_type": "stream",
     "text": [
      "  0%|          | 1187/254626 [00:09<33:09, 127.39it/s]"
     ]
    },
    {
     "name": "stdout",
     "output_type": "stream",
     "text": [
      "public mint live billionaire wmn win public sale mint visit mint information good luck nft mint\n",
      "public mint live billionaire wmn win public sale mint visit mint information good luck nft mint\n",
      " war enter sixth week number ukrainian decide take residence eu rise ukrainerussia\n",
      "volodymyr zelenskyy strip general rank head ssu internal security directorate andrei naumov ssu directorate kherson oblast serhiy krivoruchko strip rank\n",
      "russian soldier busy loot vain jewelry cash find pocket russianarmy standwithukraine ukraineunderattack ukrainewillwin terrorussia putinisawarcriminal stopputin russianukrainianwar россиясмотри нетвоине\n",
      "putin prove african asian continent european americans god narrate future storythey human like imperialism  putin\n",
      "president european parliament roberta metsola announce travel kyiv ukraine tweet way kyiv thursday night expect arrive read\n",
      "ukraine roundtable false flag psyop propaganda tell ukraine ukraine russia vanessabeeley evabartlett alexthomson roundtable\n",
      "russia open recruitment center syrian city include damascus aleppo mercenary tell bbc people personally know apply fighting piece bread price food syria high\n",
      "good idea toomas ilvestoomas long russia deport ukrainian occupied territory russians allow eu period putinwarcrime putinwarcriminal\n",
      "president european parliament roberta metsola announce travel kyiv ukraine tweet way kyiv thursday night expect arrive read\n",
      "omg potus blame bidengashike putin think stupid know thedemocrat dnc policy bidenisalaughingstock\n",
      "public mint live billionaire wmn win public sale mint visit mint information good luck nft mint\n",
      "bad decision mother ukraine save healthy child war stay hospitalize child survive journey bigpicture cnnplus talk joeeenglish unicefusa story haunt\n",
      "personal message man thank people protect family fight russian invader ukraine ukrainerussianwar putinwarcriminal\n",
      "russianarmy intercept mom hear city chernigov yes anymore fully destroy russia yes mom terrorussia putinisawarcriminal stopputin russianukrainianwar россиясмотри нетвоине chernihiv\n",
      "public mint live billionaire wmn win public sale mint visit mint information good luck nft mint\n",
      "tune april 20th frontline large humanitarian crisis time ukraine yemen depth look take deliver shelter supply people displace conflict register today\n",
      "dog owner disappear war find ukrainianarmy house near kyiv troop hope find owner humanityfirst ukraineunderattack ukrainewillwin terrorussia stopputin russianukrainianwar russiagohome нетвоине\n",
      "kharkiv today word describe city despite city survive stand warinukraine harkiv russianwarcrime ukraineunderattaсk ukrainewillwin\n",
      "ukrainian force successfully conduct local counterattack kyiv sumy kherson oblast likely territory particularly northwest east kyiv come day read report\n",
      "atrocity commit russia ukraine murder thousand ukrainian hundred child genocide destruction city stay un excluderussia un security council russia threat global security\n",
      "ben swann curate ignorance npc volodymyr zelenskyy zelenskyy actually turn ukraine complete totalitarian state ban political party country say tie russia ukraine benswann volodymyrzelenskyy\n",
      "course trust putin attack false claim denazify ukraine president zelenskyy jewish insist bomb military target photo show draft new troop\n"
     ]
    },
    {
     "name": "stderr",
     "output_type": "stream",
     "text": [
      "  0%|          | 1215/254626 [00:09<32:22, 130.46it/s]"
     ]
    },
    {
     "name": "stdout",
     "output_type": "stream",
     "text": [
      "tired pundit give sage advice putin cnn jill dougherty go need regroup figure strategy ukraine mcfaul\n",
      "year ago ukraine\n",
      "wrong answer cnn putin go need come sense realize horror inflict withdraw troop catch flight hague turn ukraine mcfaul\n",
      "world focus ukraine urge un member forget tigray region cut world imperative reject ethiopia effort deny fund investigation voteno tigraycantwait thailandun\n",
      "terrifying soldier describe encounter russian fighter ukraineinvasion moviestvtj ukraine\n",
      "year ago ukraine\n",
      "endure enemy expect say day think seize entire state day stand continue fight resistanceunite freshvoice wtpblue ukraine\n",
      "russia create work group probe control biolab ukraine biolab control create moscow russia read \n",
      "year ago ukraine\n",
      "massacre civilian mariupol ukraine show true face putin putin terrorist regime destine denazification ukraine act commit genocide civilian population spare innocent child\n",
      "know war ukraine end business usual putin regime ntenzer discuss war crime putin commit ukrainian people nation hold putin accountable standwithukraine\n",
      "minting today miss  absolutely mind blow project  white list asap super hype  nft nft nftcommunity nftminte mint minting polygonnft openseanft bsc\n",
      "brief today drmikeryan say actively deny access humanitarian aid see ukraine tigray military tactic people catch conflict people target strategic chess piece horrific board\n",
      "year ago ukraine\n",
      "feeling right ukrainerussiawar\n",
      "nato nato consider wagnergroup mercenary illegal combatant engage battlefield\n",
      "russians approve putin management accord study carry non governmental russian consultancy levada ru figure point high february invasion ukraine  glorytoukraine argentinaestaconucrania   \n",
      "march ukrainian armed force shoot russian aircraft sky northeast kharkiv province fighter jet bomber source head province administration oleg synegubov\n",
      "sound war ukraine putin call special military operation president zelenskyy say forgive forget ukraine zelenskyy freshvoice resistanceunite wtpblue\n",
      "ukrainian armed force liberate settlement kherson region seize trophy equipment\n",
      "kyivindependent time nato eu step ukraine weapon need include blady plane shit talk time sort peace russian shit     kyiv ukraine\n",
      "year ago ukraine\n",
      "public mint live billionaire wmn win public sale mint visit mint information good luck nft mint\n",
      "warm welcome ukrainian soldier liberated village near chernihiv ukraine russiainvadedukraine russia\n",
      "ukraine destroy russian vehicle t72 tank variant appear btr d airborne apc unknown precisely hit\n",
      "world focus ukraine urge un member forget tigray region cut world imperative reject ethiopia effort deny fund investigation voteno tigraycantwait thailandun\n",
      "stray dog accompany ukrainian fighter odin unit take cover inside building hear incoming round clearing operation remain russian force irpinukraine war ukrainewar kyiv ukrainerussianwar dog mansbestfriend nytime\n"
     ]
    },
    {
     "name": "stderr",
     "output_type": "stream",
     "text": [
      "  0%|          | 1229/254626 [00:09<31:50, 132.62it/s]"
     ]
    },
    {
     "name": "stdout",
     "output_type": "stream",
     "text": [
      "ep president   thank standwithukraine\n",
      "sumy region russian tank diver\n",
      "putin declare unfriendly country open rouble account russian bank buy natural gas start april 1st\n",
      " ukrainian air force like address misinformation publish multiple western medium outlet situation  sky support nato ally  protectuаsky stoprussia ukraineunderattaсk\n",
      "ukraine previously unseen russian loss kyiv oblast vityaz dt30 articulated track carrier t72b t72b obr tank iveco lmv ry\n",
      "win war stand  ukraine ukrainerussiawar mint favourite peace nightingale \n",
      "china reverse role arm trade russia russia focused self reliant weapon cultural resistance treat china equal\n",
      "scale destruction residential building mariupol\n",
      "see come minute take chernobyl thought go soldier kill start dig trench stir bunch irradiated soil complete disaster soldier betray leader russianarmy putin\n",
      "nypost      weapon change game      ukraine troop x military ambush russia tank z\n",
      "surprised russian soldier believe russian propagandathey source info official one lot military watch fox basis believe russian propaganda involve january6th ukraineunderattaсk\n",
      "ukraine know vehicle type overturn incident russian btr82a armored personnel carrier\n",
      "good idea toomas ilvestoomas long russia deport ukrainian occupied territory russians allow eu period putinwarcrime putinwarcriminal\n",
      "ukraine powerful sign strength people able create beauty amid war\n",
      "ukrainian armed force liberate settlement kherson region seize trophy equipment\n",
      "middle war cat adopt human offer snuggle ukrainerussiawar slavaukraini ukrainianarmy ukrainiancat\n",
      "azov document prove cia cultivate fascism ukraine ukraine thedailywrapup cia fascism zpuhvr azovbattalion\n",
      "bye bye breach cookie hacking website administrator administrator cookie use cookie editor cookie enter russia staywithukraine ukrainewar anonymous\n",
      "andthisandthat february vladimir putin start war human race ww3 die people stop\n",
      "public mint live billionaire wmn win public sale mint visit mint information good luck nft mint\n",
      " myth nato provide ukraine need weapon ally possible short direct involvement war  truth date ally answer air defense support fighter jet sam\n",
      "soldier volodimir hold hand girlfriend tanya say goodbye train station lviv ukraine depart kramatorsk fight war photo ilvy njiokiktjien\n",
      "chernihiv oblast ukrainian welcome liberator russianinvasion ukraineunderattack ukrainewillwin putinisawarcriminal stopputin russianukrainianwar russiagohome россиясмотри нетвоине\n",
      "ukraine hollywood continue distract iran continue dangerous aid current administration bidenisalaughingstock freeiran2022\n",
      "anonymous hack release email marathon group russian investment firm own oligarch alexander vinokurov currently eu sanction vinokurov son law russian foreign minister lavrov oprussia ddosecret\n",
      "ukraine vzz vintorez capture azov mariupol note mag different kind ammo insert blue tip precision ammo black tip improve body armour penetration\n"
     ]
    },
    {
     "name": "stderr",
     "output_type": "stream",
     "text": [
      "  0%|          | 1257/254626 [00:09<32:27, 130.09it/s]"
     ]
    },
    {
     "name": "stdout",
     "output_type": "stream",
     "text": [
      " ukrainian air force like address misinformation publish multiple western medium outlet situation  sky support nato ally  protectuаsky stoprussia ukraineunderattaсk\n",
      "respectisvital alpha radiation sunburn inside liver shit time sick grade fuck alpha particle inside body russia russianarmy chernobyl\n",
      "world focus ukrainewar family tigray ethiopia face 500daysoftigraygenocide remain forget ic accord wfp child pregnant breastfeed woman malnourish unocha\n",
      "public mint live billionaire wmn win public sale mint visit mint information good luck nft mint\n",
      "local salute ukrainian fighter newly liberate village east kyiv  ukraine ukrainewar ukrainewarvideo russianukrainianwar ukrainerussianwar warinukraine russia ukraineinvasion\n",
      "ukraine previously unseen russian loss kyiv oblast vityaz dt30 articulated track carrier t72b t72b obr tank iveco lmv ry\n",
      "karina year old son timur flee kharkiv uzhhorod move kindness redcrossukraine volunteer like sasha welcome family\n",
      "fuck putin anonymous oprussia cyberwar russia continue putin cease hostility people ukraine\n",
      " city decimate intentional continuous shelling russianarmy mariupol ruin chernihiv destroy countless small city town cease exist  country able  happen protectuаsky stopputinnow\n",
      " anonymous account gear action imperialist state russia  follow youranonnew youranontv youranonriots anonopsse loriansynaro doemela x youranonone litemod oprussia opkremlin\n",
      "cnn      weapon change game      ukraine troop x military ambush russia tank zx\n",
      "public mint live billionaire wmn win public sale mint visit mint information good luck nft mint\n",
      "idiot russian president putin unsightly allegedly russia\n",
      "littlejoao22 balajiworld don fejak baronichita bakersevenzero freak pentagon say russia retreat take force rock come balajiworld\n",
      "world focus ukraine urge un member forget tigray region cut world imperative reject ethiopia effort deny fund investigation voteno tigraycantwait thailandun\n",
      "franklin graham write putin zelenskiy ask ceasefire holy week sightmagazine vladimirputin volodymyrzelenskiy samaritanspurse ukraineconflict\n",
      "pre biden claim gas price high putin invade ukraine invasion take place feb 24th oil price rise biden take office oil price surge putin cause high oil price scapegoat\n",
      "ukrainian advance kyiv oblast russian equipment destroy artillery drone uaf film russia ukraine\n",
      "russiaukraine iskander iskander m missile text sergey levkin officer 30th moto rifle bgd die combat feb\n",
      "chernihiv oblast ukrainian welcome liberator russianinvasion ukraineunderattack ukrainewillwin putinisawarcriminal stopputin russianukrainianwar russiagohome россиясмотри нетвоине\n",
      "uk send lethal weapon ukraine uk defense secretary ben wallace say\n",
      "iaponomarenko ukraine     heart world  respect hooorahhh slavaukraini   \n",
      "flashimportant russia n force conduct strike military target infrastructure civilian hurt ukraine air defence shoot missile say arestovich advisor zelensky zelenskyyua ukrainewar ukrainerussianwar russianukrainianwar\n",
      "love biden sure miss obama\n",
      "world nft nftscommunity nftartist quote supreme exactly go shib vinci mint lot millionaire hold stormy day sunshine fuck epic spartan winner team community well lfg\n"
     ]
    },
    {
     "name": "stderr",
     "output_type": "stream",
     "text": [
      "  1%|          | 1285/254626 [00:10<32:27, 130.10it/s]"
     ]
    },
    {
     "name": "stdout",
     "output_type": "stream",
     "text": [
      "rt com support dedollarisation denazification long live russian ethiopian china africa shall prevail nomore imperialism\n",
      "come shelling thursday volunteer accompany convoy bus send northern city chernihiv evacuate resident russia repeatedly lie intention nato secretary general jens stoltenberg say\n",
      "standwithukraine play arvada rock radio big mistake\n",
      "russian ministry defense publish hunter biden correspondence employee department defense threat reduction office pentagon contractor ukraine russianukrainianwar ukrainerussianwar russia kiev ukraine kyiv mauripol kharkiv odessa\n",
      "russian military work industrial zone mariupol azov nazi hide area ukraine ukrainerussiawar russia usa nato war news ukraina putin biden ukrainewar kyiv\n",
      "pre biden claim gas price high putin invade ukraine invasion take place feb 24th oil price rise biden take office oil price surge putin cause high oil price scapegoat\n",
      " player burn crystal round piece playkardia treasury    mintable kuswapfinance    step profit mint nft hodl playtoearn burn crystal profit gamefi kcc chain\n",
      "year ago ukraine\n",
      "mariupol russian invader fire building red cross mark bad crime war crosse mark place wound civilian humanitarian cargo find azov report stoprussia standwithukraine stoprussianaggression\n",
      "good idea toomas ilvestoomas long russia deport ukrainian occupied territory russians allow eu period putinwarcrime putinwarcriminal\n",
      "cyber war start anonymous stop vladimir putin permanently withdraw ukraine world need officially recognize vladimir putin international criminal oprussia\n",
      "cyberthrush february vladimir putin start war human race ww3 die people stop\n",
      " ukrainian air force like address misinformation publish multiple western medium outlet situation  sky support nato ally  protectuаsky stoprussia ukraineunderattaсk\n",
      "strike legend kyiv founder kyi shchek khoryv lybid swan brother sister resonance celtic child lir brother sister swan common irish   ukrainian \n",
      " ukrainian air force like address misinformation publish multiple western medium outlet situation  sky support nato ally  protectuаsky stoprussia ukraineunderattaсk\n",
      "accord reuters british intelligence report wagner group eastern ukraine wagnergroup ukrainerussiawar ukraine ukrainianarmy slavaukraini\n",
      "putin declare unfriendly country open rouble account russian bank buy natural gas start april 1st\n",
      "eduard kokoity president southossetia report soldier region send ukraine drop weapon return home\n",
      "guardian persistent purveyor mi6cia lie syria aka georgemonbiot honest admit lying core anglo imperial history hugely uk govts msm ukraine context article point russia\n",
      "month de nazification year article prevalence nazism fascism ukraine confusion symbol slogan heart issue compile  serve educational tool clarify misconception\n",
      "unitedkingdom sanction principle news anchor state own russia1 channel spread false news uk sanction tuckercarlson spread false news russia2 news channel oops mean foxnew\n",
      "want nft check collection opensea djshag nftcommunity nftproject pixelart art lovefighter ukraine doge doglover animalcrosse animal\n",
      "  school head master melitopil resign ivanfedorov mayor city result unwillingness work occupier accord statement ukraine stoprussia\n",
      "year ago ukraine\n"
     ]
    },
    {
     "name": "stderr",
     "output_type": "stream",
     "text": [
      "  1%|          | 1312/254626 [00:10<32:56, 128.14it/s]"
     ]
    },
    {
     "name": "stdout",
     "output_type": "stream",
     "text": [
      "public mint live billionaire wmn win public sale mint visit mint information good luck nft mint\n",
      "result un vote ridiculous resolution table ethiopia surprise block kenya door involvement peace talk look russia turkey uae israel mia leave ethiopia mess\n",
      "geriatric mind set curmudgeonly response impending calamity contain denial avoidance false bravado misdirection 50 gen x wwii gen psychology climate ecocide koch trump putin murdoch manchin pa 5165\n",
      "update mariupol\n",
      "bambam spot incheon international airport way usa 29th march camila cabello ed sheeran join force itv concert ukraine perform new collaboration bam bam live time bambamtousa2022 bambam b bambam1a\n",
      "good prompt action ukraine request bushmaster miff observe morrison smirk mention donation coal welcome address pre auspol\n",
      " ukrainian air force like address misinformation publish multiple western medium outlet situation  sky support nato ally  protectuаsky stoprussia ukraineunderattaсk\n",
      "belarusian battalion name kastus kalinouski ukraine belarusian hero help ukrainian defend friend know people ready risk life protect ukraine belarus\n",
      "o ukraine surprised nazi putin putin say nazi\n",
      "ukraine ukrainian armed force conduct successful counter attack russia n invader reclaim territory key city kyiv kharkiv mykolaiv\n",
      " wl spot giveaway grab enter    follow twitter badputinnft  like rt post  tag friend  join discord invite friend end 48hrs guy good luck ukraineunderattaсk warinukraine nftgiveaway\n",
      " georgia participate international financial sanction impose russia war ukraine state president republic salome zurabishvili air cnn tv channel\n",
      "public mint live billionaire wmn win public sale mint visit mint information good luck nft mint\n",
      "win war stand  ukraine ukrainerussiawar mint favourite peace nightingale \n",
      "russian\n",
      "public mint live billionaire wmn win public sale mint visit mint information good luck nft mint\n",
      " wl spot giveaway grab enter    follow twitter badputinnft  like rt post  tag friend  join discord invite friend end 48hrs guy good luck ukraineunderattaсk warinukraine nftgiveaway\n",
      "today control terrain map russian invasion ukraine thestudyofwar criticalthreat add map dedicate luhansk east\n",
      "year ago ukraine\n",
      "public mint live billionaire wmn win public sale mint visit mint information good luck nft mint\n",
      "public mint live billionaire wmn win public sale mint visit mint information good luck nft mint\n",
      "akitarici co good project airdrop binna freeukraine medajrifi adilkhona elgharb\n",
      "marvin gaye mercy mercy soul classic soul marvingaye musica musique blue standwithukraine  peace\n",
      "putin declare unfriendly country open rouble account russian bank buy natural gas start april 1st\n",
      "major target russian airforce attack humanitarian hospital kindergarten bombshelter fuel depot make sense write ground child fuel think help cnn donlemon\n"
     ]
    },
    {
     "name": "stderr",
     "output_type": "stream",
     "text": [
      "  1%|          | 1340/254626 [00:10<31:56, 132.14it/s]"
     ]
    },
    {
     "name": "stdout",
     "output_type": "stream",
     "text": [
      "anonymousvideo send email everyday point mailbox cope  thank anonymous standwithukriane\n",
      "unitedkingdom sanction principle news anchor state own russia1 channel spread false news uk sanction tuckercarlson spread false news russia2 news channel oops mean foxnew\n",
      "ukrainian soldier essentially retake town irpin scene fierce fighting recent week report ukrainian reconnaissance unit embe andrewkramernyt ukraine war ukrainewar military warukraine irpin kyiv\n",
      " ukrainian air force like address misinformation publish multiple western medium outlet situation  sky support nato ally  protectuаsky stoprussia ukraineunderattaсk\n",
      "ukraine claim withdraw vdv convoy kyiv oblast attack ukrainian force airborne infantry fighting vehicle completely destroy extremely gruesome scene\n",
      " ukrainian air force like address misinformation publish multiple western medium outlet situation  sky support nato ally  protectuаsky stoprussia ukraineunderattaсk\n",
      "ukrainian drone crew report russianarmy leave hostomel air field yesterday march take february destroy antonov225 hangar large plane earth unique plane ukrainewar антонов gostomel гостомель putinswar\n",
      "ukraine ukrainian force continue implementation improvise explosive device combat like middle east time russian fuel truck hit ied lead complete destruction\n",
      "gyakov1990 ukraine ian troop take gostomel 23s irpin irpin stick bridge blow ua unit valueless possible russia let ukraine ian simply defensible position\n",
      "find hard believe monument honor galicia division ukrainian cemetery oakville canada\n",
      "warm welcome ukrainian soldier liberated village near chernihiv ukraine russiainvadedukraine russia\n",
      "new gme amc video amc gme stock crypto nft stockmarket lrc lrc news trend gamestop cryptocurrency russiaukraineconflict russia ukraine putin apecoin amcshortsqueeze amctothemoon\n",
      "want follow twitter want stop putin unnecessary force violence ukraine force pull russian troop retweet peace  ukraine stopputinnow peaceinukraine\n",
      "public mint live billionaire wmn win public sale mint visit mint information good luck nft mint\n",
      "beautiful slavaukraini\n",
      "good ol medium ukraine russianukrainianwar\n",
      "ru1 julystar69 sitaravirgo shahwartaj07 tomorrow12river suriyamaham sir stand muslim architectural structure note onion shape dome tower good russia gm asiantwitter happyholiday\n",
      "ukraine love   \n",
      "conspiracy theory day people overestimate russia capability invasion ukraine push hastily negotiate peace long protract war recommend supply ukraine need firepower\n",
      "surprise putin russian disinformation sound like gop gopleader tweet trumptraitor whining point goptraitorstodemocracy\n",
      "tigrayan life matter experience conflict ukraine question world leader act endtigraysiege mbachelet antonioguterre eu commission samanthajpower supports3199 secblinken usun\n",
      "scramble gas settodraw 10b tanzaniaproject africa energy coal mining\n",
      "abiy ahmed eritrean dictator isaias afewerki amhara ally continue tigray siege world condemn human right abuse tigray ukraine tigraygenocide supporthr6600 senjeffmerkley senjohnbarrasso\n",
      "bbcworld bbcbreake know fully fakenew canada france russia confirm radical syrian rebel fighter united kingdom support send turkey azerbaijan fight small democratic republic artsakh\n"
     ]
    },
    {
     "name": "stderr",
     "output_type": "stream",
     "text": [
      "  1%|          | 1355/254626 [00:10<31:15, 135.07it/s]"
     ]
    },
    {
     "name": "stdout",
     "output_type": "stream",
     "text": [
      "public mint live billionaire wmn win public sale mint visit mint information good luck nft mint\n",
      "ukrainian armed force liberate settlement kherson region seize trophy equipment\n",
      "dpr fighter capture humvee ukraine ukrainerussiawar russia usa nato war news ukraina putin biden ukrainewar kyiv\n",
      "ukrainian response degrading internet ham radio diy booster antenna booster antenna starlink danyork jane coffin arcamachox\n",
      "republican senator go russia 4th july year senjohnkennedy johncornyn\n",
      "good idea toomas ilvestoomas long russia deport ukrainian occupied territory russians allow eu period putinwarcrime putinwarcriminal\n",
      "ukraine ukrainian advance west kyiv russian bmp2 supply truck destroy\n",
      "public mint live billionaire wmn win public sale mint visit mint information good luck nft mint\n",
      "read thead ukrainian air force rt kpszsu discuss air war aspect russia invasion ukraine read thread help ukraine retweet thread protectuаsky stoprussia ukraineunderattaсk\n",
      "ukraine russian supply truck ambush ukrainian special force likely russian line little remain\n",
      "new ukraine need well air defense system excuse postopinion standwithukraine slavaukraine\n",
      "chernihiv oblast ukrainian welcome liberator russianinvasion ukraineunderattack ukrainewillwin putinisawarcriminal stopputin russianukrainianwar russiagohome россиясмотри нетвоине\n",
      "ukraine appear wreckage belong russian mi8amtsh assault helicopter tail number rf91882\n",
      "biden administration ready release barrel reserve hold strategic petroleum reserve offset decline russian export cool price decide 1\n",
      " ukrainian air force like address misinformation publish multiple western medium outlet situation  sky support nato ally  protectuаsky stoprussia ukraineunderattaсk\n",
      "challenge birthday come birthday4ukraine challenge benefit cause support ukraine  fight independence\n",
      "question video image ban ukraine read warning ukrainian language look like ukraine hide people world bad lose warunfortunately will osint local uafreedom\n",
      "day pledge withdraw troop kyiv region russian force double air strike accord us defense official late ukraine specialreport w bretbai ukraine russia ukrainewar ukrainerussianwar kyiv lviv\n",
      "personal message man thank people protect family fight russian invader ukraine ukrainerussianwar putinwarcriminal\n",
      "russianukrainianwar rally take place today galicia spain support donbass anti fascist resistance inside ukraine kiev regime\n",
      "public mint live billionaire wmn win public sale mint visit mint information good luck nft mint\n",
      "tremendous focus ukraine rightly area world access life save intervention tigray acute moment term get basic access supply food director dr mike ryan\n",
      "ukrainian armed force liberate settlement kherson region seize trophy equipment\n",
      "video come mariupol horrific complete devastation dead body lay street alive look like ghost walk hell russian army army looter rapist murderer\n",
      "late defence intelligence update situation ukraine march find uk government response standwithukraine \n"
     ]
    },
    {
     "name": "stderr",
     "output_type": "stream",
     "text": [
      "  1%|          | 1382/254626 [00:10<33:49, 124.80it/s]"
     ]
    },
    {
     "name": "stdout",
     "output_type": "stream",
     "text": [
      "ukraine believe bull shit legacy media tell russia retreat russia achieve objective land bridge crimea troop movement war strategy opponent guess\n",
      "ukraine europe uk nato dark secret heart nazi state big intelligence coup war word time like satire powerful tool masse thing ridiculous \n",
      "middle war cat adopt human offer snuggle ukrainerussiawar slavaukraini ukrainianarmy ukrainiancat\n",
      "irpin suburb kyiv ukrainian control accord mayor russian troop murder civilian roll body tank ukraine ukrainerussiawar\n",
      "stray dog accompany ukrainian fighter odin unit take cover inside building hear incoming round clearing operation remain russian force irpinukraine war ukrainewar kyiv ukrainerussianwar dog mansbestfriend nytime\n",
      "denmark send troop latvia strengthen eastern border nato\n",
      "chernihiv oblast ukrainian welcome liberator russianinvasion ukraineunderattack ukrainewillwin putinisawarcriminal stopputin russianukrainianwar russiagohome россиясмотри нетвоине\n",
      "ukrainian force successfully conduct local counterattack kyiv sumy kherson oblast likely territory particularly northwest east kyiv come day read report\n",
      "video come mariupol horrific complete devastation dead body lay street alive look like ghost walk hell russian army army looter rapist murderer\n",
      "russia impose ban entry country eu leadership response sanction eu leadership long able enjoy vacation norilsk\n",
      "send bill wreck home russia note putin pay upunfortunately fix little girl murder standwithukriane senronjohnson nelsonforwi wisconsin\n",
      "order help ukraine attack heed call provide tool need defend letter rephoulahan urge potus facilitate transfer s300s ukraine\n",
      "carlquintanilla neveragain mean damn thing ukraine\n",
      "biden absolutely release oil spr exactly ukrainerussiawar end eventually russia continue heavy loss oil lower time\n",
      "bus pack russian soldier suffer acute radiation syndrome arrive belarus ukrainian chernobyl exclusion zone source member public council state ukraine agency exclusion zone yaroslav yemelyanenko unian news agency\n",
      "gyakov1990 ukraine ian troop take gostomel 23s irpin irpin stick bridge blow ua unit valueless possible russia let ukraine ian simply defensible position\n",
      "russia conduct precision missile strike target azovstal metallurgical complex mariupol\n",
      " ukrainian air force like address misinformation publish multiple western medium outlet situation  sky support nato ally  protectuаsky stoprussia ukraineunderattaсk\n",
      "ukrainian soldier stand destroy russian military column glory ukraine glory united states   standwithukraine\n",
      "volodymyr zelenskyy strip general rank head ssu internal security directorate andrei naumov ssu directorate kherson oblast serhiy krivoruchko strip rank\n",
      "ukraine previously unseen russian loss kyiv oblast vityaz dt30 articulated track carrier t72b t72b obr tank iveco lmv ry\n",
      "   evening msg zelenskyyua ukraine endure enemy expect say day think seize entire state stand continue fight\n"
     ]
    },
    {
     "name": "stderr",
     "output_type": "stream",
     "text": [
      "  1%|          | 1410/254626 [00:11<32:30, 129.80it/s]"
     ]
    },
    {
     "name": "stdout",
     "output_type": "stream",
     "text": [
      "year ago ukraine\n",
      "chernihiv oblast ukrainian welcome liberator russianinvasion ukraineunderattack ukrainewillwin putinisawarcriminal stopputin russianukrainianwar russiagohome россиясмотри нетвоине\n",
      "ukraine appear russian multiple rocket launcher abandon kyiv oblast fact advanced modern tornado g mlrs system adopt russian army h t blue sauron\n",
      "timshawmd senronjohnson nelsonforwi february vladimir putin start war human race ww3 die people stop\n",
      "flexghost1 promise putin institutionally want well want ameliorate distract goal terrorize disrupt kind ahead\n",
      "volodymyr zelenskyy strip general rank head ssu internal security directorate andrei naumov ssu directorate kherson oblast serhiy krivoruchko strip rank\n",
      "new wrinkle sadly sound absolutely accurate require reading ukraine\n",
      "biden transgender woman family sperm donor wait man biologist pretty sure woman produce sperm make baby\n",
      " ukrainian air force like address misinformation publish multiple western medium outlet situation  sky support nato ally  protectuаsky stoprussia ukraineunderattaсk\n",
      "good idea toomas ilvestoomas long russia deport ukrainian occupied territory russians allow eu period putinwarcrime putinwarcriminal\n",
      "ukraine army enter reclaimed village chernihiv region civilian greet\n",
      "anonymous new cyber target western company business russia speak target company oprussia ukraine youranontv youranonnew\n",
      "public mint live billionaire wmn win public sale mint visit mint information good luck nft mint\n",
      "warmonger chinadailycartoon nato\n",
      "ukraine army enter reclaimed village chernihiv region civilian greet\n",
      "russia thankful dilip singh verbal diarrhea ukraine biden modi\n",
      "read thead ukrainian air force rt kpszsu discuss air war aspect russia invasion ukraine read thread help ukraine retweet thread protectuаsky stoprussia ukraineunderattaсk\n",
      "russia hire mercenary wagner group assassinate zelensky reportedly wagner group ukraine wagnergroup ukrainerussiawar ukraine ukrainianarmy slavaukraini\n",
      "juuust little brush russian find glory ukraine   \n",
      "western civilization savage true nature thing sarin gas people far away syria muslim different culture europe go european soil european russianukrainianwar\n",
      "mariupol accord kadyrov mariupol liberate source include ukraine ian regime suggest yesterday\n",
      "business putin rich russian maybe rich world oligarch\n",
      "ukraine contribution sport kudo shevchenko rebrov software gitlab scientific art field forever memory standwithukraine\n",
      "rt share video russian tank target fire residential house mariupol record warcrime savemariupol\n",
      "year ago ukraine\n"
     ]
    },
    {
     "name": "stderr",
     "output_type": "stream",
     "text": [
      "  1%|          | 1438/254626 [00:11<31:30, 133.95it/s]"
     ]
    },
    {
     "name": "stdout",
     "output_type": "stream",
     "text": [
      "chris hedges delete youtube jimmy dore chrislynnhedge understand biden appointment poc like clarencethomas clear indication racismusing identity politic appoint people betray white man game\n",
      "year ago ukraine\n",
      "ukraine tigraygenocide world ignore bad atrocity explain check video allowaccesstotigray supporthr6600 repannaeshoo repzoelofgren jimmypanetta repdavidvaladao devinnune gopleader carbajalsalud mikegarcia2020 repbrownley\n",
      "ukrainian armed force liberate settlement kherson region seize trophy equipment\n",
      "chernihiv oblast ukrainian welcome liberator russianinvasion ukraineunderattack ukrainewillwin putinisawarcriminal stopputin russianukrainianwar russiagohome россиясмотри нетвоине\n",
      "world focus ukraine urge un member forget tigray region cut world imperative reject ethiopia effort deny fund investigation voteno tigraycantwait thailandun\n",
      "japan call southern kuril illegally occupy japanese authority decide return harsh language state southern kuril integral japan currently illegally occupy russia\n",
      "break ukraine russia  ukraine heart warm scene war region flash ukrainewar ukrainerussia ucrania ucraina guerra guerre catsoftwitter cat\n",
      "republican senator go russia 4th july year senjohnkennedy johncornyn\n",
      "ukraine contribution sport kudo shevchenko rebrov software gitlab scientific art field forever memory standwithukraine\n",
      "unitedkingdom sanction principle news anchor state own russia1 channel spread false news uk sanction tuckercarlson spread false news russia2 news channel oops mean foxnew\n",
      "tank t34 memorial soviet troop berlin cover ukrainian flag russian embassy send note protest berlin authority reply t34 tank develop ukrainian city kharkiv\n",
      "ukraine appear russian multiple rocket launcher abandon kyiv oblast fact advanced modern tornado g mlrs system adopt russian army h t blue sauron\n",
      "ukraine war irpin liberate russian force irpin ukrainerussiawar putinwarcriminal putinswar\n",
      "ukrainian armed force liberate settlement kherson region seize trophy equipment\n",
      "putin declare unfriendly country open rouble account russian bank buy natural gas start april 1st\n",
      "report irpin today cnn ukraine russia\n",
      "mistakenly impregnate be ready child option abort prophesy come come child nah glorious child leave  truth anonymous aprilfool aprilfoolsday\n",
      "stray dog accompany ukrainian fighter odin unit take cover inside building hear incoming round clearing operation remain russian force irpinukraine war ukrainewar kyiv ukrainerussianwar dog mansbestfriend nytime\n",
      "ukraine damage russian t72b3 damage recover ukrainian force likely approx week ago fuel truck damage\n",
      "refugee ukraine obtain russian citizenship give maternity capital exist child tatiana butskaya deputy head russian parliamentary committee family woman child issue say\n",
      "telling photo take rferl ukraine kyiv province gt russian army ruin memorial soldier die fight hitler nazi wwii\n",
      "mar sgi info donate mill yen wfp food aid response humanitarian situation face people ukraine un world food programme work zerohunger sdgs2\n",
      "putin declare unfriendly country open rouble account russian bank buy natural gas start april 1st\n",
      " myth nato provide ukraine need weapon ally possible short direct involvement war  truth date ally answer air defense support fighter jet sam\n",
      "russia listen fuck ukraine \n"
     ]
    },
    {
     "name": "stderr",
     "output_type": "stream",
     "text": [
      "  1%|          | 1452/254626 [00:11<31:42, 133.10it/s]"
     ]
    },
    {
     "name": "stdout",
     "output_type": "stream",
     "text": [
      "bambam spot incheon international airport way usa 29th march camila cabello ed sheeran join force itv concert ukraine perform new collaboration bam bam live time bambamtousa2022 bambam b bambam1a\n",
      "ukrainian turn thing monument cnn cnbc ukrainerussiawar\n",
      "ukrainian force successfully conduct local counterattack kyiv sumy kherson oblast likely territory particularly northwest east kyiv come day read report\n",
      "biden bad president history bidenflation bidencrimefamilly bidenisalaughingstock bidenisafailure\n",
      "real buckingham palace thursday friday ukraine nazi craze luciferian nazi include jewish nazi shoot fun sport exactly describe grandparent child woman baby like kill discern\n",
      "jerrydunklee february vladimir putin start war human race ww3 die people stop\n",
      "cat pause sunset outside story apartment building destroy bombardment nemyshlianskyi district kharkiv neighbor say kill include year old ukraine\n",
      "message deesnider ukrainian russian conflict     worldunitedlive concert heavymetal standwithukraine standupforukraine\n",
      "ukraine appear russian multiple rocket launcher abandon kyiv oblast fact advanced modern tornado g mlrs system adopt russian army h t blue sauron\n",
      "year ago ukraine\n",
      "right cue guardian push new gchq fantasy russia semi fact credible mythical novichok attack skripal funnily rt sputnik exaggerated claim ukraine need\n",
      "   evening msg zelenskyyua ukraine endure enemy expect say day think seize entire state stand continue fight\n",
      "video chechnya kadyrovite soldier film video selfie tiktok invade ukraine go wrong\n",
      "country profit ukrainian blood playe peacemaker check thread danale   ukrainewar\n",
      "month de nazification year article prevalence nazism fascism ukraine confusion symbol slogan heart issue compile  serve educational tool clarify misconception\n",
      "follow conference bwallacemp say country agree supply ukraine lethal weapon thank effort uk   hope result soon wait new delivery expect long range weapon\n",
      "ukraine damage russian t72b3 damage recover ukrainian force likely approx week ago fuel truck damage\n",
      "just putin unfriendly country pay russian gas ruble april russia halt gas contract buyer pay ruble\n",
      "amazing leader speak truth  slavaukraini\n",
      "putin declare unfriendly country open rouble account russian bank buy natural gas start april 1st\n",
      "win war stand  ukraine ukrainerussiawar mint favourite peace nightingale \n",
      " myth nato provide ukraine need weapon ally possible short direct involvement war  truth date ally answer air defense support fighter jet sam\n",
      "ukrainian force successfully conduct local counterattack kyiv sumy kherson oblast likely territory particularly northwest east kyiv come day read report\n",
      "chris hedges delete youtube jimmy dore chrislynnhedge understand biden appointment poc like clarencethomas clear indication racismusing identity politic appoint people betray white man game\n"
     ]
    },
    {
     "name": "stderr",
     "output_type": "stream",
     "text": [
      "  1%|          | 1480/254626 [00:11<32:09, 131.18it/s]"
     ]
    },
    {
     "name": "stdout",
     "output_type": "stream",
     "text": [
      "rt share video russian tank target fire residential house mariupol record warcrime savemariupol\n",
      "hi past world crypto interested sport   dilute tape crypto nft gym russia fitne fitnessmotivation\n",
      "ukraine appear russian multiple rocket launcher abandon kyiv oblast fact advanced modern tornado g mlrs system adopt russian army h t blue sauron\n",
      "1st article thelevantnewsen tackle recently uncover iranian clandestine financial infrastructure reveal wsj thewo17 recent talk m s billingslea address development affect sanction enforcement biden policy\n",
      "joe biden warn americans food shortage come leadership failure  ready ration  breadlines  socialism bidenisafailure food gas economy \n",
      "ukraine peace talk reject minsk deal anatol lieven lievenanatol quincyinst georgetown university audioboom ukraine\n",
      "uaarmy animal leahcohenpotb bastard target pet service dog stopputinnow slavaukraini\n",
      "ukraine kherson oblast russian bmp2 damage recover ua troop repair reuse\n",
      "anonymous new cyber target western company business russia speak target company oprussia ukraine youranontv youranonnew\n",
      " russkiy mir beauty mariupol\n",
      "n jaresko katyayushchenko mdlz anonymous magic  youranonone youranonnew youranontv\n",
      " myth nato provide ukraine need weapon ally possible short direct involvement war  truth date ally answer air defense support fighter jet sam\n",
      "ukraine inform iaea today russian force control chornobyl nuclear power plant feb writing transfer control npp ukrainian personnel move convoy troop\n",
      "ukraine organisation contact homesforukraine people family disabled child bedridden people help kevin j foster richard4watford pritipatel borisjohnson yvettecoopermp keir starmer luhc scope bbcnew large group speak\n",
      "break australia start supply ukranian bushmaster direct request ukrainian president ukraine russia auspol\n",
      "cfr org zongyuanzoeliu potus chineseembinus mfa russia mfa ukraine beijing withstand satanstrategy give decadesbloodyviolent warfare ukrainechineseeurope natoglobalalliance russia result world degradation culminate fascist nation pose threat chinesesovereignty\n",
      " ukrainian air force like address misinformation publish multiple western medium outlet situation  sky support nato ally  protectuаsky stoprussia ukraineunderattaсk\n",
      "central command inform russia reinforce force kherson guess want fight beautiful day glory ukraine   \n",
      " ask support ukraine  anonymous  action ukraine freeukraine standwithukraine slavaukraini\n",
      "break ukraine russia  ukraine heart warm scene war region flash ukrainewar ukrainerussia ucrania ucraina guerra guerre catsoftwitter cat\n",
      "stray dog accompany ukrainian fighter odin unit take cover inside building hear incoming round clearing operation remain russian force irpinukraine war ukrainewar kyiv ukrainerussianwar dog mansbestfriend nytime\n",
      "russian soldier busy loot vain jewelry cash find pocket russianarmy standwithukraine ukraineunderattack ukrainewillwin terrorussia putinisawarcriminal stopputin russianukrainianwar россиясмотри нетвоине\n",
      "anonymous new cyber target western company business russia speak target company oprussia ukraine youranontv youranonnew\n",
      "russian journalist gennadiy dybovoy explane work tipper russian army spread video twitter remove post day ago silently remove notification\n"
     ]
    },
    {
     "name": "stderr",
     "output_type": "stream",
     "text": [
      "  1%|          | 1508/254626 [00:11<32:45, 128.78it/s]"
     ]
    },
    {
     "name": "stdout",
     "output_type": "stream",
     "text": [
      "nobel medicine prize extraordinary effort end covid omicron variant pandemic putin\n",
      "year ago ukraine\n",
      " ukrainian air force like address misinformation publish multiple western medium outlet situation  sky support nato ally  protectuаsky stoprussia ukraineunderattaсk\n",
      "year ago ukraine\n",
      "basic tenet stability exist world border change threat use force future international order hinge russia get away ukraine say richardhaass cfr org\n",
      " 16 ambulance purchase unitedhelpua initiative e нцатива deliver ukraine right russianwar start february association free ukraine begin initiative supply  equip  central eastern southern part ukraine \n",
      "volodymyr irina meet military unit irina serve year think month proposal married   standwithukraine\n",
      "kyiv spend javelin see ground glory ukraine   \n",
      "emotional thank video ukrainian man talk polish people poland grateful host family refugee defend ukraine russia frontline\n",
      " ukrainian air force like address misinformation publish multiple western medium outlet situation  sky support nato ally  protectuаsky stoprussia ukraineunderattaсk\n",
      "worried gostomel look map gostomel circle map bucha circle second map fact russia good airborne troop leave antonov airport gostomel matter ukraine come near\n",
      "neglect warontigray compare ukrainewar google search result number indicate neglect tigray war year half old genocidal war brutal involve type atrocity crime ukraine war little month old\n",
      "president biden stumble way europe increase global instability  potential lead wwiii whitehouse routinely walk president comment need ask charge foreign policy \n",
      "western medium hide fashistoid condition ukraine cover western politician medium footage lviv ukraine ukrainerussiawar russia usa nato war news ukraina putin biden ukrainewar kyiv lviv\n",
      "mariupol bleed wound remember number assess international community possible prevent crime remember people closetheskyoverukraine provide ukraine weapon need\n",
      "year ago ukraine\n",
      "april kyiv ukrainian hand mariupol sadly shell oblivion ukrainian force hold advance forward chernobyl thankfully hand slavaukraini \n",
      "biden take million china russia ukraine trust foreign affair government nato america republicans conservative democrats russia ukraine bidencrimefamilly biden\n",
      "world focus ukraine urge un member forget tigray region cut world imperative reject ethiopia effort deny fund investigation voteno tigraycantwait thailandun\n",
      "world focus ukraine urge un member forget tigraythis region cut world imperative reject ethiopia effort deny fund investigationallowaccesstotigray supporthr6600 usambun senbillnelson vp\n",
      "eye focus russia ukraine intl community remember tigray population kill far month tigraygenocide senatorround statedept statedeptspox usambun potus secblinken callitagenocide\n",
      "message deesnider ukrainian russian conflict     worldunitedlive concert heavymetal standwithukraine standupforukraine\n",
      "belarusian battalion name kastus kalinouski ukraine belarusian hero help ukrainian defend friend know people ready risk life protect ukraine belarus\n",
      "marcelobr21 february vladimir putin start war human race ww3 die people stop\n",
      "leave weapon afghanistan biden coward war machine pay shut oil production flow biden coward pay corrupt country oil moral biden coward puppet\n"
     ]
    },
    {
     "name": "stderr",
     "output_type": "stream",
     "text": [
      "  1%|          | 1534/254626 [00:12<33:32, 125.75it/s]"
     ]
    },
    {
     "name": "stdout",
     "output_type": "stream",
     "text": [
      "ukraine ukrainian force destroy russian bmp2 infantry fighting vehicle apc pretty rare brem ch armored recovery vehicle area italian iveco lmv ry infantry mobility vehicle capture\n",
      "human cost war conflict escalate ukraine refugee leave internally displace time humanitarian crisis small act compassion generosity huge difference pls consider donate relief effort\n",
      "ukraine russian bmd4 m capture fight w kyiv notice damage\n",
      "message guy shieldvoc uber support uber outsourced product different law regulation exchange rate influx gas tension worldevent play role thank exodus io wallet digital future future\n",
      "win war stand  ukraine ukrainerussiawar mint favourite peace nightingale \n",
      "call russian change mission write tweet panama wo luxury intell report sense assume erdogan peace talk  effort stall ukraine battlefield momentum longliveukraine demvoice1 bluevoice\n",
      "ukraine inform iaea today russian force control chornobyl nuclear power plant feb writing transfer control npp ukrainian personnel move convoy troop\n",
      "good video game space read day epicgame maker fortnitegame single large corporate donator ukraine relief\n",
      "carlquintanilla neveragain mean damn thing ukraine\n",
      "presidentzelenskyy visit wounded ukrainian soldier militaryhospital kyiv forgive forget punish commit atrocity war find scum shell city people\n",
      "russianarmy intercept mom hear city chernigov yes anymore fully destroy russia yes mom terrorussia putinisawarcriminal stopputin russianukrainianwar россиясмотри нетвоине chernihiv\n",
      "russians abandon hostomel airport sr defense official ukraineunderattack ukrainerussianwar\n",
      " myth nato provide ukraine need weapon ally possible short direct involvement war  truth date ally answer air defense support fighter jet sam\n",
      "drone footage post pro russian account clear example extent destruction mariupol area theatre turn uninhabitable ghost town\n",
      "ukrainerussianwar in foreign legion ukraine special force veteran lieutenant ken rhee seal navy seal operator south korean navy the number foreign mercenary accord moscow decrease attack leopoli\n",
      "baronichita bakersevenzero withdrawal tactical strategic know guess tactical good russia n troop take airport early morning day war keep ukraine throw need \n",
      "live time week bitcoin 2022 ripple pos attack dollar stick trezor beat biden taxis africa austin superspreade thebitcoinconf guests bitcoin bum ericyake runwithbitcoin\n",
      "patriarch kirill know support war ukraine ukrainian parliament introduce bill ban russian orthodox church draft law envision property roc nationalize hour adoption law\n",
      "look inside awaken carl jung demvoice1 wtpblue loveislove slavaukraini  zelenskyyua  v o t e midterms2022\n",
      "ukrainian artillery spot glory ukraine   \n",
      "ukraine ukrainian force destroy russian bmp2 infantry fighting vehicle apc pretty rare brem ch armored recovery vehicle area italian iveco lmv ry infantry mobility vehicle capture\n",
      " myth nato provide ukraine need weapon ally possible short direct involvement war  truth date ally answer air defense support fighter jet sam\n",
      "ukraine ua force capture russian t90a tank good condition unaware modern far platform russian army deploy conflict likely happen kyiv oblast\n",
      "chernihiv oblast ukrainian welcome liberator russianinvasion ukraineunderattack ukrainewillwin putinisawarcriminal stopputin russianukrainianwar russiagohome россиясмотри нетвоине\n"
     ]
    },
    {
     "name": "stderr",
     "output_type": "stream",
     "text": [
      "  1%|          | 1548/254626 [00:12<32:55, 128.10it/s]"
     ]
    },
    {
     "name": "stdout",
     "output_type": "stream",
     "text": [
      "painful watch somebody worth minute time insane see believe ukrainewar\n",
      "chernihiv oblast ukrainian welcome liberator russianinvasion ukraineunderattack ukrainewillwin putinisawarcriminal stopputin russianukrainianwar russiagohome россиясмотри нетвоине\n",
      "ukraine tigraygenocide world ignore bad atrocity explain check video allowaccesstotigray supporthr6600 repannaeshoo repzoelofgren jimmypanetta repdavidvaladao devinnune gopleader carbajalsalud mikegarcia2020 repbrownley\n",
      "say day think seize entire state stand continue fight end monster leave land zelenskyy standupforukraine\n",
      "ukraine say russian force leave chernobyl power plant russianinvasion russia\n",
      "win war stand  ukraine ukrainerussiawar mint favourite peace nightingale \n",
      "ukraine shit happen\n",
      "ukraine russian bmp variant utterly obliterate film advance ukrainian troop likely kyiv oblast\n",
      "zipzapticz potus february vladimir putin start war human race ww3 die people stop\n",
      "state department explain citizen immediately leave russia ukraine accord washington recent week russian security force identify detain citizen russia area ukraine control\n",
      "baronichita bakersevenzero specifically need donbass good russia n troop go indicate analysis gostomel protect ukraine ian incursion bucha south rf firmly plus rf firmly gostomel\n",
      "chernihiv oblast ukrainian welcome liberator russianinvasion ukraineunderattack ukrainewillwin putinisawarcriminal stopputin russianukrainianwar russiagohome россиясмотри нетвоине\n",
      "putin unfriendly country pay russian gas ruble april russia halt gas contract buyer pay ruble\n",
      "baronichita bakersevenzero sit antonov airport cover subject ukraine throw basically foolish objective bring troop air objective moment fight early indicate shift donbass\n",
      "  japanese prime minister withdraw sakhalin2 project import gas russia help secure long term low cost stability energy field russia japan europe\n",
      "anonymous new cyber target western company business russia speak target company oprussia ukraine youranontv youranonnew\n",
      "ukraine btr82a armored personnel carrier capture ukrainian army ua control nova basan chernihiv oblast\n",
      "ukrainian nazi imprudence frame ajarabic turn militant use ambulance know russian military shoot medical vehicle russiaukraineconflict russia ajenew\n",
      "presidentzelenskyy visit wounded ukrainian soldier militaryhospital kyiv forgive forget punish commit atrocity war find scum shell city people\n",
      "ukraine peace talk reject minsk deal anatol lieven lievenanatol quincyinst georgetown university audioboom ukraine\n",
      "ukrainewar newly add russian equipment loss t72b3 mbt destroy unknown tank destroy btr82a ifv capture zsu23 shilka spaag capture kamaz63968 typhoon mrap destroy list\n",
      " ukrainian air force like address misinformation publish multiple western medium outlet situation  sky support nato ally  protectuаsky stoprussia ukraineunderattaсk\n",
      "root ukrainewar bill clinton initiate nato enlargement eisenhower granddaughter susan publish joint open letter say plan expand nato political mistake historic proportion atilioboron\n",
      "report irpin today cnn ukraine russia\n",
      "ukrainian lgbtq artist leave kyiv paint peace   \n"
     ]
    },
    {
     "name": "stderr",
     "output_type": "stream",
     "text": [
      "  1%|          | 1576/254626 [00:12<32:46, 128.71it/s]"
     ]
    },
    {
     "name": "stdout",
     "output_type": "stream",
     "text": [
      "ukrainian armed force liberate settlement kherson region seize trophy equipment\n",
      "brussel sunday la monnaie de munt go light candle victim russian war ukraine standwithukriane stopputinnow helpukraine mariupol chernihiv belgium belgique bruxelle\n",
      "good idea toomas ilvestoomas long russia deport ukrainian occupied territory russians allow eu period putinwarcrime putinwarcriminal\n",
      "ukraine russian fall george friedman george friedman gpfutures founder chairman geopolitical future audioboom ukraine\n",
      "bambam spot incheon international airport way usa 29th march camila cabello ed sheeran join force itv concert ukraine perform new collaboration bam bam live time bambamtousa2022 bambam b bambam1a\n",
      "break company russia non friendly country need open ruble account russian bank purchase gas country start april accord decree sign president vladimir putin\n",
      "year ago ukraine\n",
      "finland putin blood oil head way reject standwithukraine \n",
      "stray dog accompany ukrainian fighter odin unit take cover inside building hear incoming round clearing operation remain russian force irpinukraine war ukrainewar kyiv ukrainerussianwar dog mansbestfriend nytime\n",
      "read thead ukrainian air force rt kpszsu discuss air war aspect russia invasion ukraine read thread help ukraine retweet thread protectuаsky stoprussia ukraineunderattaсk\n",
      "ukrainian advance kyiv oblast russian equipment destroy artillery drone uaf film russia ukraine\n",
      "ukraine unconvertible ruble worthless russian trickery michael bernstam hooverinst audioboom ukraine\n",
      "ignis fatum february vladimir putin start war human race ww3 die people stop\n",
      "potus cnn msnbc abc cbs skynews dailymailuk masse lose public trust news present false pandemic narrative want believe russia show propaganda shut russian news coverage ukraine crime againt humanity donbass\n",
      "president european parliament roberta metsola announce travel kyiv ukraine tweet way kyiv thursday night expect arrive read\n",
      "sound war ukraine putin call special military operation president zelenskyy say forgive forget ukraine zelenskyy freshvoice resistanceunite wtpblue\n",
      "russia present document germany biological programme ukraine\n",
      "ukraine roundtable doodlebugeye tlav vanessabeeley evakbartlett alextomo\n",
      "baronichita bakersevenzero point keep russia good troop airborne paratrooper vdv location moment strategic importance protect event russia n troop simple attention donbass\n",
      "ukraine russian bmp variant utterly obliterate film advance ukrainian troop likely kyiv oblast\n",
      " ask support ukraine  anonymous  action ukraine freeukraine standwithukraine slavaukraini\n",
      "video come mariupol horrific complete devastation dead body lay street alive look like ghost walk hell russian army army looter rapist murderer\n",
      "ukrainian armed force liberate settlement kherson region seize trophy equipment\n",
      "new ukraine need well air defense system excuse postopinion standwithukraine slavaukraine\n",
      "volodymyr zelenskyy strip general rank head ssu internal security directorate andrei naumov ssu directorate kherson oblast serhiy krivoruchko strip rank\n"
     ]
    },
    {
     "name": "stderr",
     "output_type": "stream",
     "text": [
      "  1%|          | 1604/254626 [00:12<33:29, 125.93it/s]"
     ]
    },
    {
     "name": "stdout",
     "output_type": "stream",
     "text": [
      "report irpin today cnn ukraine russia\n",
      "heart break image people stand line bread child suffer hospital family separation city turn ash street line dead american support putin lack empathy possibly soul ukraine\n",
      "ukrainian theater war day today update briefly focus chernihiv sumy oblast ukrainian force important gain sumy russia prepare long term defense chernihiv oblast ukrainerussianwar ukraine russianukrainianwar\n",
      "win war stand  ukraine ukrainerussiawar mint favourite peace nightingale \n",
      " ukrainian air force like address misinformation publish multiple western medium outlet situation  sky support nato ally  protectuаsky stoprussia ukraineunderattaсk\n",
      "ukraine destroy russian kamaz63968 typhoon k mrap kyiv oblast\n",
      "tweet week ago putin new plan annex kharkiv donbas southern coast russia leave ukraine troop simply regroup return soon concentrate area\n",
      "russia say ukraine crisis reach arctic nato say\n",
      "ander aslund putin respect human life\n",
      " ukrainian air force like address misinformation publish multiple western medium outlet situation  sky support nato ally  protectuаsky stoprussia ukraineunderattaсk\n",
      "world focus ukraine urge un member forget tigray region cut world imperative reject ethiopia effort deny fund investigation voteno tigraycantwait thailandun\n",
      "mariupol guy crazy putinisabutcher\n",
      " ukrainian air force like address misinformation publish multiple western medium outlet situation  sky support nato ally  protectuаsky stoprussia ukraineunderattaсk\n",
      "putin prove african asian continent european americans god narrate future storythey human like imperialism  putin\n",
      "dmytrokuleba kaminski m bless open hearted welcome poland displace ukrainehow invader russia match decency determination year poland humanitarian superpower ukraine defender eu respect \n",
      " wl spot giveaway grab enter    follow twitter badputinnft  like rt post  tag friend  join discord invite friend end 48hrs guy good luck ukraineunderattaсk warinukraine nftgiveaway\n",
      " ukrainian air force like address misinformation publish multiple western medium outlet situation  sky support nato ally  protectuаsky stoprussia ukraineunderattaсk\n",
      "follow conference bwallacemp say country agree supply ukraine lethal weapon thank effort uk   hope result soon wait new delivery expect long range weapon\n",
      "traffic site min ago lviv chernivtsi berdychiv kyiv dnipro budapest buchar warsaw lodz munich hamburg london manchester edinburgh birmingham bangor cardiff barryisland homesforukraine\n",
      "russian btr82a destroy fight nova basan ua force retook\n",
      "year ago ukraine\n",
      "surprise russia impose brutal misery ukraine holodomor famine impose russia ukraine dwarf famine example russian subjugation ukraine mean necessary jpmorgan cembalest\n",
      "un send peacekeeper ukraine help protect urgent humanitarian supply corridor   world leader cower obey putin demand placate stopputin change mind nuke wish eu commission\n"
     ]
    },
    {
     "name": "stderr",
     "output_type": "stream",
     "text": [
      "  1%|          | 1624/254626 [00:12<33:14, 126.86it/s]"
     ]
    },
    {
     "name": "stdout",
     "output_type": "stream",
     "text": [
      "note week evidence syrian ukraine evidence organize contractual recruitment syrian ukraine evidence russia remove heavy weaponry libya syria ukraine unproven biased social medium claim   evidence\n",
      "russia point real threat wmds evidence public biolabsinukraine washington regime chemical biological nuclear civilian population\n",
      "world focus ukraine urge un member forget tigray region cut world imperative reject ethiopia effort deny fund investigation voteno tigraycantwait thailandun\n",
      "good idea toomas ilvestoomas long russia deport ukrainian occupied territory russians allow eu period putinwarcrime putinwarcriminal\n",
      "poll bilibili chinese equivalent youtube ask blame russia ukraine conflict user vote winner iiiiiiiiiiiiis wait guess course thegreattranslationmovement  ukrainerussiawar\n",
      "ukrainian artillery target russian military hardware station residential building russia ukraine\n",
      "russia present new evidence ukraine biolab comment link biden rt russia soviet union biolab ukraine biden\n",
      "  japanese prime minister withdraw sakhalin2 project import gas russia help secure long term low cost stability energy field russia japan europe\n",
      "poll bilibili chinese equivalent youtube ask blame russia ukraine conflict user vote winner iiiiiiiiiiiiis wait guess course thegreattranslationmovement  ukrainerussiawar\n",
      "photo dog leave destroy house near kyiv joyfully meet savior dog russiainvadedukraine saveukraine soldier stoprussia\n",
      "late defence intelligence update situation ukraine march find uk government response standwithukraine \n",
      "ukrainian ambush russian force time vicinity chernihiv msta s spg t72b destroy damage mt lb rare ppru1 ovod m sv mobile air target reconnaissance command center capture\n",
      "ukrainian soldier continue help evacuate people animal kyiv suburb irpin town see heavy fighting early day war ukrainian force claim regain control stoprussia standwithukraine\n",
      "photo social medium main defender beach odessa putin regime terrorist ukraine russia\n",
      "day pledge withdraw troop kyiv region russian force double air strike accord us defense official late ukraine specialreport w bretbai ukraine russia ukrainewar ukrainerussianwar kyiv lviv\n",
      "reuter start place sanction export control india cancel visa democracy paper standwithukraine sanctionindia\n",
      "   evening msg zelenskyyua ukraine endure enemy expect say day think seize entire state stand continue fight\n"
     ]
    },
    {
     "name": "stderr",
     "output_type": "stream",
     "text": [
      "\n"
     ]
    }
   ],
   "source": [
    "pipeline = [\n",
    "        str.lower,\n",
    "        remove_https,\n",
    "        replace_chars,\n",
    "        strip_accents,\n",
    "        normalize_white_space,\n",
    "        get_lemmatizer(nlp),\n",
    "        strip_punctuation,\n",
    "        remove_non_ascii,\n",
    "    ]\n",
    "\n",
    "for index, row in tqdm(\n",
    "    df.iterrows(),\n",
    "    total=len(df),\n",
    "):\n",
    "    text = row['text']\n",
    "    for f in pipeline:\n",
    "        text = f(text)\n",
    "    text_set = set(text)\n",
    "    print(text)\n",
    "    # print(row['text'])\n",
    "    char_set = char_set.union(text_set)\n",
    "    if index > 2000:\n",
    "        break"
   ]
  },
  {
   "cell_type": "markdown",
   "metadata": {},
   "source": [
    "## check"
   ]
  },
  {
   "cell_type": "code",
   "execution_count": 13,
   "metadata": {},
   "outputs": [
    {
     "data": {
      "text/plain": [
       "53"
      ]
     },
     "execution_count": 13,
     "metadata": {},
     "output_type": "execute_result"
    }
   ],
   "source": [
    "len(char_set)"
   ]
  },
  {
   "cell_type": "code",
   "execution_count": 14,
   "metadata": {},
   "outputs": [
    {
     "data": {
      "text/plain": [
       "{' ',\n",
       " '0',\n",
       " '1',\n",
       " '2',\n",
       " '3',\n",
       " '4',\n",
       " '5',\n",
       " '6',\n",
       " '7',\n",
       " '8',\n",
       " '9',\n",
       " 'a',\n",
       " 'b',\n",
       " 'c',\n",
       " 'd',\n",
       " 'e',\n",
       " 'f',\n",
       " 'g',\n",
       " 'h',\n",
       " 'i',\n",
       " 'j',\n",
       " 'k',\n",
       " 'l',\n",
       " 'm',\n",
       " 'n',\n",
       " 'o',\n",
       " 'p',\n",
       " 'q',\n",
       " 'r',\n",
       " 's',\n",
       " 't',\n",
       " 'u',\n",
       " 'v',\n",
       " 'w',\n",
       " 'x',\n",
       " 'y',\n",
       " 'z',\n",
       " 'а',\n",
       " 'в',\n",
       " 'г',\n",
       " 'д',\n",
       " 'е',\n",
       " 'и',\n",
       " 'л',\n",
       " 'м',\n",
       " 'н',\n",
       " 'о',\n",
       " 'р',\n",
       " 'с',\n",
       " 'т',\n",
       " 'ц',\n",
       " 'ь',\n",
       " 'я'}"
      ]
     },
     "execution_count": 14,
     "metadata": {},
     "output_type": "execute_result"
    }
   ],
   "source": [
    "char_set"
   ]
  },
  {
   "cell_type": "code",
   "execution_count": null,
   "metadata": {},
   "outputs": [],
   "source": [
    "len(char_set)"
   ]
  },
  {
   "cell_type": "code",
   "execution_count": null,
   "metadata": {},
   "outputs": [],
   "source": [
    "'誌'.isalnum()"
   ]
  },
  {
   "cell_type": "code",
   "execution_count": null,
   "metadata": {},
   "outputs": [],
   "source": [
    "char_set"
   ]
  },
  {
   "cell_type": "code",
   "execution_count": null,
   "metadata": {},
   "outputs": [],
   "source": [
    "df[0:2].T"
   ]
  },
  {
   "cell_type": "markdown",
   "metadata": {},
   "source": [
    "# Test Small"
   ]
  },
  {
   "cell_type": "code",
   "execution_count": null,
   "metadata": {},
   "outputs": [],
   "source": [
    "hg = HashGenerator()\n",
    "docs = [\n",
    "    \"Lincoln was born into poverty in a log cabin in Kentucky and was raised on the frontier, primarily in Indiana. He was self-educated and became a lawyer, Whig Party leader, Illinois state legislator, and U.S. Congressman from Illinois. In 1849, he returned to his law practice but became vexed by the opening of additional lands to slavery as a result of the Kansas–Nebraska Act of 1854. He reentered politics in 1854, becoming a leader in the new Republican Party, and he reached a national audience in the 1858 Senate campaign debates against Stephen Douglas. Lincoln ran for President in 1860, sweeping the North to gain victory. Pro-slavery elements in the South viewed his election as a threat to slavery, and Southern states began seceding from the Union. During this time the newly formed Confederate States of America began seizing federal military bases in the south. Just over one month after Lincoln assumed the presidency, the Confederate States attacked Fort Sumter, a U.S. fort in South Carolina. Following the bombardment, Lincoln mobilized forces to suppress the rebellion and restore the Union.\",\n",
    "    \"Abraham Lincoln was born on February 12, 1809, the second child of Thomas Lincoln and Nancy Hanks Lincoln, in a log cabin on Sinking Spring Farm near Hodgenville, Kentucky.[2] He was a descendant of Samuel Lincoln, an Englishman who migrated from Hingham, Norfolk, to its namesake, Hingham, Massachusetts, in 1638. The family then migrated west, passing through New Jersey, Pennsylvania, and Virginia.[3] Lincoln's paternal grandparents, his namesake Captain Abraham Lincoln and wife Bathsheba (née Herring) moved the family from Virginia to Jefferson County, Kentucky.[b] The captain was killed in an Indian raid in 1786.[5] His children, including eight-year-old Thomas, Abraham's father, witnessed the attack.[6][c] Thomas then worked at odd jobs in Kentucky and Tennessee before the family settled in Hardin County, Kentucky, in the early 1800s.\",\n",
    "    \"A supernova is a powerful and luminous stellar explosion. This transient astronomical event occurs during the last evolutionary stages of a massive star or when a white dwarf is triggered into runaway nuclear fusion. The original object, called the progenitor, either collapses to a neutron star or black hole, or is completely destroyed. The peak optical luminosity of a supernova can be comparable to that of an entire galaxy before fading over several weeks or months. Supernovae are more energetic than novae. In Latin, nova means new, referring astronomically to what appears to be a temporary new bright star. Adding the prefix super- distinguishes supernovae from ordinary novae, which are far less luminous. The word supernova was coined by Walter Baade and Fritz Zwicky in 1929.\",\n",
    "    \"The most recent directly observed supernova in the Milky Way was Kepler's Supernova in 1604, but the remnants of more recent supernovae have been found. Observations of supernovae in other galaxies suggest they occur in the Milky Way on average about three times every century. These supernovae would almost certainly be observable with modern astronomical telescopes. The most recent naked-eye supernova was SN 1987A, the explosion of a blue supergiant star in the Large Magellanic Cloud, a satellite of the Milky Way.\"\n",
    "]"
   ]
  },
  {
   "cell_type": "code",
   "execution_count": null,
   "metadata": {},
   "outputs": [],
   "source": [
    "hg = HashGenerator()\n",
    "docs = [\n",
    "    \"The    pen is     on   the       table\",\n",
    "    \"The cat is eating something on the table\",\n",
    "    \"I watched soccer on television\"\n",
    "]"
   ]
  },
  {
   "cell_type": "code",
   "execution_count": null,
   "metadata": {},
   "outputs": [],
   "source": [
    "model = LSHModel(\n",
    "    k=5,\n",
    "    threshold=0.1,\n",
    "    num_hashes=10,\n",
    "    hash_generator=hg\n",
    ")"
   ]
  },
  {
   "cell_type": "code",
   "execution_count": null,
   "metadata": {},
   "outputs": [],
   "source": [
    "preprocessing_pipeline = [\n",
    "    remove_https,\n",
    "    normalize_white_space,\n",
    "    get_lemmatizer(nlp)\n",
    "]"
   ]
  },
  {
   "cell_type": "code",
   "execution_count": null,
   "metadata": {},
   "outputs": [],
   "source": [
    "for doc in docs:\n",
    "    model.add_document(doc, preprocessing_pipeline)"
   ]
  },
  {
   "cell_type": "code",
   "execution_count": null,
   "metadata": {},
   "outputs": [],
   "source": [
    "model.get_similar_pairs()"
   ]
  },
  {
   "cell_type": "code",
   "execution_count": null,
   "metadata": {},
   "outputs": [],
   "source": [
    "model.check_threshold_on_cm(\n",
    "    model.candidate_pairs,\n",
    "    model.docs_dict,\n",
    "    model.threshold\n",
    ")"
   ]
  },
  {
   "cell_type": "code",
   "execution_count": null,
   "metadata": {},
   "outputs": [],
   "source": [
    "model.docs_dict"
   ]
  },
  {
   "cell_type": "code",
   "execution_count": null,
   "metadata": {},
   "outputs": [],
   "source": [
    "model.signature"
   ]
  },
  {
   "cell_type": "code",
   "execution_count": null,
   "metadata": {},
   "outputs": [],
   "source": [
    "2 ** 32"
   ]
  },
  {
   "cell_type": "code",
   "execution_count": null,
   "metadata": {},
   "outputs": [],
   "source": [
    "2 ** 24"
   ]
  },
  {
   "cell_type": "code",
   "execution_count": null,
   "metadata": {},
   "outputs": [],
   "source": [
    "960 ** 5"
   ]
  },
  {
   "cell_type": "code",
   "execution_count": null,
   "metadata": {},
   "outputs": [],
   "source": [
    "ss = \"#standwithukraine️ #ukraineunderattack #ukrainewillwin #putinisawarcriminal #stopputin #russianukrainianwar #russiagohome #россиясмотри #нетвойне https://t.co/86ixyuetnb america 🇺🇸 is preparing for something worse than the #russianukrainianwar...taiwan 🇹🇼 last month we entered into a new cold war with russia 🇷🇺 what's the best policy for the future of 🇺🇸🇨🇳 relations over taiwan?\""
   ]
  },
  {
   "cell_type": "code",
   "execution_count": null,
   "metadata": {},
   "outputs": [],
   "source": [
    "remove_https(ss)"
   ]
  },
  {
   "cell_type": "code",
   "execution_count": null,
   "metadata": {},
   "outputs": [],
   "source": [
    "ss2 = \"'!''#'' biden ''(biden)\""
   ]
  },
  {
   "cell_type": "code",
   "execution_count": null,
   "metadata": {},
   "outputs": [],
   "source": [
    "strip_punctuation2(ss2)"
   ]
  },
  {
   "cell_type": "code",
   "execution_count": null,
   "metadata": {},
   "outputs": [],
   "source": [
    "def strip_punctuation(doc: str) -> str:\n",
    "    return doc.replace_chars(r'!\"#$%&\\'()*+,-./:;<=>?@[\\\\]^_`{|}~')"
   ]
  },
  {
   "cell_type": "code",
   "execution_count": null,
   "metadata": {},
   "outputs": [],
   "source": []
  }
 ],
 "metadata": {
  "kernelspec": {
   "display_name": "Python 3.9.5 ('tf_p3.9')",
   "language": "python",
   "name": "python3"
  },
  "language_info": {
   "codemirror_mode": {
    "name": "ipython",
    "version": 3
   },
   "file_extension": ".py",
   "mimetype": "text/x-python",
   "name": "python",
   "nbconvert_exporter": "python",
   "pygments_lexer": "ipython3",
   "version": "3.9.5"
  },
  "orig_nbformat": 4,
  "vscode": {
   "interpreter": {
    "hash": "581cf1c8eaff79be0b011c62368efcaf64eb5b63193a1727e5f23ab81cee7c9c"
   }
  }
 },
 "nbformat": 4,
 "nbformat_minor": 2
}
