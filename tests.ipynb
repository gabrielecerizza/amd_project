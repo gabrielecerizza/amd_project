{
 "cells": [
  {
   "cell_type": "code",
   "execution_count": 1,
   "metadata": {},
   "outputs": [],
   "source": [
    "import numpy as np\n",
    "import pandas as pd\n",
    "from tqdm import tqdm"
   ]
  },
  {
   "cell_type": "code",
   "execution_count": 21,
   "metadata": {},
   "outputs": [
    {
     "name": "stderr",
     "output_type": "stream",
     "text": [
      "d:\\Users\\gabri\\anaconda3\\envs\\tf_p3.9\\lib\\site-packages\\IPython\\core\\interactiveshell.py:3012: DtypeWarning: Columns (15) have mixed types.Specify dtype option on import or set low_memory=False.\n",
      "  has_raised = await self.run_ast_nodes(code_ast.body, cell_name,\n"
     ]
    }
   ],
   "source": [
    "import csv\n",
    "filename = r\"E:\\datasets\\ukraine\\0401_UkraineCombinedTweetsDeduped.csv.gzip\"\n",
    "df = pd.read_csv(filename, compression='gzip', index_col=0,encoding='utf-8', quoting=csv.QUOTE_ALL)"
   ]
  },
  {
   "cell_type": "code",
   "execution_count": 23,
   "metadata": {},
   "outputs": [
    {
     "data": {
      "text/plain": [
       "userid                                                     16882774\n",
       "username                                                    Yaniela\n",
       "acctdesc          Animal lover, supports those who fight injusti...\n",
       "location                                                     Hawaii\n",
       "following                                                      1158\n",
       "followers                                                       392\n",
       "totaltweets                                                   88366\n",
       "usercreatedts                            2008-10-21 07:34:04.000000\n",
       "tweetid                                         1509681950042198030\n",
       "tweetcreatedts                           2022-04-01 00:00:00.000000\n",
       "retweetcount                                                   3412\n",
       "text              ⚡The Ukrainian Air Force would like to address...\n",
       "hashtags                                                         []\n",
       "language                                                         en\n",
       "coordinates                                                     NaN\n",
       "favorite_count                                                    0\n",
       "extractedts                              2022-04-01 00:44:20.097867\n",
       "Name: 0, dtype: object"
      ]
     },
     "execution_count": 23,
     "metadata": {},
     "output_type": "execute_result"
    }
   ],
   "source": [
    "df.iloc[0]"
   ]
  }
 ],
 "metadata": {
  "kernelspec": {
   "display_name": "Python 3.9.5 ('tf_p3.9')",
   "language": "python",
   "name": "python3"
  },
  "language_info": {
   "codemirror_mode": {
    "name": "ipython",
    "version": 3
   },
   "file_extension": ".py",
   "mimetype": "text/x-python",
   "name": "python",
   "nbconvert_exporter": "python",
   "pygments_lexer": "ipython3",
   "version": "3.9.5"
  },
  "orig_nbformat": 4,
  "vscode": {
   "interpreter": {
    "hash": "581cf1c8eaff79be0b011c62368efcaf64eb5b63193a1727e5f23ab81cee7c9c"
   }
  }
 },
 "nbformat": 4,
 "nbformat_minor": 2
}
